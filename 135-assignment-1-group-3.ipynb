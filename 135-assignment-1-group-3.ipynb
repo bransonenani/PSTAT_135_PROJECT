{
 "cells": [
  {
   "cell_type": "markdown",
   "id": "fe017c4c-16ad-404f-92fd-6404fe27a629",
   "metadata": {},
   "source": [
    "# Introduction"
   ]
  },
  {
   "cell_type": "markdown",
   "id": "a26e0605-1c98-4153-b57a-173c6e4795e6",
   "metadata": {},
   "source": [
    "In this initial Exploratory Data Analysis, we aim to run through our Data for the two states that we have selected (California and Alaska) and explore the features in each dataset. Through this exploration we want to find possible dependent variables that summarize the data and determine which features might have correlations with these dependent variables. "
   ]
  },
  {
   "cell_type": "code",
   "execution_count": null,
   "id": "0e75e824-cddc-4b42-97f6-c574b52aeab7",
   "metadata": {},
   "outputs": [],
   "source": [
    "from pyspark.sql.functions import *\n",
    "import numpy as np\n",
    "import pandas as pd"
   ]
  },
  {
   "cell_type": "markdown",
   "id": "617a95af-2c70-4683-82a5-e7ecc4886fdd",
   "metadata": {},
   "source": [
    "# Converting Our Files to Parquet"
   ]
  },
  {
   "cell_type": "code",
   "execution_count": null,
   "id": "72746b97-a6ac-448e-a395-5dcd18f4668c",
   "metadata": {},
   "outputs": [],
   "source": [
    "'''\n",
    "fnames = !gsutil ls gs://final_proj_bucket/VM2Uniform/*.zip\n",
    "for one in fnames:\n",
    "    fullpath = one                # gs://pstat135-voter-file/VM2Uniform/VM2Uniform--NY--2021-03-15.zip \n",
    "    gcs_path = !dirname {one}     # [gs://pstat135-voter-file/VM2Uniform]\n",
    "    gcs_path = gcs_path[0]        # gs://pstat135-voter-file/VM2Uniform\n",
    "    filename = !basename {one}    # [VM2Uniform--NY--2021-03-15.zip]\n",
    "    filename = filename[0]        # VM2Uniform--NY--2021-03-15.zip\n",
    "    \n",
    "    # fileroot: VM2Uniform--NY--2021-03-15\n",
    "    # fileext : zip\n",
    "    fileroot, fileext = filename.split('.')   \n",
    "\n",
    "    print(\"##########################\")\n",
    "    print(filename)\n",
    "    print(gcs_path)\n",
    "    print(fileroot, fileext)\n",
    "    \n",
    "    !gsutil -m cp {one} .                     # copy to local disk\n",
    "    !unzip {filename}                         # unzip\n",
    "    !gsutil -m cp {fileroot}* {gcs_path}/     # copy raw files to bucket\n",
    "    # !echo '{fileroot}*'\n",
    "    tabfile = gcs_path+'/'+fileroot+'.tab'    # full path to tab file\n",
    "    pqpath = gcs_path+'/'+fileroot            # parquet file directory\n",
    "    \n",
    "    df = spark.read.csv(tabfile, header = True, sep='\\t') # read tab file\n",
    "    df.write.mode('overwrite').parquet(pqpath)            # write data as parquet file\n",
    "    \n",
    "    !rm /{fileroot}*  \n",
    "'''"
   ]
  },
  {
   "cell_type": "markdown",
   "id": "81ddfe0b-e209-4992-9eb9-5858cd6e70c2",
   "metadata": {},
   "source": [
    "# Creating Dataframes from Parquet Files"
   ]
  },
  {
   "cell_type": "code",
   "execution_count": null,
   "id": "04e322f4-9f5e-4134-a631-14117fbe505f",
   "metadata": {},
   "outputs": [],
   "source": [
    "bucket_dir = 'gs://pstat135-voter-file/VM2Uniform/'\n",
    "AK_df_ezra = spark.read.parquet(bucket_dir + 'VM2Uniform--AK--2021-02-03')\n",
    "CA_df_ezra = spark.read.parquet(bucket_dir + 'VM2Uniform--CA--2021-05-02')"
   ]
  },
  {
   "cell_type": "code",
   "execution_count": 2,
   "id": "f01d4c60-17fb-47ac-81b0-d707765c6dde",
   "metadata": {},
   "outputs": [],
   "source": [
    "bucket_dir = 'gs://pstat135-voter-file/VM2Uniform/'\n",
    "AK_df_branson = spark.read.parquet(bucket_dir + 'VM2Uniform--AK--2021-02-03')\n",
    "CA_df_branson = spark.read.parquet(bucket_dir + 'VM2Uniform--CA--2021-05-02')"
   ]
  },
  {
   "cell_type": "code",
   "execution_count": null,
   "id": "4baeeaba-7053-4dc2-940d-7e8aed1af88f",
   "metadata": {},
   "outputs": [],
   "source": [
    "bucket_dir = 'gs://pstat135-voter-file/VM2Uniform/'\n",
    "AK_df = spark.read.parquet(bucket_dir + 'VM2Uniform--AK--2021-02-03')\n",
    "CA_df = spark.read.parquet(bucket_dir + 'VM2Uniform--CA--2021-05-02')"
   ]
  },
  {
   "cell_type": "markdown",
   "id": "3e153ffe-8eb0-4c4e-b474-c7ef2fe9bf1a",
   "metadata": {},
   "source": [
    "# Explorative Data Analysis (EDA): Alaska Dataframe"
   ]
  },
  {
   "cell_type": "markdown",
   "id": "4f4e4c84-6e0a-41bb-a157-96d0ba5399a0",
   "metadata": {},
   "source": [
    "## Alaska Dataframe Dimensions and Schema"
   ]
  },
  {
   "cell_type": "markdown",
   "id": "8300240d-524d-4022-a7ce-295d9bfcec69",
   "metadata": {},
   "source": [
    "First let's look at the number of rows and columns in our dataframe..."
   ]
  },
  {
   "cell_type": "code",
   "execution_count": null,
   "id": "73cf2e72-dc48-4587-8848-6c9539ad261a",
   "metadata": {},
   "outputs": [],
   "source": [
    "print(\"Number of Rows:    \", AK_df_ezra.count(), \\\n",
    "      \"\\nNumber of Columns: \", len(AK_df_ezra.columns))"
   ]
  },
  {
   "cell_type": "markdown",
   "id": "307f8809-3d62-4301-a049-faf68fb4220d",
   "metadata": {},
   "source": [
    "As we can see for our Alaska dataframe, we have $548,259$ rows and $726$ columns."
   ]
  },
  {
   "cell_type": "markdown",
   "id": "9219c4ea-8428-4ab0-9843-3158e10082ca",
   "metadata": {},
   "source": [
    "Now let us look at all of the features (or column variables) we have available to us in our dataframe..."
   ]
  },
  {
   "cell_type": "code",
   "execution_count": null,
   "id": "35ffeb6d-bbbc-433c-8265-fe9bdf1fdb12",
   "metadata": {},
   "outputs": [],
   "source": [
    "AK_df_ezra.printSchema()"
   ]
  },
  {
   "cell_type": "markdown",
   "id": "0165c0ac-9a90-4dae-9151-619ff14e8365",
   "metadata": {},
   "source": [
    "We clearly have a lot of features (726 to be exact) to consider in this dataframe that we must further understand and explore prior to our feature selection and feature engineering phase."
   ]
  },
  {
   "cell_type": "markdown",
   "id": "ac189bb9-f8ec-4ee8-98d2-3836f22a6c5f",
   "metadata": {},
   "source": [
    "## Location in Alaska and Voter Parties"
   ]
  },
  {
   "cell_type": "markdown",
   "id": "ebd93763-0dac-46d4-9c85-0866bd57afc4",
   "metadata": {},
   "source": [
    "### City of Residence for Voters"
   ]
  },
  {
   "cell_type": "code",
   "execution_count": null,
   "id": "2ec0b18e-4f0a-4936-9095-9821e722f38b",
   "metadata": {},
   "outputs": [],
   "source": [
    "# Number of Distinct Cities\n",
    "AK_df_ezra.select(countDistinct('Residence_Addresses_City')).show()\n",
    "\n",
    "# Number of Distinct Counties\n",
    "AK_df_ezra.select(countDistinct('County').alias(\"Number_of_Counties\")).show()\n",
    "\n",
    "# Number of Voters per each Distinct County\n",
    "AK_votes_per_county = AK_df_ezra.groupBy('County') \\\n",
    "    .agg(countDistinct('LALVOTERID').alias(\"Number_Voters\")) \\\n",
    "    .sort(desc(\"Number_Voters\"))\n",
    "AK_votes_per_county.show(truncate=False)\n",
    "\n",
    "# Number of Distinct Parties\n",
    "AK_df_ezra.select(countDistinct('Parties_Description').alias(\"Number_of_Parties\")).show()\n",
    "\n",
    "# Number of Voters per each Distinct Party\n",
    "AK_votes_per_party = AK_df_ezra.groupBy('Parties_Description') \\\n",
    "    .agg(countDistinct('LALVOTERID').alias(\"Number_Voters\")) \\\n",
    "    .sort(desc(\"Number_Voters\"))\n",
    "AK_votes_per_party.show(truncate=False)\n",
    "\n",
    "# Number of Voters per each Distinct Party in each Distinct County\n",
    "AK_votes_per_partycounty = AK_df_ezra.groupBy('County', 'Parties_Description') \\\n",
    "    .agg(countDistinct('LALVOTERID').alias(\"Number_Voters\")) \\\n",
    "    .sort(desc(\"Number_Voters\"))\n",
    "AK_votes_per_partycounty.show(truncate=False)"
   ]
  },
  {
   "cell_type": "markdown",
   "id": "d78f83c3-356a-431e-8dfa-3bfdda927825",
   "metadata": {},
   "source": [
    "### Distribution of Data"
   ]
  },
  {
   "cell_type": "code",
   "execution_count": null,
   "id": "9ea8ea11-1ab7-4dc8-9b5b-f1f9c437ff39",
   "metadata": {},
   "outputs": [],
   "source": [
    "# Number of Voters per each Distinct County\n",
    "AK_votes_per_county_df = AK_votes_per_county.toPandas()\n",
    "\n",
    "# Number of Voters per each Distinct Party\n",
    "AK_votes_per_party_df = AK_votes_per_party.toPandas()\n",
    "\n",
    "# Number of Voters per each Distinct Party in each Distinct County\n",
    "AK_votes_per_partycounty_df = AK_votes_per_partycounty.toPandas()"
   ]
  },
  {
   "cell_type": "code",
   "execution_count": null,
   "id": "7fa12f21-a40e-4ebe-b860-699759c28d9a",
   "metadata": {},
   "outputs": [],
   "source": [
    "import seaborn as sns\n",
    "import matplotlib.pyplot as plt"
   ]
  },
  {
   "cell_type": "markdown",
   "id": "c0e25b2e-47db-4b06-8239-ce0f6817cb71",
   "metadata": {},
   "source": [
    "#### Number of Voters per each Distinct County"
   ]
  },
  {
   "cell_type": "code",
   "execution_count": null,
   "id": "a2458eb7-5720-47c4-9a4d-7361d57f85e2",
   "metadata": {},
   "outputs": [],
   "source": [
    "AK_votes_per_county_df.head(29)"
   ]
  },
  {
   "cell_type": "code",
   "execution_count": null,
   "id": "12a9c65e-415b-4d59-b2e2-796769ffd3ed",
   "metadata": {},
   "outputs": [],
   "source": [
    "ax1 = sns.barplot(data = AK_votes_per_county_df, \\\n",
    "            x = 'County', \\\n",
    "            y = 'Number_Voters')\n",
    "\n",
    "ax1.set_xticklabels(ax1.get_xticklabels(), rotation=50, ha=\"right\")\n",
    "plt.tight_layout()\n",
    "plt.show()"
   ]
  },
  {
   "cell_type": "markdown",
   "id": "e21ed854-b439-46f7-ba4d-b7afa7b261b4",
   "metadata": {},
   "source": [
    "#### Number of Voters per each Distinct Party"
   ]
  },
  {
   "cell_type": "code",
   "execution_count": null,
   "id": "b451977b-b705-4c9f-b4c1-08bb645a036b",
   "metadata": {},
   "outputs": [],
   "source": [
    "AK_votes_per_party_df.head(9)"
   ]
  },
  {
   "cell_type": "code",
   "execution_count": null,
   "id": "47afb8c5-4e5f-4414-9393-a83445981e9a",
   "metadata": {},
   "outputs": [],
   "source": [
    "ax2 = sns.barplot(data = AK_votes_per_party_df, \\\n",
    "            x = 'Parties_Description', \\\n",
    "            y = 'Number_Voters')\n",
    "\n",
    "ax2.set_xticklabels(ax2.get_xticklabels(), rotation=50, ha=\"right\")\n",
    "plt.tight_layout()\n",
    "plt.show()"
   ]
  },
  {
   "cell_type": "markdown",
   "id": "151c0859-9133-4e5d-9bf3-b3f881ae9d47",
   "metadata": {},
   "source": [
    "#### Number of Voters per each Distinct Party in each Distinct County"
   ]
  },
  {
   "cell_type": "code",
   "execution_count": null,
   "id": "ce1fd99f-e7e7-4cee-94df-2ea597bc4c74",
   "metadata": {},
   "outputs": [],
   "source": [
    "AK_votes_per_partycounty_df"
   ]
  },
  {
   "cell_type": "code",
   "execution_count": null,
   "id": "e583fe92-a735-47f9-97cc-d990512e9016",
   "metadata": {},
   "outputs": [],
   "source": [
    "cols = AK_votes_per_county_df[['County']]\n",
    "cols.head(5)"
   ]
  },
  {
   "cell_type": "code",
   "execution_count": null,
   "id": "16a42d2f-03f8-4397-9e2a-a6673be9dce9",
   "metadata": {},
   "outputs": [],
   "source": [
    "index = ['ANCHORAGE', 'MATANUSKA SUSITNA', \\\n",
    "         'FAIRBANKS NORTH STAR', 'KENAI PENINSULA', \\\n",
    "         'JUNEAU']\n",
    "\n",
    "AK_votes_per_party_df.plot(kind='bar', stacked=True)\n",
    "\n",
    "plt.xlabel('County')\n",
    "plt.ylabel('Number_Voters')\n",
    "\n",
    "plt.title('Number of Voters per each Distinct Party and County')\n",
    "\n",
    "\"\"\"\n",
    "ax3.set_xticklabels(ax3.get_xticklabels(), rotation=50, ha=\"right\")\n",
    "plt.tight_layout()\n",
    "plt.show()\n",
    "\"\"\""
   ]
  },
  {
   "cell_type": "markdown",
   "id": "43daefa8-ab52-4275-9b44-017e6473071a",
   "metadata": {},
   "source": [
    "### Missing Value Handling"
   ]
  },
  {
   "cell_type": "code",
   "execution_count": null,
   "id": "1386c0c3-efb2-48aa-b787-1c546c91cf79",
   "metadata": {},
   "outputs": [],
   "source": [
    "AK_cols_list = AK_df_ezra.columns # list of columns in AK_df\n",
    "\n",
    "def count_missingvals(df, col_list):\n",
    "    \n",
    "    \"\"\"Given dataframe of state voter files and its list of columns, returns the number of missing values\n",
    "    \n",
    "    Args:\n",
    "        df: Dataframe of state voter files \n",
    "            Object type should be the output spark.read.parquet() function\n",
    "        col_list: List of column names\n",
    "            Object type should be the output df.columns\n",
    "            \n",
    "    \n",
    "    Returns:\n",
    "        df2.show(): \n",
    "    \"\"\"\n",
    "    \n",
    "    df2 = df.select([count(when(col(i).contains('None') | \\\n",
    "                                col(i).contains('NULL') | \\\n",
    "                               (col(i) == '') | \\\n",
    "                                col(i).isNull() | \\\n",
    "                                isnan(i), i)).alias(i)\n",
    "                    for i in col_list])\n",
    "    \n",
    "    return df2.show()"
   ]
  },
  {
   "cell_type": "code",
   "execution_count": null,
   "id": "b53607b9-22c0-4774-9b72-1d6fad3b1e35",
   "metadata": {},
   "outputs": [],
   "source": [
    "#index = ['ANCHORAGE', 'MATANUSKA SUSITNA', 'FAIRBANKS NORTH STAR', 'KENAI PENINSULA', 'JUNEAU']count_missingvals(AK_df_ezra, AK_cols_list[:3])"
   ]
  },
  {
   "cell_type": "markdown",
   "id": "3fb18973-2b00-4fc3-a558-5b3994f56757",
   "metadata": {},
   "source": [
    "## Party Affiliation for Age, Gender, Marital Status Voters in Alaska"
   ]
  },
  {
   "cell_type": "code",
   "execution_count": null,
   "id": "b2895496-0a81-45d2-a028-2965e887354d",
   "metadata": {},
   "outputs": [],
   "source": [
    "features_to_include_AK = AK_df_branson.select(['LALVOTERID','Voters_Age','Voters_Gender','MaritalStatus_Description','Parties_Description']).sample(False, 0.75, 42)\n"
   ]
  },
  {
   "cell_type": "code",
   "execution_count": null,
   "id": "1781409d-887c-4834-b1ee-9df3de51f807",
   "metadata": {},
   "outputs": [],
   "source": [
    "features_branson_AK = features_to_include_AK.toPandas()\n"
   ]
  },
  {
   "cell_type": "code",
   "execution_count": null,
   "id": "c44f3189-f0d2-4c26-82d9-e1f5a490d0dc",
   "metadata": {},
   "outputs": [],
   "source": [
    "dropped_na_pandas_AK = features_branson_AK.dropna()\n",
    "# dropped_na_pandas_AK\n",
    "features_branson_AK"
   ]
  },
  {
   "cell_type": "code",
   "execution_count": null,
   "id": "f3e1a9d7-8f0b-4161-bf57-1cf61400247b",
   "metadata": {},
   "outputs": [],
   "source": [
    "dropped_na_pandas_AK.apply(lambda x : pd.factorize(x)[0]).corr()"
   ]
  },
  {
   "cell_type": "markdown",
   "id": "61f2174c-eacb-4125-ad1a-10abb7016b83",
   "metadata": {},
   "source": [
    "Now to get an idea of some of the general patterns, we will use some aggregate functions on our dataframe after dropping the Null values"
   ]
  },
  {
   "cell_type": "code",
   "execution_count": null,
   "id": "886b9081-0bea-4fa7-b5a1-781d016e05b2",
   "metadata": {},
   "outputs": [],
   "source": [
    "gender_count = dropped_na_pandas_AK.groupby('Voters_Gender').agg({'Voters_Gender':'count'})\n",
    "gender_count.rename(columns={\"Voters_Gender\": 'count'})"
   ]
  },
  {
   "cell_type": "code",
   "execution_count": null,
   "id": "47b6554c-428a-4e65-a48d-b1e930a18139",
   "metadata": {},
   "outputs": [],
   "source": [
    "married_count = dropped_na_pandas_AK.groupby('MaritalStatus_Description').agg({'MaritalStatus_Description':'count'})\n",
    "married_count.rename(columns={\"MaritalStatus_Description\": 'count'})"
   ]
  },
  {
   "cell_type": "code",
   "execution_count": null,
   "id": "3a2a1fc7-b7b9-4966-9f1c-558458dd019c",
   "metadata": {},
   "outputs": [],
   "source": [
    "dropped_na_pandas_AK['Parties_Description'].value_counts().plot(kind='bar')\n",
    "plt.title('Count of Voters by Party - Alaska')\n",
    "plt.xlabel('Party Description')\n",
    "plt.ylabel('Count')\n",
    "plt.show()"
   ]
  },
  {
   "cell_type": "code",
   "execution_count": null,
   "id": "b69e145c-13da-4a45-9b1e-b946900c9b51",
   "metadata": {},
   "outputs": [],
   "source": [
    "counts = dropped_na_pandas_AK.groupby(['Voters_Gender', 'Parties_Description']).size().unstack()\n",
    "\n",
    "\n",
    "counts.plot(kind='bar', figsize=(10,6))\n",
    "\n",
    "\n",
    "plt.title('Number of Voters by Gender and Party Description - Alaska')\n",
    "plt.xlabel('Gender')\n",
    "plt.ylabel('Number of Voters')\n",
    "\n",
    "\n",
    "plt.show()"
   ]
  },
  {
   "cell_type": "code",
   "execution_count": null,
   "id": "fc580cfa-5b7e-49b5-bd72-6882c4efd6a0",
   "metadata": {},
   "outputs": [],
   "source": [
    "married_counts = dropped_na_pandas_AK.groupby(['MaritalStatus_Description', 'Parties_Description']).size().unstack()\n",
    "\n",
    "\n",
    "married_counts.plot(kind='bar', figsize=(10,6))\n",
    "\n",
    "\n",
    "plt.title('Marital Status and Party Description')\n",
    "plt.xlabel('Marital Status')\n",
    "plt.ylabel('Number of Voters')\n",
    "\n",
    "\n",
    "plt.show()"
   ]
  },
  {
   "cell_type": "markdown",
   "id": "658e1254-5b9e-48dd-bf75-74f19b6906e2",
   "metadata": {},
   "source": [
    "## Party Affiliation based on Level of Education in Alaska"
   ]
  },
  {
   "cell_type": "code",
   "execution_count": null,
   "id": "6c68775f-ee45-464a-81af-5b06fe8cf24c",
   "metadata": {},
   "outputs": [],
   "source": [
    "#AK_df['Voters_Active'].show(10)\n",
    "\n",
    "#columns = [\"CommericalData_Education\",\"CommercialData_OccupationGroup\",\"CommercialData_Hispanic_Country_Origin\",\"Voters_Active\", \"Parties_Description\"]\n",
    "#df_temp = spark.createDataFrame(data = AK_df, schema = columns)\n",
    "#df_temp.show(truncate=False)\n",
    "\n",
    "#AK_df.select(AK_df[\"CommericalData_Education\"],AK_df[\"CommericalData_OccupationGroup\"], AK_df[\"CommericalData_Hispanic_Country_Origin\"], AK_df[\"Voters_Active\"], AK_df[\"Parties_Descriptions\"]).show(10)  \n",
    "\n",
    "\n",
    "\n",
    "#AK_df[AK_df['CommercialData_Education']].show(10)\n",
    "#filtered_df = AK_df.filter(F.col(['Voters_Active','Parties_Description','CommercialData_Education', 'CommercialData_OccupationGroup', 'CommercialData_Education'])).collect()\n",
    "#AK_df[AK_df[\"CommercialData_Education\"]].head()\n",
    "\n",
    "#new_df = AK_df.filter([\"CommercialData_Education\", \"CommercialData_OccupationGroup\", \"Voters_Active\", \"Parties_Description\"], axis = 1)\n",
    "                      \n",
    "#new_df = pd.DataFrame([AK_df.CommercialData_Education & AK_df.CommercialData_OccupationGroup & AK_df.Voters_Active]).transpose()                      \n",
    "    \n",
    "new_df = AK_df.select(\"CommercialData_Education\", \"CommercialData_OccupationGroup\", \"Voters_Active\", \"Parties_Description\")\n",
    "new_df.show()\n",
    "pandas_new_df = new_df.toPandas()\n",
    "\n",
    "pd.crosstab(pandas_new_df['Parties_Description'], pandas_new_df['CommercialData_Education'])\n",
    "\n",
    "\n",
    "\n",
    "\n",
    "    \n"
   ]
  },
  {
   "cell_type": "code",
   "execution_count": null,
   "id": "b9936d28-e19e-417d-95b7-43edb4479011",
   "metadata": {},
   "outputs": [],
   "source": [
    "pd.crosstab(pandas_new_df['Parties_Description'], pandas_new_df['CommercialData_Education']).plot.bar(stacked=True)\n"
   ]
  },
  {
   "cell_type": "markdown",
   "id": "6f4f8e2a-bf06-46d5-8ee0-b288ef38ba92",
   "metadata": {},
   "source": [
    "## Voter Activity based on Voter Occupation in Alaska"
   ]
  },
  {
   "cell_type": "code",
   "execution_count": null,
   "id": "672ea0f9-03df-4fda-a72e-cb67497390ca",
   "metadata": {},
   "outputs": [],
   "source": [
    "pd.crosstab(pandas_new_df['Voters_Active'], pandas_new_df['CommercialData_OccupationGroup'])"
   ]
  },
  {
   "cell_type": "code",
   "execution_count": null,
   "id": "e567c840-24bc-4d41-970e-4e91a322aadd",
   "metadata": {},
   "outputs": [],
   "source": [
    "pd.crosstab(pandas_new_df['Voters_Active'], pandas_new_df['CommercialData_OccupationGroup']).plot.bar(stacked = True)"
   ]
  },
  {
   "cell_type": "markdown",
   "id": "9fce7969-ab5b-4236-82eb-38f15c36d729",
   "metadata": {},
   "source": [
    "# Explorative Data Analysis (EDA): California Dataframe"
   ]
  },
  {
   "cell_type": "markdown",
   "id": "0792884f-2559-430f-a345-65a3e8d59b62",
   "metadata": {},
   "source": [
    "## California Dataframe Dimensions and Schema"
   ]
  },
  {
   "cell_type": "markdown",
   "id": "3f588add-27be-4727-a1e3-517b7d762fcb",
   "metadata": {},
   "source": [
    "First let's look at the number of rows and columns in our dataframe..."
   ]
  },
  {
   "cell_type": "code",
   "execution_count": null,
   "id": "4d936ba4-63c6-4f12-906e-9ed18f482e93",
   "metadata": {},
   "outputs": [],
   "source": [
    "print(\"Number of Rows:    \", CA_df_ezra.count(), \\\n",
    "      \"\\nNumber of Columns: \", len(CA_df_ezra.columns))"
   ]
  },
  {
   "cell_type": "markdown",
   "id": "03524de2-6d83-4c90-818d-32010b905ce3",
   "metadata": {},
   "source": [
    "As we can see for our California dataframe, we have $21,779,518$ rows and $726$ columns."
   ]
  },
  {
   "cell_type": "markdown",
   "id": "aca5e902-e23c-474c-a83f-c1f42e38e92d",
   "metadata": {},
   "source": [
    "Now let us look at all of the features (or column variables) we have available to us in our dataframe..."
   ]
  },
  {
   "cell_type": "code",
   "execution_count": null,
   "id": "d65e9e0c-0e54-4b7f-b933-14beac560d22",
   "metadata": {},
   "outputs": [],
   "source": [
    "#CA_df_ezra.printSchema()"
   ]
  },
  {
   "cell_type": "markdown",
   "id": "1635fe8a-f3cf-493f-bcbe-a1ee30c5ba9d",
   "metadata": {},
   "source": [
    "We clearly have a lot of features (726 to be exact) to consider in this dataframe that we must further understand and explore prior to our feature selection and feature engineering phase."
   ]
  },
  {
   "cell_type": "markdown",
   "id": "44f279c0-f0dd-4b59-902c-021114f24095",
   "metadata": {},
   "source": [
    "## Location in California and Voter Party"
   ]
  },
  {
   "cell_type": "markdown",
   "id": "0f552fe3-d070-4045-a526-99a8e6aa9a1c",
   "metadata": {},
   "source": [
    "### City of Residence for Voters"
   ]
  },
  {
   "cell_type": "code",
   "execution_count": null,
   "id": "19e8e808-8158-41e8-b3fa-e4866f701222",
   "metadata": {},
   "outputs": [],
   "source": [
    "# Number of Distinct Cities\n",
    "CA_df_ezra.select(countDistinct('Residence_Addresses_City')).show()\n",
    "\n",
    "# Number of Distinct Counties\n",
    "CA_df_ezra.select(countDistinct('County').alias(\"Number_of_Counties\")).show()\n",
    "\n",
    "# Number of Voters per each Distinct County\n",
    "CA_votes_per_county = CA_df_ezra.groupBy('County') \\\n",
    "    .agg(countDistinct('LALVOTERID').alias(\"Number_Voters\")) \\\n",
    "    .sort(desc(\"Number_Voters\"))\n",
    "CA_votes_per_county.show(truncate=False)\n",
    "\n",
    "# Number of Distinct Parties\n",
    "CA_df_ezra.select(countDistinct('Parties_Description').alias(\"Number_of_Parties\")).show()\n",
    "\n",
    "# Number of Voters per each Distinct Party\n",
    "CA_votes_per_party = CA_df_ezra.groupBy('Parties_Description') \\\n",
    "    .agg(countDistinct('LALVOTERID').alias(\"Number_Voters\")) \\\n",
    "    .sort(desc(\"Number_Voters\"))\n",
    "CA_votes_per_party.show(truncate=False)\n",
    "\n",
    "# Number of Voters per each Distinct Party in each Distinct County\n",
    "CA_votes_per_partycounty = CA_df_ezra.groupBy('County', 'Parties_Description') \\\n",
    "    .agg(countDistinct('LALVOTERID').alias(\"Number_Voters\")) \\\n",
    "    .sort(desc(\"Number_Voters\"))\n",
    "CA_votes_per_partycounty.show(truncate=False)"
   ]
  },
  {
   "cell_type": "markdown",
   "id": "af090d9a-0f07-4f06-a665-935a7eea0327",
   "metadata": {},
   "source": [
    "### Distribution of Data"
   ]
  },
  {
   "cell_type": "code",
   "execution_count": null,
   "id": "fc70662d-e001-47bc-b782-095a725a35d8",
   "metadata": {},
   "outputs": [],
   "source": [
    "# Number of Voters per each Distinct County\n",
    "CA_votes_per_county_df = CA_votes_per_county.toPandas()\n",
    "\n",
    "# Number of Voters per each Distinct Party\n",
    "CA_votes_per_party_df = CA_votes_per_party.toPandas()\n",
    "\n",
    "# Number of Voters per each Distinct Party in each Distinct County\n",
    "CA_votes_per_partycounty_df = CA_votes_per_partycounty.toPandas()"
   ]
  },
  {
   "cell_type": "markdown",
   "id": "5ad6564b-d3a0-490a-80b1-ed88988bab04",
   "metadata": {},
   "source": [
    "#### Number of Voters per each Distinct County"
   ]
  },
  {
   "cell_type": "code",
   "execution_count": null,
   "id": "dc2fef2e-7ad5-45cf-8929-ef7368cc703e",
   "metadata": {},
   "outputs": [],
   "source": [
    "CA_votes_per_county_df.head(29)"
   ]
  },
  {
   "cell_type": "code",
   "execution_count": null,
   "id": "d653b31f-a238-4861-9737-3336d59fe507",
   "metadata": {},
   "outputs": [],
   "source": [
    "ax1 = sns.barplot(data = CA_votes_per_county_df, \\\n",
    "            x = 'County', \\\n",
    "            y = 'Number_Voters')\n",
    "\n",
    "ax1.set_xticklabels(ax1.get_xticklabels(), rotation=90, ha=\"right\")\n",
    "plt.tight_layout()\n",
    "plt.show()"
   ]
  },
  {
   "cell_type": "markdown",
   "id": "f4979084-6ee5-41a2-ae7e-81a30f61c93a",
   "metadata": {},
   "source": [
    "#### Number of Voters per each Distinct Party"
   ]
  },
  {
   "cell_type": "code",
   "execution_count": null,
   "id": "f494d64b-756f-407e-95dd-08d42908ad40",
   "metadata": {},
   "outputs": [],
   "source": [
    "CA_votes_per_party_df.head(9)"
   ]
  },
  {
   "cell_type": "code",
   "execution_count": null,
   "id": "91b1bc13-09ef-4a0d-b6d9-2e867721e679",
   "metadata": {},
   "outputs": [],
   "source": [
    "ax2 = sns.barplot(data = CA_votes_per_party_df, \\\n",
    "            x = 'Parties_Description', \\\n",
    "            y = 'Number_Voters')\n",
    "\n",
    "ax2.set_xticklabels(ax2.get_xticklabels(), rotation=50, ha=\"right\")\n",
    "plt.tight_layout()\n",
    "plt.show()"
   ]
  },
  {
   "cell_type": "markdown",
   "id": "865a1cce-7cce-46ec-a98e-a37cbfc8cec8",
   "metadata": {},
   "source": [
    "#### Number of Voters per each Distinct Party in each Distinct County"
   ]
  },
  {
   "cell_type": "code",
   "execution_count": null,
   "id": "ccc4bd9a-a346-402c-8f98-6dbb9025d8c9",
   "metadata": {},
   "outputs": [],
   "source": [
    "CA_votes_per_partycounty_df"
   ]
  },
  {
   "cell_type": "code",
   "execution_count": null,
   "id": "ea100630-5cfa-4538-ad54-31b590cd2010",
   "metadata": {},
   "outputs": [],
   "source": [
    "cols = CA_votes_per_county_df[['County']]\n",
    "cols.head(5)"
   ]
  },
  {
   "cell_type": "code",
   "execution_count": null,
   "id": "17ab31b3-4acc-4cfe-bc13-0463894c31fa",
   "metadata": {},
   "outputs": [],
   "source": [
    "index = ['ANCHORAGE', 'MATANUSKA SUSITNA', \\\n",
    "         'FAIRBANKS NORTH STAR', 'KENAI PENINSULA', \\\n",
    "         'JUNEAU']\n",
    "\n",
    "CA_votes_per_party_df.plot(kind='bar', stacked=True)\n",
    "\n",
    "plt.xlabel('County')\n",
    "plt.ylabel('Number_Voters')\n",
    "\n",
    "plt.title('Number of Voters per each Distinct Party and County')\n",
    "\n",
    "\"\"\"\n",
    "ax3.set_xticklabels(ax3.get_xticklabels(), rotation=50, ha=\"right\")\n",
    "plt.tight_layout()\n",
    "plt.show()\n",
    "\"\"\""
   ]
  },
  {
   "cell_type": "markdown",
   "id": "e9737ccc-225d-4842-a68e-904c4a7f1b4a",
   "metadata": {},
   "source": [
    "### Missing Value Handling"
   ]
  },
  {
   "cell_type": "code",
   "execution_count": null,
   "id": "858f0523-e336-46ed-9b3c-0a45f26ccd5b",
   "metadata": {},
   "outputs": [],
   "source": [
    "CA_cols_list = CA_df_ezra.columns # list of columns in CA_df\n",
    "\n",
    "def count_missingvals(df, col_list):\n",
    "    \n",
    "    \"\"\"Given dataframe of state voter files and its list of columns, returns the number of missing values\n",
    "    \n",
    "    Args:\n",
    "        df: Dataframe of state voter files \n",
    "            Object type should be the output spark.read.parquet() function\n",
    "        col_list: List of column names\n",
    "            Object type should be the output df.columns\n",
    "            \n",
    "    \n",
    "    Returns:\n",
    "        df2.show(): \n",
    "    \"\"\"\n",
    "    \n",
    "    df2 = df.select([count(when(col(i).contains('None') | \\\n",
    "                                col(i).contains('NULL') | \\\n",
    "                               (col(i) == '') | \\\n",
    "                                col(i).isNull() | \\\n",
    "                                isnan(i), i)).alias(i)\n",
    "                    for i in col_list])\n",
    "    \n",
    "    return df2.show()"
   ]
  },
  {
   "cell_type": "code",
   "execution_count": null,
   "id": "65469266-2220-4bf8-809d-4fad14794839",
   "metadata": {},
   "outputs": [],
   "source": [
    "#count_missingvals(CA_df_ezra, CA_cols_list[:3])"
   ]
  },
  {
   "cell_type": "markdown",
   "id": "973721cb-4523-4f4c-8996-f5496d0a05d4",
   "metadata": {},
   "source": [
    "## Party Affiliation for Age, Gender, Marital Status Voters in California"
   ]
  },
  {
   "cell_type": "code",
   "execution_count": null,
   "id": "4cd9c484-6e20-460f-a1e8-578940c2f8b5",
   "metadata": {},
   "outputs": [],
   "source": [
    "california_columns = CA_df_branson.columns"
   ]
  },
  {
   "cell_type": "code",
   "execution_count": null,
   "id": "1b62381f-212b-459d-908b-43e626ea5f37",
   "metadata": {},
   "outputs": [],
   "source": [
    "california_columns\n",
    "#Let's Select a Dependent Variable \n",
    "\n",
    "dependent_variable_branson = CA_df_branson.select('Parties_Description')\n",
    "dependent_variable_branson.show()\n",
    "\n",
    "#This gives us an idea of the type of data we are working with for our dependent variable"
   ]
  },
  {
   "cell_type": "code",
   "execution_count": null,
   "id": "cc5947b6-302f-496a-8a6d-f50d6d3c15b5",
   "metadata": {},
   "outputs": [],
   "source": [
    "#Now we want to select features of interest that we want to include for our exploration\n",
    "\n",
    "features_to_include_CA = CA_df_branson.select(['LALVOTERID','Voters_Age','Voters_Gender','MilitaryStatus_Description','MaritalStatus_Description','Parties_Description']).sample(False, 0.5, 42)\n"
   ]
  },
  {
   "cell_type": "code",
   "execution_count": null,
   "id": "0b443ac7-a9c2-477b-9840-03f2e8b38e86",
   "metadata": {},
   "outputs": [],
   "source": [
    "features_branson_CA = features_to_include_CA.toPandas()\n"
   ]
  },
  {
   "cell_type": "code",
   "execution_count": null,
   "id": "48be8e7c-e998-4843-ba5d-ba1dd312bb02",
   "metadata": {},
   "outputs": [],
   "source": [
    "features_branson_CA"
   ]
  },
  {
   "cell_type": "code",
   "execution_count": null,
   "id": "99e99a40-ced7-4569-ad59-a0c903903b0a",
   "metadata": {},
   "outputs": [],
   "source": [
    "dropped_na_pandas_CA = features_branson_CA.dropna()\n",
    "\n"
   ]
  },
  {
   "cell_type": "code",
   "execution_count": null,
   "id": "fc41249d-c26a-4b69-8eee-174cde82e0c4",
   "metadata": {},
   "outputs": [],
   "source": [
    "dropped_na_pandas_CA.head()"
   ]
  },
  {
   "cell_type": "markdown",
   "id": "ac4e2987-e91c-4b0d-9772-f47b55ff2971",
   "metadata": {},
   "source": [
    "## Looking for Correlations"
   ]
  },
  {
   "cell_type": "code",
   "execution_count": null,
   "id": "cf843988-0d54-4ada-ab91-176beaa452de",
   "metadata": {},
   "outputs": [],
   "source": [
    "dropped_na_pandas_CA.apply(lambda x : pd.factorize(x)[0]).corr(method='spearman')"
   ]
  },
  {
   "cell_type": "markdown",
   "id": "195ea488-1f4a-4a48-8886-4b0a69df69d8",
   "metadata": {},
   "source": [
    "Now to get an idea of some of the general patterns, we will use some aggregate functions on our dataframe after dropping the Null values"
   ]
  },
  {
   "cell_type": "code",
   "execution_count": null,
   "id": "2309f9e1-df32-4192-9176-6c1dee1c8869",
   "metadata": {},
   "outputs": [],
   "source": [
    "military_count = dropped_na_pandas_CA.groupby('MilitaryStatus_Description').agg({'MilitaryStatus_Description':'count'})\n",
    "military_count.rename(columns={\"MilitaryStatus_Description\": 'count'})"
   ]
  },
  {
   "cell_type": "code",
   "execution_count": null,
   "id": "6fc5cb8d-82cc-41c9-9f4e-86f08380c9c4",
   "metadata": {},
   "outputs": [],
   "source": [
    "gender_count = dropped_na_pandas_CA.groupby('Voters_Gender').agg({'Voters_Gender':'count'})\n",
    "gender_count.rename(columns={\"Voters_Gender\": 'count'})"
   ]
  },
  {
   "cell_type": "code",
   "execution_count": null,
   "id": "e49b67a9-e68c-499c-9e1a-e733e45e5758",
   "metadata": {},
   "outputs": [],
   "source": [
    "married_count = dropped_na_pandas_CA.groupby('MaritalStatus_Description').agg({'MaritalStatus_Description':'count'})\n",
    "married_count.rename(columns={\"MaritalStatus_Description\": 'count'})"
   ]
  },
  {
   "cell_type": "code",
   "execution_count": null,
   "id": "2642c1ab-9b02-48cb-8806-77784a747521",
   "metadata": {},
   "outputs": [],
   "source": [
    "dropped_na_pandas_CA['Parties_Description'].value_counts().plot(kind='bar')\n",
    "plt.title('Count of Voters by Party')\n",
    "plt.xlabel('Party Description')\n",
    "plt.ylabel('Count')\n",
    "plt.show()"
   ]
  },
  {
   "cell_type": "code",
   "execution_count": null,
   "id": "4c22e398-384e-4d62-8133-ccb06afa31d7",
   "metadata": {},
   "outputs": [],
   "source": [
    "counts = dropped_na_pandas_CA.groupby(['Voters_Gender', 'Parties_Description']).size().unstack()\n",
    "\n",
    "\n",
    "counts.plot(kind='bar', figsize=(10,6))\n",
    "\n",
    "\n",
    "plt.title('Number of Voters by Gender and Party Description')\n",
    "plt.xlabel('Gender')\n",
    "plt.ylabel('Number of Voters')\n",
    "\n",
    "\n",
    "plt.show()"
   ]
  },
  {
   "cell_type": "code",
   "execution_count": null,
   "id": "447f1cbf-72c6-48db-9137-280768d075dd",
   "metadata": {},
   "outputs": [],
   "source": [
    "military_pandas_df = dropped_na_pandas_CA[dropped_na_pandas_CA['MilitaryStatus_Description'] == 'Military']\n",
    "military_counts = military_pandas_df.groupby(['MilitaryStatus_Description', 'Parties_Description']).size().unstack()\n",
    "\n",
    "\n",
    "military_counts.plot(kind='bar', figsize=(10,6))\n",
    "\n",
    "\n",
    "plt.title('Number of Voters in Military and Party Description')\n",
    "plt.xlabel('Military Status')\n",
    "plt.ylabel('Number of Voters')\n",
    "\n",
    "\n",
    "plt.show()"
   ]
  },
  {
   "cell_type": "code",
   "execution_count": null,
   "id": "52bf74cb-5c58-4450-b720-41447fa6d8b9",
   "metadata": {},
   "outputs": [],
   "source": [
    "\n",
    "married_counts = dropped_na_pandas_CA.groupby(['MaritalStatus_Description', 'Parties_Description']).size().unstack()\n",
    "\n",
    "\n",
    "married_counts.plot(kind='bar', figsize=(10,6))\n",
    "\n",
    "\n",
    "plt.title('Marital Status and Party Description')\n",
    "plt.xlabel('Marital Status')\n",
    "plt.ylabel('Number of Voters')\n",
    "\n",
    "\n",
    "plt.show()"
   ]
  },
  {
   "cell_type": "markdown",
   "id": "9f584722-9b6a-4421-a3de-26e992802ec3",
   "metadata": {},
   "source": [
    "## Party Affiliation based on Level of Education in California"
   ]
  },
  {
   "cell_type": "code",
   "execution_count": null,
   "id": "20e15301-e4ab-42d0-ba23-57c21ee0efbe",
   "metadata": {},
   "outputs": [],
   "source": [
    "from pyspark.sql import functions as F\n",
    "   \n",
    "new_df = CA_df.select(\"CommercialData_Education\", \"CommercialData_OccupationGroup\", \"Voters_Active\", \"Parties_Description\")\n",
    "new_df.show()\n",
    "\n",
    "\n",
    "    \n",
    "    \n"
   ]
  },
  {
   "cell_type": "code",
   "execution_count": null,
   "id": "062b9b12-79ac-46d5-905f-e41903612971",
   "metadata": {},
   "outputs": [],
   "source": [
    "pd.crosstab(pandas_new_df['Parties_Description'], pandas_new_df['CommercialData_Education'])"
   ]
  },
  {
   "cell_type": "markdown",
   "id": "e7cdb1bf-0951-45dc-8681-dd65d3e3e486",
   "metadata": {},
   "source": [
    "We are mainly targeting voters in the largest blue and red states (California and Alaska, respectively), but we require more exploration to narrow down our scope. We have so far focused mainly on party affiliation, personal background, and county of origin."
   ]
  },
  {
   "cell_type": "code",
   "execution_count": null,
   "id": "4952dc89-059d-40cc-90ac-48128ef1f9ac",
   "metadata": {},
   "outputs": [],
   "source": [
    "pandas_new_df"
   ]
  },
  {
   "cell_type": "code",
   "execution_count": null,
   "id": "148707a0-1335-4d8e-8cad-9e608f961944",
   "metadata": {},
   "outputs": [],
   "source": [
    "characteristics_df =CA_df_branson.select(['First''Ethnic_Description','CommercialDataLL_Donates_to_Veterans_Causes','Precinct', 'CommercialDataLL_Gun_Owner','CommercialDataLL_Interest_in_Exercise_Health_In_Household', 'CommercialDataLL_Interest_in_Smoking_In_Household'])"
   ]
  },
  {
   "cell_type": "code",
   "execution_count": null,
   "id": "73f6af8d-21f3-4c7c-a603-ee245cc6cfd5",
   "metadata": {},
   "outputs": [],
   "source": [
    "Voter_information_Df = CA_df_branson.select(['Voters_FirstName','Voters_LastName','County'])\n",
    "voter_info_grouped  = Voter_information_Df.groupBy('County')"
   ]
  },
  {
   "cell_type": "code",
   "execution_count": null,
   "id": "55c45f60-8ccb-4de4-9a92-ce8935eddc83",
   "metadata": {},
   "outputs": [],
   "source": [
    "voter_info_grouped.count().show()"
   ]
  },
  {
   "cell_type": "code",
   "execution_count": null,
   "id": "18ebca39-c4f0-4d81-972c-0fbd68d4a8c2",
   "metadata": {},
   "outputs": [],
   "source": [
    "characteristics_df.printSchema()"
   ]
  },
  {
   "cell_type": "code",
   "execution_count": null,
   "id": "86609f62-c0ba-4535-9ecf-405749a7b868",
   "metadata": {},
   "outputs": [],
   "source": [
    "characteristics_df.filter('Ethnic_Description is NULL').count()"
   ]
  },
  {
   "cell_type": "code",
   "execution_count": null,
   "id": "8cb454ea-4436-4563-86fa-a9b9a310ff7b",
   "metadata": {},
   "outputs": [],
   "source": [
    "characteristics_df.count()"
   ]
  },
  {
   "cell_type": "markdown",
   "id": "4a39c54f-77d8-417a-a805-db09add4876f",
   "metadata": {},
   "source": [
    "We can see here that the dataframe has 1848404 missing rows for Ethnic Description out of 21779518"
   ]
  },
  {
   "cell_type": "code",
   "execution_count": null,
   "id": "d4eb99ab-8ef7-480c-b7f1-b13d69d60157",
   "metadata": {},
   "outputs": [],
   "source": [
    "valid_df = characteristics_df.dropna()"
   ]
  },
  {
   "cell_type": "code",
   "execution_count": null,
   "id": "aead49f4-683a-42ec-9f97-678e462f01c7",
   "metadata": {},
   "outputs": [],
   "source": [
    "valid_df.count()"
   ]
  },
  {
   "cell_type": "markdown",
   "id": "e861284c-ac17-4986-a604-76775e9b5f75",
   "metadata": {},
   "source": [
    "When we drop the NA values from the dataframe we only have 14066 rows which means that we had a lot of missing data"
   ]
  },
  {
   "cell_type": "markdown",
   "id": "1d7b1d36-0358-41ce-8c26-a05849a3e8cc",
   "metadata": {},
   "source": [
    "-So now we want to see what the unique values are for each of the distinct columns to see how to deal with categorical variables"
   ]
  },
  {
   "cell_type": "code",
   "execution_count": null,
   "id": "c9a996a6-7bc9-49b2-9645-e2068f19b524",
   "metadata": {},
   "outputs": [],
   "source": [
    "valid_df.select('Ethnic_Description').distinct().show()"
   ]
  },
  {
   "cell_type": "code",
   "execution_count": null,
   "id": "d0e912e9-2bb7-40ea-a999-ab4e7f23ab2b",
   "metadata": {},
   "outputs": [],
   "source": [
    "vetarans_col_vals = valid_df.select('CommercialDataLL_Donates_to_Veterans_Causes').distinct().collect()"
   ]
  },
  {
   "cell_type": "code",
   "execution_count": null,
   "id": "7fcf2967-5c34-41ab-a681-b64e4a8fdc07",
   "metadata": {},
   "outputs": [],
   "source": [
    "precinct_col_vals = valid_df.select('Precinct').distinct().collect()"
   ]
  },
  {
   "cell_type": "code",
   "execution_count": null,
   "id": "4dd2faf8-2aa8-40c3-8467-8081eadb448d",
   "metadata": {},
   "outputs": [],
   "source": [
    "gunowner_col_vals = valid_df.select('CommercialDataLL_Gun_Owner').distinct().collect()"
   ]
  },
  {
   "cell_type": "code",
   "execution_count": null,
   "id": "eef6d3af-c7ed-4d2b-a6eb-3dc4c4256990",
   "metadata": {},
   "outputs": [],
   "source": [
    "exercise_health_col_vals =valid_df.select('CommercialDataLL_Interest_in_Exercise_Health_In_Household').distinct().collect()"
   ]
  },
  {
   "cell_type": "code",
   "execution_count": null,
   "id": "eb7929cc-0461-4612-a6ce-4749b75314cb",
   "metadata": {},
   "outputs": [],
   "source": [
    "smoking_col_vals = valid_df.select('CommercialDataLL_Interest_in_Smoking_In_Household').distinct().collect()"
   ]
  },
  {
   "cell_type": "code",
   "execution_count": null,
   "id": "3347624d-00fb-4888-a65e-4ed72d87e44c",
   "metadata": {},
   "outputs": [],
   "source": [
    "for x in precinct_col_vals:\n",
    "    print(x[0])"
   ]
  },
  {
   "cell_type": "code",
   "execution_count": null,
   "id": "d98f56a2-7df1-4154-a9da-56a28810045a",
   "metadata": {},
   "outputs": [],
   "source": [
    "smoking_col_vals[0]"
   ]
  },
  {
   "cell_type": "code",
   "execution_count": null,
   "id": "4bba0ddf-24b3-40af-9716-a9f2ff8a9595",
   "metadata": {},
   "outputs": [],
   "source": [
    "gunowner_col_vals"
   ]
  },
  {
   "cell_type": "code",
   "execution_count": null,
   "id": "933ee728-c973-4af6-8f1c-233e62746c2b",
   "metadata": {},
   "outputs": [],
   "source": [
    "returns_df = CA_df_branson.select('ElectionReturns_G10CountyTurnoutAllRegisteredVoters')\n",
    "distinct_vals_returns  = returns_df.distinct()\n",
    "collect1 = distinct_vals_returns.collect()\n",
    "collect1.show()"
   ]
  },
  {
   "cell_type": "code",
   "execution_count": null,
   "id": "f9e90e5c-6f1d-4f2a-bdb7-63d561dcf817",
   "metadata": {},
   "outputs": [],
   "source": [
    "test_df1 = CA_df_branson.select(['County',\"ElectionReturns_G12CountyTurnoutDemocrats\"])"
   ]
  },
  {
   "cell_type": "code",
   "execution_count": null,
   "id": "dab4876c-ac6f-4ba1-ae75-cf4f7e14a210",
   "metadata": {},
   "outputs": [],
   "source": [
    "test_df1"
   ]
  },
  {
   "cell_type": "code",
   "execution_count": null,
   "id": "32cb3d5e-2b44-4e6f-a10a-19e69029cf97",
   "metadata": {},
   "outputs": [],
   "source": []
  }
 ],
 "metadata": {
  "kernelspec": {
   "display_name": "PySpark",
   "language": "python",
   "name": "pyspark"
  },
  "language_info": {
   "codemirror_mode": {
    "name": "ipython",
    "version": 3
   },
   "file_extension": ".py",
   "mimetype": "text/x-python",
   "name": "python",
   "nbconvert_exporter": "python",
   "pygments_lexer": "ipython3",
   "version": "3.8.15"
  }
 },
 "nbformat": 4,
 "nbformat_minor": 5
}