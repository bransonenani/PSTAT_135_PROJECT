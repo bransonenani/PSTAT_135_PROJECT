{
 "cells": [
  {
   "cell_type": "markdown",
   "id": "fe017c4c-16ad-404f-92fd-6404fe27a629",
   "metadata": {},
   "source": [
    "# Introduction"
   ]
  },
  {
   "cell_type": "markdown",
   "id": "a26e0605-1c98-4153-b57a-173c6e4795e6",
   "metadata": {},
   "source": [
    "In this initial Exploratory Data Analysis, we aim to run through our Data for the two states that we have selected (California and Alaska) and explore the features in each dataset. Through this exploration we want to find possible dependent variables that summarize the data and determine which features might have correlations with these dependent variables. "
   ]
  },
  {
   "cell_type": "code",
   "execution_count": 1,
   "id": "0e75e824-cddc-4b42-97f6-c574b52aeab7",
   "metadata": {},
   "outputs": [],
   "source": [
    "from pyspark.sql.functions import *\n",
    "import numpy as np\n",
    "import pandas as pd\n",
    "\n"
   ]
  },
  {
   "cell_type": "code",
   "execution_count": 41,
   "id": "a60aaf05-dbdc-4037-a381-ad7cfa17c2c9",
   "metadata": {},
   "outputs": [],
   "source": []
  },
  {
   "cell_type": "code",
   "execution_count": null,
   "id": "038592fd-ba6d-430b-b828-e90e9071fa6f",
   "metadata": {},
   "outputs": [],
   "source": []
  },
  {
   "cell_type": "markdown",
   "id": "617a95af-2c70-4683-82a5-e7ecc4886fdd",
   "metadata": {},
   "source": [
    "# Converting Our Files to Parquet"
   ]
  },
  {
   "cell_type": "code",
   "execution_count": null,
   "id": "72746b97-a6ac-448e-a395-5dcd18f4668c",
   "metadata": {},
   "outputs": [],
   "source": [
    "'''\n",
    "fnames = !gsutil ls gs://final_proj_bucket/VM2Uniform/*.zip\n",
    "for one in fnames:\n",
    "    fullpath = one                # gs://pstat135-voter-file/VM2Uniform/VM2Uniform--NY--2021-03-15.zip \n",
    "    gcs_path = !dirname {one}     # [gs://pstat135-voter-file/VM2Uniform]\n",
    "    gcs_path = gcs_path[0]        # gs://pstat135-voter-file/VM2Uniform\n",
    "    filename = !basename {one}    # [VM2Uniform--NY--2021-03-15.zip]\n",
    "    filename = filename[0]        # VM2Uniform--NY--2021-03-15.zip\n",
    "    \n",
    "    # fileroot: VM2Uniform--NY--2021-03-15\n",
    "    # fileext : zip\n",
    "    fileroot, fileext = filename.split('.')   \n",
    "\n",
    "    print(\"##########################\")\n",
    "    print(filename)\n",
    "    print(gcs_path)\n",
    "    print(fileroot, fileext)\n",
    "    \n",
    "    !gsutil -m cp {one} .                     # copy to local disk\n",
    "    !unzip {filename}                         # unzip\n",
    "    !gsutil -m cp {fileroot}* {gcs_path}/     # copy raw files to bucket\n",
    "    # !echo '{fileroot}*'\n",
    "    tabfile = gcs_path+'/'+fileroot+'.tab'    # full path to tab file\n",
    "    pqpath = gcs_path+'/'+fileroot            # parquet file directory\n",
    "    \n",
    "    df = spark.read.csv(tabfile, header = True, sep='\\t') # read tab file\n",
    "    df.write.mode('overwrite').parquet(pqpath)            # write data as parquet file\n",
    "    \n",
    "    !rm /{fileroot}*  \n",
    "'''"
   ]
  },
  {
   "cell_type": "markdown",
   "id": "81ddfe0b-e209-4992-9eb9-5858cd6e70c2",
   "metadata": {},
   "source": [
    "# Creating Dataframes from Parquet Files"
   ]
  },
  {
   "cell_type": "code",
   "execution_count": 3,
   "id": "04e322f4-9f5e-4134-a631-14117fbe505f",
   "metadata": {},
   "outputs": [
    {
     "name": "stderr",
     "output_type": "stream",
     "text": [
      "                                                                                \r"
     ]
    }
   ],
   "source": [
    "bucket_dir = 'gs://pstat135-voter-file/VM2Uniform/'\n",
    "AK_df_ezra = spark.read.parquet(bucket_dir + 'VM2Uniform--AK--2021-02-03')\n",
    "CA_df_ezra = spark.read.parquet(bucket_dir + 'VM2Uniform--CA--2021-05-02')"
   ]
  },
  {
   "cell_type": "code",
   "execution_count": 2,
   "id": "f01d4c60-17fb-47ac-81b0-d707765c6dde",
   "metadata": {},
   "outputs": [
    {
     "name": "stderr",
     "output_type": "stream",
     "text": [
      "                                                                                \r"
     ]
    }
   ],
   "source": [
    "bucket_dir = 'gs://pstat135-voter-file/VM2Uniform/'\n",
    "AK_df_branson = spark.read.parquet(bucket_dir + 'VM2Uniform--AK--2021-02-03')\n",
    "CA_df_branson = spark.read.parquet(bucket_dir + 'VM2Uniform--CA--2021-05-02')"
   ]
  },
  {
   "cell_type": "code",
   "execution_count": 12,
   "id": "4baeeaba-7053-4dc2-940d-7e8aed1af88f",
   "metadata": {},
   "outputs": [
    {
     "ename": "Py4JJavaError",
     "evalue": "An error occurred while calling o149.parquet.\n: java.lang.IllegalStateException: Cannot call methods on a stopped SparkContext.\nThis stopped SparkContext was created at:\n\norg.apache.spark.api.java.JavaSparkContext.<init>(JavaSparkContext.scala:58)\nsun.reflect.NativeConstructorAccessorImpl.newInstance0(Native Method)\nsun.reflect.NativeConstructorAccessorImpl.newInstance(NativeConstructorAccessorImpl.java:62)\nsun.reflect.DelegatingConstructorAccessorImpl.newInstance(DelegatingConstructorAccessorImpl.java:45)\njava.lang.reflect.Constructor.newInstance(Constructor.java:423)\npy4j.reflection.MethodInvoker.invoke(MethodInvoker.java:247)\npy4j.reflection.ReflectionEngine.invoke(ReflectionEngine.java:357)\npy4j.Gateway.invoke(Gateway.java:238)\npy4j.commands.ConstructorCommand.invokeConstructor(ConstructorCommand.java:80)\npy4j.commands.ConstructorCommand.execute(ConstructorCommand.java:69)\npy4j.GatewayConnection.run(GatewayConnection.java:238)\njava.lang.Thread.run(Thread.java:750)\n\nThe currently active SparkContext was created at:\n\norg.apache.spark.api.java.JavaSparkContext.<init>(JavaSparkContext.scala:58)\nsun.reflect.NativeConstructorAccessorImpl.newInstance0(Native Method)\nsun.reflect.NativeConstructorAccessorImpl.newInstance(NativeConstructorAccessorImpl.java:62)\nsun.reflect.DelegatingConstructorAccessorImpl.newInstance(DelegatingConstructorAccessorImpl.java:45)\njava.lang.reflect.Constructor.newInstance(Constructor.java:423)\npy4j.reflection.MethodInvoker.invoke(MethodInvoker.java:247)\npy4j.reflection.ReflectionEngine.invoke(ReflectionEngine.java:357)\npy4j.Gateway.invoke(Gateway.java:238)\npy4j.commands.ConstructorCommand.invokeConstructor(ConstructorCommand.java:80)\npy4j.commands.ConstructorCommand.execute(ConstructorCommand.java:69)\npy4j.GatewayConnection.run(GatewayConnection.java:238)\njava.lang.Thread.run(Thread.java:750)\n         \n\tat org.apache.spark.SparkContext.assertNotStopped(SparkContext.scala:118)\n\tat org.apache.spark.SparkContext.defaultParallelism(SparkContext.scala:2500)\n\tat org.apache.spark.sql.execution.datasources.SchemaMergeUtils$.mergeSchemasInParallel(SchemaMergeUtils.scala:60)\n\tat org.apache.spark.sql.execution.datasources.parquet.ParquetFileFormat$.mergeSchemasInParallel(ParquetFileFormat.scala:516)\n\tat org.apache.spark.sql.execution.datasources.parquet.ParquetUtils$.inferSchema(ParquetUtils.scala:107)\n\tat org.apache.spark.sql.execution.datasources.parquet.ParquetFileFormat.inferSchema(ParquetFileFormat.scala:162)\n\tat org.apache.spark.sql.execution.datasources.DataSource.$anonfun$getOrInferFileFormatSchema$11(DataSource.scala:209)\n\tat scala.Option.orElse(Option.scala:447)\n\tat org.apache.spark.sql.execution.datasources.DataSource.getOrInferFileFormatSchema(DataSource.scala:206)\n\tat org.apache.spark.sql.execution.datasources.DataSource.resolveRelation(DataSource.scala:419)\n\tat org.apache.spark.sql.DataFrameReader.loadV1Source(DataFrameReader.scala:325)\n\tat org.apache.spark.sql.DataFrameReader.$anonfun$load$3(DataFrameReader.scala:307)\n\tat scala.Option.getOrElse(Option.scala:189)\n\tat org.apache.spark.sql.DataFrameReader.load(DataFrameReader.scala:307)\n\tat org.apache.spark.sql.DataFrameReader.parquet(DataFrameReader.scala:833)\n\tat sun.reflect.NativeMethodAccessorImpl.invoke0(Native Method)\n\tat sun.reflect.NativeMethodAccessorImpl.invoke(NativeMethodAccessorImpl.java:62)\n\tat sun.reflect.DelegatingMethodAccessorImpl.invoke(DelegatingMethodAccessorImpl.java:43)\n\tat java.lang.reflect.Method.invoke(Method.java:498)\n\tat py4j.reflection.MethodInvoker.invoke(MethodInvoker.java:244)\n\tat py4j.reflection.ReflectionEngine.invoke(ReflectionEngine.java:357)\n\tat py4j.Gateway.invoke(Gateway.java:282)\n\tat py4j.commands.AbstractCommand.invokeMethod(AbstractCommand.java:132)\n\tat py4j.commands.CallCommand.execute(CallCommand.java:79)\n\tat py4j.GatewayConnection.run(GatewayConnection.java:238)\n\tat java.lang.Thread.run(Thread.java:750)\n",
     "output_type": "error",
     "traceback": [
      "\u001b[0;31m---------------------------------------------------------------------------\u001b[0m",
      "\u001b[0;31mPy4JJavaError\u001b[0m                             Traceback (most recent call last)",
      "Cell \u001b[0;32mIn[12], line 2\u001b[0m\n\u001b[1;32m      1\u001b[0m bucket_dir \u001b[38;5;241m=\u001b[39m \u001b[38;5;124m'\u001b[39m\u001b[38;5;124mgs://pstat135-voter-file/VM2Uniform/\u001b[39m\u001b[38;5;124m'\u001b[39m\n\u001b[0;32m----> 2\u001b[0m AK_df \u001b[38;5;241m=\u001b[39m \u001b[43mspark\u001b[49m\u001b[38;5;241;43m.\u001b[39;49m\u001b[43mread\u001b[49m\u001b[38;5;241;43m.\u001b[39;49m\u001b[43mparquet\u001b[49m\u001b[43m(\u001b[49m\u001b[43mbucket_dir\u001b[49m\u001b[43m \u001b[49m\u001b[38;5;241;43m+\u001b[39;49m\u001b[43m \u001b[49m\u001b[38;5;124;43m'\u001b[39;49m\u001b[38;5;124;43mVM2Uniform--AK--2021-02-03\u001b[39;49m\u001b[38;5;124;43m'\u001b[39;49m\u001b[43m)\u001b[49m\n\u001b[1;32m      3\u001b[0m CA_df \u001b[38;5;241m=\u001b[39m spark\u001b[38;5;241m.\u001b[39mread\u001b[38;5;241m.\u001b[39mparquet(bucket_dir \u001b[38;5;241m+\u001b[39m \u001b[38;5;124m'\u001b[39m\u001b[38;5;124mVM2Uniform--CA--2021-05-02\u001b[39m\u001b[38;5;124m'\u001b[39m)\n",
      "File \u001b[0;32m/usr/lib/spark/python/pyspark/sql/readwriter.py:458\u001b[0m, in \u001b[0;36mDataFrameReader.parquet\u001b[0;34m(self, *paths, **options)\u001b[0m\n\u001b[1;32m    453\u001b[0m recursiveFileLookup \u001b[38;5;241m=\u001b[39m options\u001b[38;5;241m.\u001b[39mget(\u001b[38;5;124m'\u001b[39m\u001b[38;5;124mrecursiveFileLookup\u001b[39m\u001b[38;5;124m'\u001b[39m, \u001b[38;5;28;01mNone\u001b[39;00m)\n\u001b[1;32m    454\u001b[0m \u001b[38;5;28mself\u001b[39m\u001b[38;5;241m.\u001b[39m_set_opts(mergeSchema\u001b[38;5;241m=\u001b[39mmergeSchema, pathGlobFilter\u001b[38;5;241m=\u001b[39mpathGlobFilter,\n\u001b[1;32m    455\u001b[0m                recursiveFileLookup\u001b[38;5;241m=\u001b[39mrecursiveFileLookup, modifiedBefore\u001b[38;5;241m=\u001b[39mmodifiedBefore,\n\u001b[1;32m    456\u001b[0m                modifiedAfter\u001b[38;5;241m=\u001b[39mmodifiedAfter)\n\u001b[0;32m--> 458\u001b[0m \u001b[38;5;28;01mreturn\u001b[39;00m \u001b[38;5;28mself\u001b[39m\u001b[38;5;241m.\u001b[39m_df(\u001b[38;5;28;43mself\u001b[39;49m\u001b[38;5;241;43m.\u001b[39;49m\u001b[43m_jreader\u001b[49m\u001b[38;5;241;43m.\u001b[39;49m\u001b[43mparquet\u001b[49m\u001b[43m(\u001b[49m\u001b[43m_to_seq\u001b[49m\u001b[43m(\u001b[49m\u001b[38;5;28;43mself\u001b[39;49m\u001b[38;5;241;43m.\u001b[39;49m\u001b[43m_spark\u001b[49m\u001b[38;5;241;43m.\u001b[39;49m\u001b[43m_sc\u001b[49m\u001b[43m,\u001b[49m\u001b[43m \u001b[49m\u001b[43mpaths\u001b[49m\u001b[43m)\u001b[49m\u001b[43m)\u001b[49m)\n",
      "File \u001b[0;32m/usr/lib/spark/python/lib/py4j-0.10.9-src.zip/py4j/java_gateway.py:1304\u001b[0m, in \u001b[0;36mJavaMember.__call__\u001b[0;34m(self, *args)\u001b[0m\n\u001b[1;32m   1298\u001b[0m command \u001b[38;5;241m=\u001b[39m proto\u001b[38;5;241m.\u001b[39mCALL_COMMAND_NAME \u001b[38;5;241m+\u001b[39m\\\n\u001b[1;32m   1299\u001b[0m     \u001b[38;5;28mself\u001b[39m\u001b[38;5;241m.\u001b[39mcommand_header \u001b[38;5;241m+\u001b[39m\\\n\u001b[1;32m   1300\u001b[0m     args_command \u001b[38;5;241m+\u001b[39m\\\n\u001b[1;32m   1301\u001b[0m     proto\u001b[38;5;241m.\u001b[39mEND_COMMAND_PART\n\u001b[1;32m   1303\u001b[0m answer \u001b[38;5;241m=\u001b[39m \u001b[38;5;28mself\u001b[39m\u001b[38;5;241m.\u001b[39mgateway_client\u001b[38;5;241m.\u001b[39msend_command(command)\n\u001b[0;32m-> 1304\u001b[0m return_value \u001b[38;5;241m=\u001b[39m \u001b[43mget_return_value\u001b[49m\u001b[43m(\u001b[49m\n\u001b[1;32m   1305\u001b[0m \u001b[43m    \u001b[49m\u001b[43manswer\u001b[49m\u001b[43m,\u001b[49m\u001b[43m \u001b[49m\u001b[38;5;28;43mself\u001b[39;49m\u001b[38;5;241;43m.\u001b[39;49m\u001b[43mgateway_client\u001b[49m\u001b[43m,\u001b[49m\u001b[43m \u001b[49m\u001b[38;5;28;43mself\u001b[39;49m\u001b[38;5;241;43m.\u001b[39;49m\u001b[43mtarget_id\u001b[49m\u001b[43m,\u001b[49m\u001b[43m \u001b[49m\u001b[38;5;28;43mself\u001b[39;49m\u001b[38;5;241;43m.\u001b[39;49m\u001b[43mname\u001b[49m\u001b[43m)\u001b[49m\n\u001b[1;32m   1307\u001b[0m \u001b[38;5;28;01mfor\u001b[39;00m temp_arg \u001b[38;5;129;01min\u001b[39;00m temp_args:\n\u001b[1;32m   1308\u001b[0m     temp_arg\u001b[38;5;241m.\u001b[39m_detach()\n",
      "File \u001b[0;32m/usr/lib/spark/python/pyspark/sql/utils.py:111\u001b[0m, in \u001b[0;36mcapture_sql_exception.<locals>.deco\u001b[0;34m(*a, **kw)\u001b[0m\n\u001b[1;32m    109\u001b[0m \u001b[38;5;28;01mdef\u001b[39;00m \u001b[38;5;21mdeco\u001b[39m(\u001b[38;5;241m*\u001b[39ma, \u001b[38;5;241m*\u001b[39m\u001b[38;5;241m*\u001b[39mkw):\n\u001b[1;32m    110\u001b[0m     \u001b[38;5;28;01mtry\u001b[39;00m:\n\u001b[0;32m--> 111\u001b[0m         \u001b[38;5;28;01mreturn\u001b[39;00m \u001b[43mf\u001b[49m\u001b[43m(\u001b[49m\u001b[38;5;241;43m*\u001b[39;49m\u001b[43ma\u001b[49m\u001b[43m,\u001b[49m\u001b[43m \u001b[49m\u001b[38;5;241;43m*\u001b[39;49m\u001b[38;5;241;43m*\u001b[39;49m\u001b[43mkw\u001b[49m\u001b[43m)\u001b[49m\n\u001b[1;32m    112\u001b[0m     \u001b[38;5;28;01mexcept\u001b[39;00m py4j\u001b[38;5;241m.\u001b[39mprotocol\u001b[38;5;241m.\u001b[39mPy4JJavaError \u001b[38;5;28;01mas\u001b[39;00m e:\n\u001b[1;32m    113\u001b[0m         converted \u001b[38;5;241m=\u001b[39m convert_exception(e\u001b[38;5;241m.\u001b[39mjava_exception)\n",
      "File \u001b[0;32m/usr/lib/spark/python/lib/py4j-0.10.9-src.zip/py4j/protocol.py:326\u001b[0m, in \u001b[0;36mget_return_value\u001b[0;34m(answer, gateway_client, target_id, name)\u001b[0m\n\u001b[1;32m    324\u001b[0m value \u001b[38;5;241m=\u001b[39m OUTPUT_CONVERTER[\u001b[38;5;28mtype\u001b[39m](answer[\u001b[38;5;241m2\u001b[39m:], gateway_client)\n\u001b[1;32m    325\u001b[0m \u001b[38;5;28;01mif\u001b[39;00m answer[\u001b[38;5;241m1\u001b[39m] \u001b[38;5;241m==\u001b[39m REFERENCE_TYPE:\n\u001b[0;32m--> 326\u001b[0m     \u001b[38;5;28;01mraise\u001b[39;00m Py4JJavaError(\n\u001b[1;32m    327\u001b[0m         \u001b[38;5;124m\"\u001b[39m\u001b[38;5;124mAn error occurred while calling \u001b[39m\u001b[38;5;132;01m{0}\u001b[39;00m\u001b[38;5;132;01m{1}\u001b[39;00m\u001b[38;5;132;01m{2}\u001b[39;00m\u001b[38;5;124m.\u001b[39m\u001b[38;5;130;01m\\n\u001b[39;00m\u001b[38;5;124m\"\u001b[39m\u001b[38;5;241m.\u001b[39m\n\u001b[1;32m    328\u001b[0m         \u001b[38;5;28mformat\u001b[39m(target_id, \u001b[38;5;124m\"\u001b[39m\u001b[38;5;124m.\u001b[39m\u001b[38;5;124m\"\u001b[39m, name), value)\n\u001b[1;32m    329\u001b[0m \u001b[38;5;28;01melse\u001b[39;00m:\n\u001b[1;32m    330\u001b[0m     \u001b[38;5;28;01mraise\u001b[39;00m Py4JError(\n\u001b[1;32m    331\u001b[0m         \u001b[38;5;124m\"\u001b[39m\u001b[38;5;124mAn error occurred while calling \u001b[39m\u001b[38;5;132;01m{0}\u001b[39;00m\u001b[38;5;132;01m{1}\u001b[39;00m\u001b[38;5;132;01m{2}\u001b[39;00m\u001b[38;5;124m. Trace:\u001b[39m\u001b[38;5;130;01m\\n\u001b[39;00m\u001b[38;5;132;01m{3}\u001b[39;00m\u001b[38;5;130;01m\\n\u001b[39;00m\u001b[38;5;124m\"\u001b[39m\u001b[38;5;241m.\u001b[39m\n\u001b[1;32m    332\u001b[0m         \u001b[38;5;28mformat\u001b[39m(target_id, \u001b[38;5;124m\"\u001b[39m\u001b[38;5;124m.\u001b[39m\u001b[38;5;124m\"\u001b[39m, name, value))\n",
      "\u001b[0;31mPy4JJavaError\u001b[0m: An error occurred while calling o149.parquet.\n: java.lang.IllegalStateException: Cannot call methods on a stopped SparkContext.\nThis stopped SparkContext was created at:\n\norg.apache.spark.api.java.JavaSparkContext.<init>(JavaSparkContext.scala:58)\nsun.reflect.NativeConstructorAccessorImpl.newInstance0(Native Method)\nsun.reflect.NativeConstructorAccessorImpl.newInstance(NativeConstructorAccessorImpl.java:62)\nsun.reflect.DelegatingConstructorAccessorImpl.newInstance(DelegatingConstructorAccessorImpl.java:45)\njava.lang.reflect.Constructor.newInstance(Constructor.java:423)\npy4j.reflection.MethodInvoker.invoke(MethodInvoker.java:247)\npy4j.reflection.ReflectionEngine.invoke(ReflectionEngine.java:357)\npy4j.Gateway.invoke(Gateway.java:238)\npy4j.commands.ConstructorCommand.invokeConstructor(ConstructorCommand.java:80)\npy4j.commands.ConstructorCommand.execute(ConstructorCommand.java:69)\npy4j.GatewayConnection.run(GatewayConnection.java:238)\njava.lang.Thread.run(Thread.java:750)\n\nThe currently active SparkContext was created at:\n\norg.apache.spark.api.java.JavaSparkContext.<init>(JavaSparkContext.scala:58)\nsun.reflect.NativeConstructorAccessorImpl.newInstance0(Native Method)\nsun.reflect.NativeConstructorAccessorImpl.newInstance(NativeConstructorAccessorImpl.java:62)\nsun.reflect.DelegatingConstructorAccessorImpl.newInstance(DelegatingConstructorAccessorImpl.java:45)\njava.lang.reflect.Constructor.newInstance(Constructor.java:423)\npy4j.reflection.MethodInvoker.invoke(MethodInvoker.java:247)\npy4j.reflection.ReflectionEngine.invoke(ReflectionEngine.java:357)\npy4j.Gateway.invoke(Gateway.java:238)\npy4j.commands.ConstructorCommand.invokeConstructor(ConstructorCommand.java:80)\npy4j.commands.ConstructorCommand.execute(ConstructorCommand.java:69)\npy4j.GatewayConnection.run(GatewayConnection.java:238)\njava.lang.Thread.run(Thread.java:750)\n         \n\tat org.apache.spark.SparkContext.assertNotStopped(SparkContext.scala:118)\n\tat org.apache.spark.SparkContext.defaultParallelism(SparkContext.scala:2500)\n\tat org.apache.spark.sql.execution.datasources.SchemaMergeUtils$.mergeSchemasInParallel(SchemaMergeUtils.scala:60)\n\tat org.apache.spark.sql.execution.datasources.parquet.ParquetFileFormat$.mergeSchemasInParallel(ParquetFileFormat.scala:516)\n\tat org.apache.spark.sql.execution.datasources.parquet.ParquetUtils$.inferSchema(ParquetUtils.scala:107)\n\tat org.apache.spark.sql.execution.datasources.parquet.ParquetFileFormat.inferSchema(ParquetFileFormat.scala:162)\n\tat org.apache.spark.sql.execution.datasources.DataSource.$anonfun$getOrInferFileFormatSchema$11(DataSource.scala:209)\n\tat scala.Option.orElse(Option.scala:447)\n\tat org.apache.spark.sql.execution.datasources.DataSource.getOrInferFileFormatSchema(DataSource.scala:206)\n\tat org.apache.spark.sql.execution.datasources.DataSource.resolveRelation(DataSource.scala:419)\n\tat org.apache.spark.sql.DataFrameReader.loadV1Source(DataFrameReader.scala:325)\n\tat org.apache.spark.sql.DataFrameReader.$anonfun$load$3(DataFrameReader.scala:307)\n\tat scala.Option.getOrElse(Option.scala:189)\n\tat org.apache.spark.sql.DataFrameReader.load(DataFrameReader.scala:307)\n\tat org.apache.spark.sql.DataFrameReader.parquet(DataFrameReader.scala:833)\n\tat sun.reflect.NativeMethodAccessorImpl.invoke0(Native Method)\n\tat sun.reflect.NativeMethodAccessorImpl.invoke(NativeMethodAccessorImpl.java:62)\n\tat sun.reflect.DelegatingMethodAccessorImpl.invoke(DelegatingMethodAccessorImpl.java:43)\n\tat java.lang.reflect.Method.invoke(Method.java:498)\n\tat py4j.reflection.MethodInvoker.invoke(MethodInvoker.java:244)\n\tat py4j.reflection.ReflectionEngine.invoke(ReflectionEngine.java:357)\n\tat py4j.Gateway.invoke(Gateway.java:282)\n\tat py4j.commands.AbstractCommand.invokeMethod(AbstractCommand.java:132)\n\tat py4j.commands.CallCommand.execute(CallCommand.java:79)\n\tat py4j.GatewayConnection.run(GatewayConnection.java:238)\n\tat java.lang.Thread.run(Thread.java:750)\n"
     ]
    }
   ],
   "source": [
    "bucket_dir = 'gs://pstat135-voter-file/VM2Uniform/'\n",
    "AK_df = spark.read.parquet(bucket_dir + 'VM2Uniform--AK--2021-02-03')\n",
    "CA_df = spark.read.parquet(bucket_dir + 'VM2Uniform--CA--2021-05-02')"
   ]
  },
  {
   "cell_type": "markdown",
   "id": "3e153ffe-8eb0-4c4e-b474-c7ef2fe9bf1a",
   "metadata": {},
   "source": [
    "# Explorative Data Analysis (EDA): Alaska Dataframe"
   ]
  },
  {
   "cell_type": "markdown",
   "id": "4f4e4c84-6e0a-41bb-a157-96d0ba5399a0",
   "metadata": {},
   "source": [
    "## Alaska Dataframe Dimensions and Schema"
   ]
  },
  {
   "cell_type": "markdown",
   "id": "8300240d-524d-4022-a7ce-295d9bfcec69",
   "metadata": {},
   "source": [
    "First let's look at the number of rows and columns in our dataframe..."
   ]
  },
  {
   "cell_type": "code",
   "execution_count": 4,
   "id": "73cf2e72-dc48-4587-8848-6c9539ad261a",
   "metadata": {},
   "outputs": [
    {
     "name": "stderr",
     "output_type": "stream",
     "text": [
      "[Stage 4:=============================>                             (1 + 1) / 2]\r"
     ]
    },
    {
     "name": "stdout",
     "output_type": "stream",
     "text": [
      "Number of Rows:     548259 \n",
      "Number of Columns:  726\n"
     ]
    },
    {
     "name": "stderr",
     "output_type": "stream",
     "text": [
      "                                                                                \r"
     ]
    }
   ],
   "source": [
    "print(\"Number of Rows:    \", AK_df_ezra.count(), \\\n",
    "      \"\\nNumber of Columns: \", len(AK_df_ezra.columns))"
   ]
  },
  {
   "cell_type": "markdown",
   "id": "307f8809-3d62-4301-a049-faf68fb4220d",
   "metadata": {},
   "source": [
    "As we can see for our Alaska dataframe, we have $548,259$ rows and $726$ columns."
   ]
  },
  {
   "cell_type": "markdown",
   "id": "9219c4ea-8428-4ab0-9843-3158e10082ca",
   "metadata": {},
   "source": [
    "Now let us look at all of the features (or column variables) we have available to us in our dataframe..."
   ]
  },
  {
   "cell_type": "code",
   "execution_count": 5,
   "id": "35ffeb6d-bbbc-433c-8265-fe9bdf1fdb12",
   "metadata": {},
   "outputs": [
    {
     "name": "stdout",
     "output_type": "stream",
     "text": [
      "root\n",
      " |-- SEQUENCE: string (nullable = true)\n",
      " |-- LALVOTERID: string (nullable = true)\n",
      " |-- Voters_Active: string (nullable = true)\n",
      " |-- Voters_StateVoterID: string (nullable = true)\n",
      " |-- Voters_CountyVoterID: string (nullable = true)\n",
      " |-- VoterTelephones_LandlineAreaCode: string (nullable = true)\n",
      " |-- VoterTelephones_Landline7Digit: string (nullable = true)\n",
      " |-- VoterTelephones_LandlineFormatted: string (nullable = true)\n",
      " |-- VoterTelephones_LandlineUnformatted: string (nullable = true)\n",
      " |-- VoterTelephones_LandlineConfidenceCode: string (nullable = true)\n",
      " |-- VoterTelephones_CellPhoneOnly: string (nullable = true)\n",
      " |-- VoterTelephones_CellPhoneFormatted: string (nullable = true)\n",
      " |-- VoterTelephones_CellPhoneUnformatted: string (nullable = true)\n",
      " |-- VoterTelephones_CellConfidenceCode: string (nullable = true)\n",
      " |-- Voters_FirstName: string (nullable = true)\n",
      " |-- Voters_MiddleName: string (nullable = true)\n",
      " |-- Voters_LastName: string (nullable = true)\n",
      " |-- Voters_NameSuffix: string (nullable = true)\n",
      " |-- Residence_Addresses_AddressLine: string (nullable = true)\n",
      " |-- Residence_Addresses_ExtraAddressLine: string (nullable = true)\n",
      " |-- Residence_Addresses_City: string (nullable = true)\n",
      " |-- Residence_Addresses_State: string (nullable = true)\n",
      " |-- Residence_Addresses_Zip: string (nullable = true)\n",
      " |-- Residence_Addresses_ZipPlus4: string (nullable = true)\n",
      " |-- Residence_Addresses_HouseNumber: string (nullable = true)\n",
      " |-- Residence_Addresses_PrefixDirection: string (nullable = true)\n",
      " |-- Residence_Addresses_StreetName: string (nullable = true)\n",
      " |-- Residence_Addresses_Designator: string (nullable = true)\n",
      " |-- Residence_Addresses_SuffixDirection: string (nullable = true)\n",
      " |-- Residence_Addresses_ApartmentNum: string (nullable = true)\n",
      " |-- Residence_Addresses_ApartmentType: string (nullable = true)\n",
      " |-- Residence_Addresses_CassErrStatCode: string (nullable = true)\n",
      " |-- Voters_SequenceZigZag: string (nullable = true)\n",
      " |-- Voters_SequenceOddEven: string (nullable = true)\n",
      " |-- Residence_Addresses_CensusTract: string (nullable = true)\n",
      " |-- Residence_Addresses_CensusBlockGroup: string (nullable = true)\n",
      " |-- Residence_Addresses_CensusBlock: string (nullable = true)\n",
      " |-- Residence_Addresses_Latitude: string (nullable = true)\n",
      " |-- Residence_Addresses_Longitude: string (nullable = true)\n",
      " |-- Residence_Addresses_LatLongAccuracy: string (nullable = true)\n",
      " |-- Residence_Addresses_Property_LandSq_Footage: string (nullable = true)\n",
      " |-- Residence_Addresses_Property_HomeSq_Footage: string (nullable = true)\n",
      " |-- Residence_Addresses_Density: string (nullable = true)\n",
      " |-- Residence_Families_FamilyID: string (nullable = true)\n",
      " |-- Residence_Families_HHCount: string (nullable = true)\n",
      " |-- Residence_HHGender_Description: string (nullable = true)\n",
      " |-- Residence_HHParties_Description: string (nullable = true)\n",
      " |-- Mailing_Addresses_AddressLine: string (nullable = true)\n",
      " |-- Mailing_Addresses_ExtraAddressLine: string (nullable = true)\n",
      " |-- Mailing_Addresses_City: string (nullable = true)\n",
      " |-- Mailing_Addresses_State: string (nullable = true)\n",
      " |-- Mailing_Addresses_Zip: string (nullable = true)\n",
      " |-- Mailing_Addresses_ZipPlus4: string (nullable = true)\n",
      " |-- Mailing_Addresses_HouseNumber: string (nullable = true)\n",
      " |-- Mailing_Addresses_PrefixDirection: string (nullable = true)\n",
      " |-- Mailing_Addresses_StreetName: string (nullable = true)\n",
      " |-- Mailing_Addresses_Designator: string (nullable = true)\n",
      " |-- Mailing_Addresses_SuffixDirection: string (nullable = true)\n",
      " |-- Mailing_Addresses_ApartmentNum: string (nullable = true)\n",
      " |-- Mailing_Addresses_ApartmentType: string (nullable = true)\n",
      " |-- Mailing_Addresses_CassErrStatCode: string (nullable = true)\n",
      " |-- Mailing_Families_FamilyID: string (nullable = true)\n",
      " |-- Mailing_Families_HHCount: string (nullable = true)\n",
      " |-- Mailing_HHGender_Description: string (nullable = true)\n",
      " |-- Mailing_HHParties_Description: string (nullable = true)\n",
      " |-- Voters_Gender: string (nullable = true)\n",
      " |-- Voters_Age: string (nullable = true)\n",
      " |-- Voters_BirthDate: string (nullable = true)\n",
      " |-- DateConfidence_Description: string (nullable = true)\n",
      " |-- Parties_Description: string (nullable = true)\n",
      " |-- VoterParties_Change_Changed_Party: string (nullable = true)\n",
      " |-- Ethnic_Description: string (nullable = true)\n",
      " |-- EthnicGroups_EthnicGroup1Desc: string (nullable = true)\n",
      " |-- CountyEthnic_LALEthnicCode: string (nullable = true)\n",
      " |-- CountyEthnic_Description: string (nullable = true)\n",
      " |-- Religions_Description: string (nullable = true)\n",
      " |-- Voters_CalculatedRegDate: string (nullable = true)\n",
      " |-- Voters_OfficialRegDate: string (nullable = true)\n",
      " |-- Voters_PlaceOfBirth: string (nullable = true)\n",
      " |-- Languages_Description: string (nullable = true)\n",
      " |-- AbsenteeTypes_Description: string (nullable = true)\n",
      " |-- MilitaryStatus_Description: string (nullable = true)\n",
      " |-- MaritalStatus_Description: string (nullable = true)\n",
      " |-- US_Congressional_District: string (nullable = true)\n",
      " |-- AddressDistricts_Change_Changed_CD: string (nullable = true)\n",
      " |-- State_Senate_District: string (nullable = true)\n",
      " |-- AddressDistricts_Change_Changed_SD: string (nullable = true)\n",
      " |-- State_House_District: string (nullable = true)\n",
      " |-- AddressDistricts_Change_Changed_HD: string (nullable = true)\n",
      " |-- State_Legislative_District: string (nullable = true)\n",
      " |-- AddressDistricts_Change_Changed_LD: string (nullable = true)\n",
      " |-- 2001_US_Congressional_District: string (nullable = true)\n",
      " |-- 2001_State_Senate_District: string (nullable = true)\n",
      " |-- 2001_State_House_District: string (nullable = true)\n",
      " |-- 2001_State_Legislative_District: string (nullable = true)\n",
      " |-- County: string (nullable = true)\n",
      " |-- Voters_FIPS: string (nullable = true)\n",
      " |-- AddressDistricts_Change_Changed_County: string (nullable = true)\n",
      " |-- Precinct: string (nullable = true)\n",
      " |-- County_Commissioner_District: string (nullable = true)\n",
      " |-- County_Supervisorial_District: string (nullable = true)\n",
      " |-- County_Legislative_District: string (nullable = true)\n",
      " |-- City: string (nullable = true)\n",
      " |-- City_Council_Commissioner_District: string (nullable = true)\n",
      " |-- City_Ward: string (nullable = true)\n",
      " |-- City_Mayoral_District: string (nullable = true)\n",
      " |-- Town_District: string (nullable = true)\n",
      " |-- Town_Ward: string (nullable = true)\n",
      " |-- Town_Council: string (nullable = true)\n",
      " |-- Village: string (nullable = true)\n",
      " |-- Village_Ward: string (nullable = true)\n",
      " |-- Township: string (nullable = true)\n",
      " |-- Township_Ward: string (nullable = true)\n",
      " |-- Borough: string (nullable = true)\n",
      " |-- Borough_Ward: string (nullable = true)\n",
      " |-- Hamlet_Community_Area: string (nullable = true)\n",
      " |-- 4H_Livestock_District: string (nullable = true)\n",
      " |-- Airport_District: string (nullable = true)\n",
      " |-- Annexation_District: string (nullable = true)\n",
      " |-- Aquatic_Center_District: string (nullable = true)\n",
      " |-- Aquatic_District: string (nullable = true)\n",
      " |-- Assessment_District: string (nullable = true)\n",
      " |-- Bay_Area_Rapid_Transit: string (nullable = true)\n",
      " |-- Board_of_Education_District: string (nullable = true)\n",
      " |-- Board_of_Education_SubDistrict: string (nullable = true)\n",
      " |-- Bonds_District: string (nullable = true)\n",
      " |-- Career_Center: string (nullable = true)\n",
      " |-- Cemetery_District: string (nullable = true)\n",
      " |-- Central_Committee_District: string (nullable = true)\n",
      " |-- Chemical_Control_District: string (nullable = true)\n",
      " |-- City_School_District: string (nullable = true)\n",
      " |-- Coast_Water_District: string (nullable = true)\n",
      " |-- College_Board_District: string (nullable = true)\n",
      " |-- Committee_Super_District: string (nullable = true)\n",
      " |-- Communications_District: string (nullable = true)\n",
      " |-- Community_College: string (nullable = true)\n",
      " |-- Community_College_Commissioner_District: string (nullable = true)\n",
      " |-- Community_College_SubDistrict: string (nullable = true)\n",
      " |-- Community_College_At_Large: string (nullable = true)\n",
      " |-- Community_Council_District: string (nullable = true)\n",
      " |-- Community_Council_SubDistrict: string (nullable = true)\n",
      " |-- Community_Facilities_District: string (nullable = true)\n",
      " |-- Community_Facilities_SubDistrict: string (nullable = true)\n",
      " |-- Community_Hospital_District: string (nullable = true)\n",
      " |-- Community_Planning_Area: string (nullable = true)\n",
      " |-- Community_Service_District: string (nullable = true)\n",
      " |-- Community_Service_SubDistrict: string (nullable = true)\n",
      " |-- Congressional_Township: string (nullable = true)\n",
      " |-- Conservation_District: string (nullable = true)\n",
      " |-- Conservation_SubDistrict: string (nullable = true)\n",
      " |-- Consolidated_Water_District: string (nullable = true)\n",
      " |-- Control_Zone_District: string (nullable = true)\n",
      " |-- Corrections_District: string (nullable = true)\n",
      " |-- County_Board_of_Education_District: string (nullable = true)\n",
      " |-- County_Board_of_Education_SubDistrict: string (nullable = true)\n",
      " |-- County_Community_College_District: string (nullable = true)\n",
      " |-- County_Fire_District: string (nullable = true)\n",
      " |-- County_Hospital_District: string (nullable = true)\n",
      " |-- County_Library_District: string (nullable = true)\n",
      " |-- County_Memorial_District: string (nullable = true)\n",
      " |-- County_Paramedic_District: string (nullable = true)\n",
      " |-- County_Service_Area: string (nullable = true)\n",
      " |-- County_Service_Area_SubDistrict: string (nullable = true)\n",
      " |-- County_Sewer_District: string (nullable = true)\n",
      " |-- County_Superintendent_of_Schools_District: string (nullable = true)\n",
      " |-- County_Unified_School_District: string (nullable = true)\n",
      " |-- County_Water_District: string (nullable = true)\n",
      " |-- County_Water_Landowner_District: string (nullable = true)\n",
      " |-- County_Water_SubDistrict: string (nullable = true)\n",
      " |-- Democratic_Convention_Member: string (nullable = true)\n",
      " |-- Democratic_Zone: string (nullable = true)\n",
      " |-- Designated_Market_Area_DMA: string (nullable = true)\n",
      " |-- District_Attorney: string (nullable = true)\n",
      " |-- Drainage_District: string (nullable = true)\n",
      " |-- Education_Commission_District: string (nullable = true)\n",
      " |-- Educational_Service_District: string (nullable = true)\n",
      " |-- Educational_Service_Subdistrict: string (nullable = true)\n",
      " |-- Election_Commissioner_District: string (nullable = true)\n",
      " |-- Elementary_School_District: string (nullable = true)\n",
      " |-- Elementary_School_SubDistrict: string (nullable = true)\n",
      " |-- Emergency_Communication_911_District: string (nullable = true)\n",
      " |-- Emergency_Communication_911_SubDistrict: string (nullable = true)\n",
      " |-- Enterprise_Zone_District: string (nullable = true)\n",
      " |-- Exempted_Village_School_District: string (nullable = true)\n",
      " |-- EXT_District: string (nullable = true)\n",
      " |-- Facilities_Improvement_District: string (nullable = true)\n",
      " |-- Fire_District: string (nullable = true)\n",
      " |-- Fire_Maintenance_District: string (nullable = true)\n",
      " |-- Fire_Protection_District: string (nullable = true)\n",
      " |-- Fire_Protection_SubDistrict: string (nullable = true)\n",
      " |-- Fire_Protection_Tax_Measure_District: string (nullable = true)\n",
      " |-- Fire_Service_Area_District: string (nullable = true)\n",
      " |-- Fire_SubDistrict: string (nullable = true)\n",
      " |-- Flood_Control_Zone: string (nullable = true)\n",
      " |-- Forest_Preserve: string (nullable = true)\n",
      " |-- Garbage_District: string (nullable = true)\n",
      " |-- Geological_Hazard_Abatement_District: string (nullable = true)\n",
      " |-- Health_District: string (nullable = true)\n",
      " |-- High_School_District: string (nullable = true)\n",
      " |-- High_School_SubDistrict: string (nullable = true)\n",
      " |-- Hospital_District: string (nullable = true)\n",
      " |-- Hospital_SubDistrict: string (nullable = true)\n",
      " |-- Improvement_Landowner_District: string (nullable = true)\n",
      " |-- Independent_Fire_District: string (nullable = true)\n",
      " |-- Irrigation_District: string (nullable = true)\n",
      " |-- Irrigation_SubDistrict: string (nullable = true)\n",
      " |-- Island: string (nullable = true)\n",
      " |-- Judicial_Appellate_District: string (nullable = true)\n",
      " |-- Judicial_Chancery_Court: string (nullable = true)\n",
      " |-- Judicial_Circuit_Court_District: string (nullable = true)\n",
      " |-- Judicial_County_Board_of_Review_District: string (nullable = true)\n",
      " |-- Judicial_County_Court_District: string (nullable = true)\n",
      " |-- Judicial_District: string (nullable = true)\n",
      " |-- Judicial_District_Court_District: string (nullable = true)\n",
      " |-- Judicial_Family_Court_District: string (nullable = true)\n",
      " |-- Judicial_Jury_District: string (nullable = true)\n",
      " |-- Judicial_Juvenile_Court_District: string (nullable = true)\n",
      " |-- Judicial_Magistrate_Division: string (nullable = true)\n",
      " |-- Judicial_Sub_Circuit_District: string (nullable = true)\n",
      " |-- Judicial_Superior_Court_District: string (nullable = true)\n",
      " |-- Judicial_Supreme_Court_District: string (nullable = true)\n",
      " |-- Justice_of_the_Peace: string (nullable = true)\n",
      " |-- Land_Commission: string (nullable = true)\n",
      " |-- Landscaping_And_Lighting_Assessment_Distric: string (nullable = true)\n",
      " |-- Law_Enforcement_District: string (nullable = true)\n",
      " |-- Learning_Community_Coordinating_Council_District: string (nullable = true)\n",
      " |-- Levee_District: string (nullable = true)\n",
      " |-- Levee_Reconstruction_Assesment_District: string (nullable = true)\n",
      " |-- Library_District: string (nullable = true)\n",
      " |-- Library_Services_District: string (nullable = true)\n",
      " |-- Library_SubDistrict: string (nullable = true)\n",
      " |-- Lighting_District: string (nullable = true)\n",
      " |-- Local_Hospital_District: string (nullable = true)\n",
      " |-- Local_Park_District: string (nullable = true)\n",
      " |-- Maintenance_District: string (nullable = true)\n",
      " |-- Master_Plan_District: string (nullable = true)\n",
      " |-- Memorial_District: string (nullable = true)\n",
      " |-- Metro_Service_District: string (nullable = true)\n",
      " |-- Metro_Service_Subdistrict: string (nullable = true)\n",
      " |-- Metro_Transit_District: string (nullable = true)\n",
      " |-- Metropolitan_Water_District: string (nullable = true)\n",
      " |-- Middle_School_District: string (nullable = true)\n",
      " |-- Mosquito_Abatement_District: string (nullable = true)\n",
      " |-- Mountain_Water_District: string (nullable = true)\n",
      " |-- Multi_township_Assessor: string (nullable = true)\n",
      " |-- Municipal_Advisory_Council_District: string (nullable = true)\n",
      " |-- Municipal_Court_District: string (nullable = true)\n",
      " |-- Municipal_Utility_District: string (nullable = true)\n",
      " |-- Municipal_Utility_SubDistrict: string (nullable = true)\n",
      " |-- Municipal_Water_District: string (nullable = true)\n",
      " |-- Municipal_Water_SubDistrict: string (nullable = true)\n",
      " |-- Museum_District: string (nullable = true)\n",
      " |-- Northeast_Soil_and_Water_District: string (nullable = true)\n",
      " |-- Open_Space_District: string (nullable = true)\n",
      " |-- Open_Space_SubDistrict: string (nullable = true)\n",
      " |-- Other: string (nullable = true)\n",
      " |-- Paramedic_District: string (nullable = true)\n",
      " |-- Park_Commissioner_District: string (nullable = true)\n",
      " |-- Park_District: string (nullable = true)\n",
      " |-- Park_SubDistrict: string (nullable = true)\n",
      " |-- Planning_Area_District: string (nullable = true)\n",
      " |-- Police_District: string (nullable = true)\n",
      " |-- Port_District: string (nullable = true)\n",
      " |-- Port_SubDistrict: string (nullable = true)\n",
      " |-- Power_District: string (nullable = true)\n",
      " |-- Proposed_City: string (nullable = true)\n",
      " |-- Proposed_City_Commissioner_District: string (nullable = true)\n",
      " |-- Proposed_Community_College: string (nullable = true)\n",
      " |-- Proposed_District: string (nullable = true)\n",
      " |-- Proposed_Elementary_School_District: string (nullable = true)\n",
      " |-- Proposed_Fire_District: string (nullable = true)\n",
      " |-- Proposed_Unified_School_District: string (nullable = true)\n",
      " |-- Public_Airport_District: string (nullable = true)\n",
      " |-- Public_Regulation_Commission: string (nullable = true)\n",
      " |-- Public_Service_Commission_District: string (nullable = true)\n",
      " |-- Public_Utility_District: string (nullable = true)\n",
      " |-- Public_Utility_SubDistrict: string (nullable = true)\n",
      " |-- Rapid_Transit_District: string (nullable = true)\n",
      " |-- Rapid_Transit_SubDistrict: string (nullable = true)\n",
      " |-- Reclamation_District: string (nullable = true)\n",
      " |-- Recreation_District: string (nullable = true)\n",
      " |-- Recreational_SubDistrict: string (nullable = true)\n",
      " |-- Regional_Office_of_Education_District: string (nullable = true)\n",
      " |-- Republican_Area: string (nullable = true)\n",
      " |-- Republican_Convention_Member: string (nullable = true)\n",
      " |-- Resort_Improvement_District: string (nullable = true)\n",
      " |-- Resource_Conservation_District: string (nullable = true)\n",
      " |-- River_Water_District: string (nullable = true)\n",
      " |-- Road_Maintenance_District: string (nullable = true)\n",
      " |-- Rural_Service_District: string (nullable = true)\n",
      " |-- Sanitary_District: string (nullable = true)\n",
      " |-- Sanitary_SubDistrict: string (nullable = true)\n",
      " |-- School_Board_District: string (nullable = true)\n",
      " |-- School_District: string (nullable = true)\n",
      " |-- School_District_Vocational: string (nullable = true)\n",
      " |-- School_Facilities_Improvement_District: string (nullable = true)\n",
      " |-- School_Subdistrict: string (nullable = true)\n",
      " |-- Service_Area_District: string (nullable = true)\n",
      " |-- Sewer_District: string (nullable = true)\n",
      " |-- Sewer_Maintenance_District: string (nullable = true)\n",
      " |-- Sewer_SubDistrict: string (nullable = true)\n",
      " |-- Snow_Removal_District: string (nullable = true)\n",
      " |-- Soil_And_Water_District: string (nullable = true)\n",
      " |-- Soil_And_Water_District_At_Large: string (nullable = true)\n",
      " |-- Special_Reporting_District: string (nullable = true)\n",
      " |-- Special_Tax_District: string (nullable = true)\n",
      " |-- State_Board_of_Equalization: string (nullable = true)\n",
      " |-- Storm_Water_District: string (nullable = true)\n",
      " |-- Street_Lighting_District: string (nullable = true)\n",
      " |-- Superintendent_of_Schools_District: string (nullable = true)\n",
      " |-- Transit_District: string (nullable = true)\n",
      " |-- Transit_SubDistrict: string (nullable = true)\n",
      " |-- TriCity_Service_District: string (nullable = true)\n",
      " |-- TV_Translator_District: string (nullable = true)\n",
      " |-- Unified_School_District: string (nullable = true)\n",
      " |-- Unified_School_SubDistrict: string (nullable = true)\n",
      " |-- Unincorporated_District: string (nullable = true)\n",
      " |-- Unincorporated_Park_District: string (nullable = true)\n",
      " |-- Unprotected_Fire_District: string (nullable = true)\n",
      " |-- Ute_Creek_Soil_District: string (nullable = true)\n",
      " |-- Vector_Control_District: string (nullable = true)\n",
      " |-- Vote_By_Mail_Area: string (nullable = true)\n",
      " |-- Wastewater_District: string (nullable = true)\n",
      " |-- Water_Agency: string (nullable = true)\n",
      " |-- Water_Agency_SubDistrict: string (nullable = true)\n",
      " |-- Water_Conservation_District: string (nullable = true)\n",
      " |-- Water_Conservation_SubDistrict: string (nullable = true)\n",
      " |-- Water_Control__Water_Conservation: string (nullable = true)\n",
      " |-- Water_Control__Water_Conservation_SubDistrict: string (nullable = true)\n",
      " |-- Water_District: string (nullable = true)\n",
      " |-- Water_Public_Utility_District: string (nullable = true)\n",
      " |-- Water_Public_Utility_Subdistrict: string (nullable = true)\n",
      " |-- Water_Replacement_District: string (nullable = true)\n",
      " |-- Water_Replacement_SubDistrict: string (nullable = true)\n",
      " |-- Water_SubDistrict: string (nullable = true)\n",
      " |-- Weed_District: string (nullable = true)\n",
      " |-- CommercialData_BookBuyerInHome: string (nullable = true)\n",
      " |-- CommercialData_ComputerOwnerInHome: string (nullable = true)\n",
      " |-- CommercialData_CulinaryInterestMagazineInHome: string (nullable = true)\n",
      " |-- CommercialData_DoItYourselferMagazineInHome: string (nullable = true)\n",
      " |-- CommercialData_DonatesEnvironmentCauseInHome: string (nullable = true)\n",
      " |-- CommercialData_DonatesToCharityInHome: string (nullable = true)\n",
      " |-- CommercialData_DwellingType: string (nullable = true)\n",
      " |-- CommercialData_DwellingUnitSize: string (nullable = true)\n",
      " |-- CommercialData_Education: string (nullable = true)\n",
      " |-- CommercialData_EstHomeValue: string (nullable = true)\n",
      " |-- CommercialData_EstimatedHHIncome: string (nullable = true)\n",
      " |-- CommercialData_EstimatedHHIncomeAmount: string (nullable = true)\n",
      " |-- CommercialData_EstimatedAreaMedianHHIncome: string (nullable = true)\n",
      " |-- CommercialData_FamilyMagazineInHome: string (nullable = true)\n",
      " |-- CommercialData_FemaleOrientedMagazineInHome: string (nullable = true)\n",
      " |-- CommercialData_FinancialMagazineInHome: string (nullable = true)\n",
      " |-- CommercialData_GardeningMagazineInHome: string (nullable = true)\n",
      " |-- CommercialData_HealthFitnessMagazineInHome: string (nullable = true)\n",
      " |-- CommercialData_HHComposition: string (nullable = true)\n",
      " |-- CommercialData_HomePurchaseDate: string (nullable = true)\n",
      " |-- CommercialData_HomePurchasePrice: string (nullable = true)\n",
      " |-- CommercialData_ISPSA: string (nullable = true)\n",
      " |-- CommercialData_LandValue: string (nullable = true)\n",
      " |-- CommercialData_LikelyUnion: string (nullable = true)\n",
      " |-- CommercialData_AreaMedianEducationYears: string (nullable = true)\n",
      " |-- CommercialData_AreaMedianHousingValue: string (nullable = true)\n",
      " |-- CommercialData_MosaicZ4: string (nullable = true)\n",
      " |-- CommercialData_MosaicZ4Global: string (nullable = true)\n",
      " |-- CommercialData_Occupation: string (nullable = true)\n",
      " |-- CommercialData_OccupationGroup: string (nullable = true)\n",
      " |-- CommercialData_OccupationIndustry: string (nullable = true)\n",
      " |-- CommercialData_AreaPcntHHMarriedCoupleNoChild: string (nullable = true)\n",
      " |-- CommercialData_AreaPcntHHMarriedCoupleWithChild: string (nullable = true)\n",
      " |-- CommercialData_AreaPcntHHSpanishSpeaking: string (nullable = true)\n",
      " |-- CommercialData_AreaPcntHHWithChildren: string (nullable = true)\n",
      " |-- CommercialData_PoliticalContributerInHome: string (nullable = true)\n",
      " |-- CommercialData_PresenceOfChildrenCode: string (nullable = true)\n",
      " |-- CommercialData_PresenceOfPremCredCrdInHome: string (nullable = true)\n",
      " |-- CommercialData_PropertyType: string (nullable = true)\n",
      " |-- CommercialData_ReligiousContributorInHome: string (nullable = true)\n",
      " |-- CommercialData_ReligiousMagazineInHome: string (nullable = true)\n",
      " |-- CommercialData_StateIncomeDecile: string (nullable = true)\n",
      " |-- CommercialData_UpscaleBuyerInHome: string (nullable = true)\n",
      " |-- CommercialData_UpscaleFemaleBuyerInHome: string (nullable = true)\n",
      " |-- CommercialData_UpscaleMaleBuyerInHome: string (nullable = true)\n",
      " |-- CommercialDataLL_Business_Owner: string (nullable = true)\n",
      " |-- CommercialDataLL_Buyer_Antiques_In_Household: string (nullable = true)\n",
      " |-- CommercialDataLL_Buyer_Art_In_Household: string (nullable = true)\n",
      " |-- CommercialDataLL_Collector_Antiques_In_Household: string (nullable = true)\n",
      " |-- CommercialDataLL_Collector_Arts_In_Household: string (nullable = true)\n",
      " |-- CommercialDataLL_Collector_Avid_In_Household: string (nullable = true)\n",
      " |-- CommercialDataLL_Collector_Coins_In_Household: string (nullable = true)\n",
      " |-- CommercialDataLL_Collector_General_In_Household: string (nullable = true)\n",
      " |-- CommercialDataLL_Collector_Military_In_Household: string (nullable = true)\n",
      " |-- CommercialDataLL_Collector_Sports_In_Household: string (nullable = true)\n",
      " |-- CommercialDataLL_Collector_Stamps_In_Household: string (nullable = true)\n",
      " |-- CommercialDataLL_Donates_to_Animal_Welfare: string (nullable = true)\n",
      " |-- CommercialDataLL_Donates_to_Arts_and_Culture: string (nullable = true)\n",
      " |-- CommercialDataLL_Donates_to_Childrens_Causes: string (nullable = true)\n",
      " |-- CommercialDataLL_Donates_to_Conservative_Causes: string (nullable = true)\n",
      " |-- CommercialDataLL_Donates_to_Healthcare: string (nullable = true)\n",
      " |-- CommercialDataLL_Donates_to_International_Aid_Causes: string (nullable = true)\n",
      " |-- CommercialDataLL_Donates_to_Liberal_Causes: string (nullable = true)\n",
      " |-- CommercialDataLL_Donates_to_Local_Community: string (nullable = true)\n",
      " |-- CommercialDataLL_Donates_to_Veterans_Causes: string (nullable = true)\n",
      " |-- CommercialDataLL_Donates_to_Wildlife_Preservation: string (nullable = true)\n",
      " |-- CommercialDataLL_Gun_Owner: string (nullable = true)\n",
      " |-- CommercialDataLL_Gun_Owner_Concealed_Permit: string (nullable = true)\n",
      " |-- CommercialDataLL_Hispanic_Country_Origin: string (nullable = true)\n",
      " |-- CommercialDataLL_Home_Office: string (nullable = true)\n",
      " |-- CommercialDataLL_Home_Owner_Or_Renter: string (nullable = true)\n",
      " |-- CommercialDataLL_Household_Primary_Language: string (nullable = true)\n",
      " |-- CommercialDataLL_Interest_in_Auto_Work_In_Household: string (nullable = true)\n",
      " |-- CommercialDataLL_Interest_in_Automotive_Parts_Accessories_In_Household: string (nullable = true)\n",
      " |-- CommercialDataLL_Interest_in_Aviation_In_Household: string (nullable = true)\n",
      " |-- CommercialDataLL_Interest_in_BoardGames_Puzzles_In_Household: string (nullable = true)\n",
      " |-- CommercialDataLL_Interest_in_Boating_Sailing_In_Household: string (nullable = true)\n",
      " |-- CommercialDataLL_Interest_in_Camping_Hiking_In_Household: string (nullable = true)\n",
      " |-- CommercialDataLL_Interest_in_Cooking_General_In_Household: string (nullable = true)\n",
      " |-- CommercialDataLL_Interest_in_Cooking_Gourmet_In_Household: string (nullable = true)\n",
      " |-- CommercialDataLL_Interest_in_Crafts_In_Household: string (nullable = true)\n",
      " |-- CommercialDataLL_Interest_in_Current_Affairs_Politics_In_Household: string (nullable = true)\n",
      " |-- CommercialDataLL_Interest_in_Education_Online_In_Household: string (nullable = true)\n",
      " |-- CommercialDataLL_Interest_in_Electronic_Gaming_In_Household: string (nullable = true)\n",
      " |-- CommercialDataLL_Interest_in_Exercise_Aerobic_In_Household: string (nullable = true)\n",
      " |-- CommercialDataLL_Interest_in_Exercise_Health_In_Household: string (nullable = true)\n",
      " |-- CommercialDataLL_Interest_in_Exercise_Running_Jogging_In_Household: string (nullable = true)\n",
      " |-- CommercialDataLL_Interest_in_Exercise_Walking_In_Household: string (nullable = true)\n",
      " |-- CommercialDataLL_Interest_in_Fishing_In_Household: string (nullable = true)\n",
      " |-- CommercialDataLL_Interest_in_Food_Wines_In_Household: string (nullable = true)\n",
      " |-- CommercialDataLL_Interest_in_Foods_Natural_In_Household: string (nullable = true)\n",
      " |-- CommercialDataLL_Interest_in_Gaming_Casino_In_Household: string (nullable = true)\n",
      " |-- CommercialDataLL_Interest_in_Gardening_In_Household: string (nullable = true)\n",
      " |-- CommercialDataLL_Interest_in_Golf_In_Household: string (nullable = true)\n",
      " |-- CommercialDataLL_Interest_in_History_Military_In_Household: string (nullable = true)\n",
      " |-- CommercialDataLL_Interest_in_Home_Furnishings_In_Household: string (nullable = true)\n",
      " |-- CommercialDataLL_Interest_in_Home_Improvement_In_Household: string (nullable = true)\n",
      " |-- CommercialDataLL_Interest_in_Home_Repair_In_Household: string (nullable = true)\n",
      " |-- CommercialDataLL_Interest_in_House_Plants_In_Household: string (nullable = true)\n",
      " |-- CommercialDataLL_Interest_in_Hunting_In_Household: string (nullable = true)\n",
      " |-- CommercialDataLL_Interest_in_Motorcycling_In_Household: string (nullable = true)\n",
      " |-- CommercialDataLL_Interest_in_Musical_Instruments_In_Household: string (nullable = true)\n",
      " |-- CommercialDataLL_Interest_in_Nascar_In_Household: string (nullable = true)\n",
      " |-- CommercialDataLL_Interest_in_Photography_In_Household: string (nullable = true)\n",
      " |-- CommercialDataLL_Interest_in_Photography_Video_In_Household: string (nullable = true)\n",
      " |-- CommercialDataLL_Interest_in_Religious_Inspirational_In_Household: string (nullable = true)\n",
      " |-- CommercialDataLL_Interest_in_Science_Space_In_Household: string (nullable = true)\n",
      " |-- CommercialDataLL_Interest_in_Scuba_Diving_In_Household: string (nullable = true)\n",
      " |-- CommercialDataLL_Interest_in_Sewing_Knitting_In_Household: string (nullable = true)\n",
      " |-- CommercialDataLL_Interest_in_Shooting_In_Household: string (nullable = true)\n",
      " |-- CommercialDataLL_Interest_in_Smoking_In_Household: string (nullable = true)\n",
      " |-- CommercialDataLL_Interest_in_Snow_Skiing_In_Household: string (nullable = true)\n",
      " |-- CommercialDataLL_Interest_in_SpectatorSports_Auto_Racing_In_Household: string (nullable = true)\n",
      " |-- CommercialDataLL_Interest_in_SpectatorSports_Baseball_In_Household: string (nullable = true)\n",
      " |-- CommercialDataLL_Interest_in_SpectatorSports_Basketball_In_Household: string (nullable = true)\n",
      " |-- CommercialDataLL_Interest_in_SpectatorSports_Football_In_Household: string (nullable = true)\n",
      " |-- CommercialDataLL_Interest_in_SpectatorSports_Hockey_In_Household: string (nullable = true)\n",
      " |-- CommercialDataLL_Interest_in_SpectatorSports_on_TV_In_Household: string (nullable = true)\n",
      " |-- CommercialDataLL_Interest_in_SpectatorSports_Soccer_In_Household: string (nullable = true)\n",
      " |-- CommercialDataLL_Interest_in_Sports_Leisure_In_Household: string (nullable = true)\n",
      " |-- CommercialDataLL_Interest_in_Sweepstakes_Contests_In_Household: string (nullable = true)\n",
      " |-- CommercialDataLL_Interest_in_Tennis_In_Household: string (nullable = true)\n",
      " |-- CommercialDataLL_Interest_in_the_Arts_In_Household: string (nullable = true)\n",
      " |-- CommercialDataLL_Interest_in_Theater_Performing_Arts_In_Household: string (nullable = true)\n",
      " |-- CommercialDataLL_Interest_in_Travel_Cruise_In_Household: string (nullable = true)\n",
      " |-- CommercialDataLL_Interest_in_Travel_Domestic_In_Household: string (nullable = true)\n",
      " |-- CommercialDataLL_Interest_in_Travel_International_In_Household: string (nullable = true)\n",
      " |-- CommercialDataLL_Interest_in_Woodworking_In_Household: string (nullable = true)\n",
      " |-- CommercialDataLL_Investor: string (nullable = true)\n",
      " |-- CommercialDataLL_HH_Net_Worth: string (nullable = true)\n",
      " |-- CommercialDataLL_PetOwner_Cat: string (nullable = true)\n",
      " |-- CommercialDataLL_PetOwner_Dog: string (nullable = true)\n",
      " |-- CommercialDataLL_PetOwner_Horse: string (nullable = true)\n",
      " |-- CommercialDataLL_PetOwner_Other: string (nullable = true)\n",
      " |-- CommercialDataLL_Veteran: string (nullable = true)\n",
      " |-- ElectionReturns_G08_Cnty_Margin_McCain_R: string (nullable = true)\n",
      " |-- ElectionReturns_G08_Cnty_Percent_McCain_R: string (nullable = true)\n",
      " |-- ElectionReturns_G08_Cnty_Vote_McCain_R: string (nullable = true)\n",
      " |-- ElectionReturns_G08_Cnty_Margin_Obama_D: string (nullable = true)\n",
      " |-- ElectionReturns_G08_Cnty_Percent_Obama_D: string (nullable = true)\n",
      " |-- ElectionReturns_G08_Cnty_Vote_Obama_D: string (nullable = true)\n",
      " |-- ElectionReturns_G08CountyTurnoutAllRegisteredVoters: string (nullable = true)\n",
      " |-- ElectionReturns_G08CountyTurnoutDemocrats: string (nullable = true)\n",
      " |-- ElectionReturns_G08CountyTurnoutIndependentsAllOthers: string (nullable = true)\n",
      " |-- ElectionReturns_G08CountyTurnoutRepublicans: string (nullable = true)\n",
      " |-- ElectionReturns_G08PrecinctTurnoutAllRegisteredVoters: string (nullable = true)\n",
      " |-- ElectionReturns_G08PrecinctTurnoutDemocrats: string (nullable = true)\n",
      " |-- ElectionReturns_G08PrecinctTurnoutIndependentsAllOthers: string (nullable = true)\n",
      " |-- ElectionReturns_G08PrecinctTurnoutRepublicans: string (nullable = true)\n",
      " |-- ElectionReturns_G10CountyTurnoutAllRegisteredVoters: string (nullable = true)\n",
      " |-- ElectionReturns_G10CountyTurnoutDemocrats: string (nullable = true)\n",
      " |-- ElectionReturns_G10CountyTurnoutIndependentsAllOthers: string (nullable = true)\n",
      " |-- ElectionReturns_G10CountyTurnoutRepublicans: string (nullable = true)\n",
      " |-- ElectionReturns_G10PrecinctTurnoutAllRegisteredVoters: string (nullable = true)\n",
      " |-- ElectionReturns_G10PrecinctTurnoutDemocrats: string (nullable = true)\n",
      " |-- ElectionReturns_G10PrecinctTurnoutIndependentsAllOthers: string (nullable = true)\n",
      " |-- ElectionReturns_G10PrecinctTurnoutRepublicans: string (nullable = true)\n",
      " |-- ElectionReturns_G12_Cnty_Margin_Obama_D: string (nullable = true)\n",
      " |-- ElectionReturns_G12_Cnty_Percent_Obama_D: string (nullable = true)\n",
      " |-- ElectionReturns_G12_Cnty_Vote_Obama_D: string (nullable = true)\n",
      " |-- ElectionReturns_G12_Cnty_Margin_Romney_R: string (nullable = true)\n",
      " |-- ElectionReturns_G12_Cnty_Percent_Romney_R: string (nullable = true)\n",
      " |-- ElectionReturns_G12_Cnty_Vote_Romney_R: string (nullable = true)\n",
      " |-- ElectionReturns_G12CountyTurnoutAllRegisteredVoters: string (nullable = true)\n",
      " |-- ElectionReturns_G12CountyTurnoutDemocrats: string (nullable = true)\n",
      " |-- ElectionReturns_G12CountyTurnoutIndependentsAllOthers: string (nullable = true)\n",
      " |-- ElectionReturns_G12CountyTurnoutRepublicans: string (nullable = true)\n",
      " |-- ElectionReturns_G12PrecinctTurnoutAllRegisteredVoters: string (nullable = true)\n",
      " |-- ElectionReturns_G12PrecinctTurnoutDemocrats: string (nullable = true)\n",
      " |-- ElectionReturns_G12PrecinctTurnoutIndependentsAllOthers: string (nullable = true)\n",
      " |-- ElectionReturns_G12PrecinctTurnoutRepublicans: string (nullable = true)\n",
      " |-- ElectionReturns_G14CountyTurnoutAllRegisteredVoters: string (nullable = true)\n",
      " |-- ElectionReturns_G14CountyTurnoutDemocrats: string (nullable = true)\n",
      " |-- ElectionReturns_G14CountyTurnoutIndependentsAllOthers: string (nullable = true)\n",
      " |-- ElectionReturns_G14CountyTurnoutRepublicans: string (nullable = true)\n",
      " |-- ElectionReturns_G14PrecinctTurnoutAllRegisteredVoters: string (nullable = true)\n",
      " |-- ElectionReturns_G14PrecinctTurnoutDemocrats: string (nullable = true)\n",
      " |-- ElectionReturns_G14PrecinctTurnoutIndependentsAllOthers: string (nullable = true)\n",
      " |-- ElectionReturns_G14PrecinctTurnoutRepublicans: string (nullable = true)\n",
      " |-- ElectionReturns_G16_Cnty_Margin_Clinton_D: string (nullable = true)\n",
      " |-- ElectionReturns_G16_Cnty_Percent_Clinton_D: string (nullable = true)\n",
      " |-- ElectionReturns_G16_Cnty_Vote_Clinton_D: string (nullable = true)\n",
      " |-- ElectionReturns_G16_Cnty_Margin_Trump_R: string (nullable = true)\n",
      " |-- ElectionReturns_G16_Cnty_Percent_Trump_R: string (nullable = true)\n",
      " |-- ElectionReturns_G16_Cnty_Vote_Trump_R: string (nullable = true)\n",
      " |-- ElectionReturns_G16CountyTurnoutAllRegisteredVoters: string (nullable = true)\n",
      " |-- ElectionReturns_G16CountyTurnoutDemocrats: string (nullable = true)\n",
      " |-- ElectionReturns_G16CountyTurnoutIndependentsAllOthers: string (nullable = true)\n",
      " |-- ElectionReturns_G16CountyTurnoutRepublicans: string (nullable = true)\n",
      " |-- ElectionReturns_G16PrecinctTurnoutAllRegisteredVoters: string (nullable = true)\n",
      " |-- ElectionReturns_G16PrecinctTurnoutDemocrats: string (nullable = true)\n",
      " |-- ElectionReturns_G16PrecinctTurnoutIndependentsAllOthers: string (nullable = true)\n",
      " |-- ElectionReturns_G16PrecinctTurnoutRepublicans: string (nullable = true)\n",
      " |-- ElectionReturns_G18CountyTurnoutAllRegisteredVoters: string (nullable = true)\n",
      " |-- ElectionReturns_G18CountyTurnoutDemocrats: string (nullable = true)\n",
      " |-- ElectionReturns_G18CountyTurnoutIndependentsAllOthers: string (nullable = true)\n",
      " |-- ElectionReturns_G18CountyTurnoutRepublicans: string (nullable = true)\n",
      " |-- ElectionReturns_G18PrecinctTurnoutAllRegisteredVoters: string (nullable = true)\n",
      " |-- ElectionReturns_G18PrecinctTurnoutDemocrats: string (nullable = true)\n",
      " |-- ElectionReturns_G18PrecinctTurnoutIndependentsAllOthers: string (nullable = true)\n",
      " |-- ElectionReturns_G18PrecinctTurnoutRepublicans: string (nullable = true)\n",
      " |-- ElectionReturns_P08_Cnty_Pct_Biden_D: string (nullable = true)\n",
      " |-- ElectionReturns_P08_Cnty_Pct_Clinton_D: string (nullable = true)\n",
      " |-- ElectionReturns_P08_Cnty_Pct_Dodd_D: string (nullable = true)\n",
      " |-- ElectionReturns_P08_Cnty_Pct_Edwards_D: string (nullable = true)\n",
      " |-- ElectionReturns_P08_Cnty_Pct_Gravel_D: string (nullable = true)\n",
      " |-- ElectionReturns_P08_Cnty_Pct_Kucinich_D: string (nullable = true)\n",
      " |-- ElectionReturns_P08_Cnty_Pct_Obama_D: string (nullable = true)\n",
      " |-- ElectionReturns_P08_Cnty_Pct_Richardson_D: string (nullable = true)\n",
      " |-- ElectionReturns_P08_Cnty_Vote_Biden_D: string (nullable = true)\n",
      " |-- ElectionReturns_P08_Cnty_Vote_Clinton_D: string (nullable = true)\n",
      " |-- ElectionReturns_P08_Cnty_Vote_Dodd_D: string (nullable = true)\n",
      " |-- ElectionReturns_P08_Cnty_Vote_Edwards_D: string (nullable = true)\n",
      " |-- ElectionReturns_P08_Cnty_Vote_Gravel_D: string (nullable = true)\n",
      " |-- ElectionReturns_P08_Cnty_Vote_Kucinich_D: string (nullable = true)\n",
      " |-- ElectionReturns_P08_Cnty_Vote_Obama_D: string (nullable = true)\n",
      " |-- ElectionReturns_P08_Cnty_Vote_Richardson_D: string (nullable = true)\n",
      " |-- ElectionReturns_P08_Cnty_Pct_Giuliani_R: string (nullable = true)\n",
      " |-- ElectionReturns_P08_Cnty_Pct_Huckabee_R: string (nullable = true)\n",
      " |-- ElectionReturns_P08_Cnty_Pct_Hunter_R: string (nullable = true)\n",
      " |-- ElectionReturns_P08_Cnty_Pct_Keyes_R: string (nullable = true)\n",
      " |-- ElectionReturns_P08_Cnty_Pct_McCain_R: string (nullable = true)\n",
      " |-- ElectionReturns_P08_Cnty_Pct_Paul_R: string (nullable = true)\n",
      " |-- ElectionReturns_P08_Cnty_Pct_Romney_R: string (nullable = true)\n",
      " |-- ElectionReturns_P08_Cnty_Pct_Thompson_R: string (nullable = true)\n",
      " |-- ElectionReturns_P08_Cnty_Vote_Giuliani_R: string (nullable = true)\n",
      " |-- ElectionReturns_P08_Cnty_Vote_Huckabee_R: string (nullable = true)\n",
      " |-- ElectionReturns_P08_Cnty_Vote_Hunter_R: string (nullable = true)\n",
      " |-- ElectionReturns_P08_Cnty_Vote_Keyes_R: string (nullable = true)\n",
      " |-- ElectionReturns_P08_Cnty_Vote_McCain_R: string (nullable = true)\n",
      " |-- ElectionReturns_P08_Cnty_Vote_Paul_R: string (nullable = true)\n",
      " |-- ElectionReturns_P08_Cnty_Vote_Romney_R: string (nullable = true)\n",
      " |-- ElectionReturns_P08_Cnty_Vote_Thompson_R: string (nullable = true)\n",
      " |-- ElectionReturns_P08CountyTurnoutAllRegisteredVoters: string (nullable = true)\n",
      " |-- ElectionReturns_P08CountyTurnoutDemocrats: string (nullable = true)\n",
      " |-- ElectionReturns_P08CountyTurnoutRepublicans: string (nullable = true)\n",
      " |-- ElectionReturns_P08PrecinctTurnoutAllRegisteredVoters: string (nullable = true)\n",
      " |-- ElectionReturns_P08PrecinctTurnoutDemocrats: string (nullable = true)\n",
      " |-- ElectionReturns_P08PrecinctTurnoutRepublicans: string (nullable = true)\n",
      " |-- ElectionReturns_P10CountyTurnoutAllRegisteredVoters: string (nullable = true)\n",
      " |-- ElectionReturns_P10CountyTurnoutDemocrats: string (nullable = true)\n",
      " |-- ElectionReturns_P10CountyTurnoutRepublicans: string (nullable = true)\n",
      " |-- ElectionReturns_P10PrecinctTurnoutAllRegisteredVoters: string (nullable = true)\n",
      " |-- ElectionReturns_P10PrecinctTurnoutDemocrats: string (nullable = true)\n",
      " |-- ElectionReturns_P10PrecinctTurnoutRepublicans: string (nullable = true)\n",
      " |-- ElectionReturns_P12_Cnty_Pct_Bachman_R: string (nullable = true)\n",
      " |-- ElectionReturns_P12_Cnty_Pct_Gingrich_R: string (nullable = true)\n",
      " |-- ElectionReturns_P12_Cnty_Pct_Huntsman_R: string (nullable = true)\n",
      " |-- ElectionReturns_P12_Cnty_Pct_Paul_R: string (nullable = true)\n",
      " |-- ElectionReturns_P12_Cnty_Pct_Perry_R: string (nullable = true)\n",
      " |-- ElectionReturns_P12_Cnty_Pct_Romney_R: string (nullable = true)\n",
      " |-- ElectionReturns_P12_Cnty_Pct_Santorum_R: string (nullable = true)\n",
      " |-- ElectionReturns_P12_Cnty_Vote_Bachman_R: string (nullable = true)\n",
      " |-- ElectionReturns_P12_Cnty_Vote_Gingrich_R: string (nullable = true)\n",
      " |-- ElectionReturns_P12_Cnty_Vote_Huntsman_R: string (nullable = true)\n",
      " |-- ElectionReturns_P12_Cnty_Vote_Paul_R: string (nullable = true)\n",
      " |-- ElectionReturns_P12_Cnty_Vote_Perry_R: string (nullable = true)\n",
      " |-- ElectionReturns_P12_Cnty_Vote_Romney_R: string (nullable = true)\n",
      " |-- ElectionReturns_P12_Cnty_Vote_Santorum_R: string (nullable = true)\n",
      " |-- ElectionReturns_P12CountyTurnoutAllRegisteredVoters: string (nullable = true)\n",
      " |-- ElectionReturns_P12CountyTurnoutDemocrats: string (nullable = true)\n",
      " |-- ElectionReturns_P12CountyTurnoutRepublicans: string (nullable = true)\n",
      " |-- ElectionReturns_P12PrecinctTurnoutAllRegisteredVoters: string (nullable = true)\n",
      " |-- ElectionReturns_P12PrecinctTurnoutDemocrats: string (nullable = true)\n",
      " |-- ElectionReturns_P12PrecinctTurnoutRepublicans: string (nullable = true)\n",
      " |-- ElectionReturns_P14CountyTurnoutAllRegisteredVoters: string (nullable = true)\n",
      " |-- ElectionReturns_P14CountyTurnoutDemocrats: string (nullable = true)\n",
      " |-- ElectionReturns_P14CountyTurnoutRepublicans: string (nullable = true)\n",
      " |-- ElectionReturns_P14PrecinctTurnoutAllRegisteredVoters: string (nullable = true)\n",
      " |-- ElectionReturns_P14PrecinctTurnoutDemocrats: string (nullable = true)\n",
      " |-- ElectionReturns_P14PrecinctTurnoutRepublicans: string (nullable = true)\n",
      " |-- ElectionReturns_P16_Cnty_Pct_Bush_R: string (nullable = true)\n",
      " |-- ElectionReturns_P16_Cnty_Pct_Carson_R: string (nullable = true)\n",
      " |-- ElectionReturns_P16_Cnty_Pct_Christie_R: string (nullable = true)\n",
      " |-- ElectionReturns_P16_Cnty_Pct_Cruz_R: string (nullable = true)\n",
      " |-- ElectionReturns_P16_Cnty_Pct_Fiorina_R: string (nullable = true)\n",
      " |-- ElectionReturns_P16_Cnty_Pct_Kasich_R: string (nullable = true)\n",
      " |-- ElectionReturns_P16_Cnty_Pct_Rubio_R: string (nullable = true)\n",
      " |-- ElectionReturns_P16_Cnty_Pct_Trump_R: string (nullable = true)\n",
      " |-- ElectionReturns_P16_Cnty_Vote_Bush_R: string (nullable = true)\n",
      " |-- ElectionReturns_P16_Cnty_Vote_Carson_R: string (nullable = true)\n",
      " |-- ElectionReturns_P16_Cnty_Vote_Christie_R: string (nullable = true)\n",
      " |-- ElectionReturns_P16_Cnty_Vote_Cruz_R: string (nullable = true)\n",
      " |-- ElectionReturns_P16_Cnty_Vote_Fiorina_R: string (nullable = true)\n",
      " |-- ElectionReturns_P16_Cnty_Vote_Kasich_R: string (nullable = true)\n",
      " |-- ElectionReturns_P16_Cnty_Vote_Rubio_R: string (nullable = true)\n",
      " |-- ElectionReturns_P16_Cnty_Vote_Trump_R: string (nullable = true)\n",
      " |-- ElectionReturns_P16_Cnty_Pct_Clinton_D: string (nullable = true)\n",
      " |-- ElectionReturns_P16_Cnty_Pct_Sanders_D: string (nullable = true)\n",
      " |-- ElectionReturns_P16_Cnty_Vote_Clinton_D: string (nullable = true)\n",
      " |-- ElectionReturns_P16_Cnty_Vote_Sanders_D: string (nullable = true)\n",
      " |-- ElectionReturns_P16CountyTurnoutAllRegisteredVoters: string (nullable = true)\n",
      " |-- ElectionReturns_P16CountyTurnoutDemocrats: string (nullable = true)\n",
      " |-- ElectionReturns_P16CountyTurnoutRepublicans: string (nullable = true)\n",
      " |-- ElectionReturns_P16PrecinctTurnoutAllRegisteredVoters: string (nullable = true)\n",
      " |-- ElectionReturns_P16PrecinctTurnoutDemocrats: string (nullable = true)\n",
      " |-- ElectionReturns_P16PrecinctTurnoutRepublicans: string (nullable = true)\n",
      " |-- ElectionReturns_P18CountyTurnoutAllRegisteredVoters: string (nullable = true)\n",
      " |-- ElectionReturns_P18CountyTurnoutDemocrats: string (nullable = true)\n",
      " |-- ElectionReturns_P18CountyTurnoutRepublicans: string (nullable = true)\n",
      " |-- ElectionReturns_P18PrecinctTurnoutAllRegisteredVoters: string (nullable = true)\n",
      " |-- ElectionReturns_P18PrecinctTurnoutDemocrats: string (nullable = true)\n",
      " |-- ElectionReturns_P18PrecinctTurnoutRepublicans: string (nullable = true)\n",
      " |-- FECDonors_AvgDonation: string (nullable = true)\n",
      " |-- FECDonors_AvgDonation_Range: string (nullable = true)\n",
      " |-- FECDonors_LastDonationDate: string (nullable = true)\n",
      " |-- FECDonors_NumberOfDonations: string (nullable = true)\n",
      " |-- FECDonors_PrimaryRecipientOfContributions: string (nullable = true)\n",
      " |-- FECDonors_TotalDonationsAmount: string (nullable = true)\n",
      " |-- FECDonors_TotalDonationsAmt_Range: string (nullable = true)\n",
      " |-- Voters_VotingPerformanceEvenYearGeneral: string (nullable = true)\n",
      " |-- Voters_VotingPerformanceEvenYearPrimary: string (nullable = true)\n",
      " |-- Voters_VotingPerformanceEvenYearGeneralAndPrimary: string (nullable = true)\n",
      " |-- Voters_VotingPerformanceMinorElection: string (nullable = true)\n",
      " |-- General_2022: string (nullable = true)\n",
      " |-- Primary_2022: string (nullable = true)\n",
      " |-- OtherElection_2022: string (nullable = true)\n",
      " |-- AnyElection_2021: string (nullable = true)\n",
      " |-- General_2020: string (nullable = true)\n",
      " |-- Primary_2020: string (nullable = true)\n",
      " |-- PresidentialPrimary_2020: string (nullable = true)\n",
      " |-- OtherElection_2020: string (nullable = true)\n",
      " |-- AnyElection_2019: string (nullable = true)\n",
      " |-- General_2018: string (nullable = true)\n",
      " |-- Primary_2018: string (nullable = true)\n",
      " |-- OtherElection_2018: string (nullable = true)\n",
      " |-- AnyElection_2017: string (nullable = true)\n",
      " |-- General_2016: string (nullable = true)\n",
      " |-- Primary_2016: string (nullable = true)\n",
      " |-- PresidentialPrimary_2016: string (nullable = true)\n",
      " |-- OtherElection_2016: string (nullable = true)\n",
      " |-- AnyElection_2015: string (nullable = true)\n",
      " |-- General_2014: string (nullable = true)\n",
      " |-- Primary_2014: string (nullable = true)\n",
      " |-- OtherElection_2014: string (nullable = true)\n",
      " |-- AnyElection_2013: string (nullable = true)\n",
      " |-- General_2012: string (nullable = true)\n",
      " |-- Primary_2012: string (nullable = true)\n",
      " |-- PresidentialPrimary_2012: string (nullable = true)\n",
      " |-- OtherElection_2012: string (nullable = true)\n",
      " |-- AnyElection_2011: string (nullable = true)\n",
      " |-- General_2010: string (nullable = true)\n",
      " |-- Primary_2010: string (nullable = true)\n",
      " |-- OtherElection_2010: string (nullable = true)\n",
      " |-- AnyElection_2009: string (nullable = true)\n",
      " |-- General_2008: string (nullable = true)\n",
      " |-- Primary_2008: string (nullable = true)\n",
      " |-- PresidentialPrimary_2008: string (nullable = true)\n",
      " |-- OtherElection_2008: string (nullable = true)\n",
      " |-- AnyElection_2007: string (nullable = true)\n",
      " |-- General_2006: string (nullable = true)\n",
      " |-- Primary_2006: string (nullable = true)\n",
      " |-- OtherElection_2006: string (nullable = true)\n",
      " |-- AnyElection_2005: string (nullable = true)\n",
      " |-- General_2004: string (nullable = true)\n",
      " |-- Primary_2004: string (nullable = true)\n",
      " |-- PresidentialPrimary_2004: string (nullable = true)\n",
      " |-- OtherElection_2004: string (nullable = true)\n",
      " |-- AnyElection_2003: string (nullable = true)\n",
      " |-- General_2002: string (nullable = true)\n",
      " |-- Primary_2002: string (nullable = true)\n",
      " |-- OtherElection_2002: string (nullable = true)\n",
      " |-- AnyElection_2001: string (nullable = true)\n",
      " |-- General_2000: string (nullable = true)\n",
      " |-- Primary_2000: string (nullable = true)\n",
      " |-- PresidentialPrimary_2000: string (nullable = true)\n",
      " |-- OtherElection_2000: string (nullable = true)\n",
      " |-- PRI_BLT_2022: string (nullable = true)\n",
      " |-- PRI_BLT_2021: string (nullable = true)\n",
      " |-- PRI_BLT_2020: string (nullable = true)\n",
      " |-- PRI_BLT_2019: string (nullable = true)\n",
      " |-- PRI_BLT_2018: string (nullable = true)\n",
      " |-- PRI_BLT_2017: string (nullable = true)\n",
      " |-- PRI_BLT_2016: string (nullable = true)\n",
      " |-- PRI_BLT_2015: string (nullable = true)\n",
      " |-- PRI_BLT_2014: string (nullable = true)\n",
      " |-- PRI_BLT_2013: string (nullable = true)\n",
      " |-- PRI_BLT_2012: string (nullable = true)\n",
      " |-- PRI_BLT_2011: string (nullable = true)\n",
      " |-- PRI_BLT_2010: string (nullable = true)\n",
      " |-- PRI_BLT_2009: string (nullable = true)\n",
      " |-- PRI_BLT_2008: string (nullable = true)\n",
      " |-- PRI_BLT_2007: string (nullable = true)\n",
      " |-- PRI_BLT_2006: string (nullable = true)\n",
      " |-- PRI_BLT_2005: string (nullable = true)\n",
      " |-- PRI_BLT_2004: string (nullable = true)\n",
      " |-- PRI_BLT_2003: string (nullable = true)\n",
      " |-- PRI_BLT_2002: string (nullable = true)\n",
      " |-- PRI_BLT_2001: string (nullable = true)\n",
      " |-- PRI_BLT_2000: string (nullable = true)\n",
      "\n"
     ]
    }
   ],
   "source": [
    "AK_df_ezra.printSchema()"
   ]
  },
  {
   "cell_type": "markdown",
   "id": "0165c0ac-9a90-4dae-9151-619ff14e8365",
   "metadata": {},
   "source": [
    "We clearly have a lot of features (726 to be exact) to consider in this dataframe that we must further understand and explore prior to our feature selection and feature engineering phase."
   ]
  },
  {
   "cell_type": "markdown",
   "id": "ac189bb9-f8ec-4ee8-98d2-3836f22a6c5f",
   "metadata": {},
   "source": [
    "## Location in Alaska and Voter Parties"
   ]
  },
  {
   "cell_type": "markdown",
   "id": "ebd93763-0dac-46d4-9c85-0866bd57afc4",
   "metadata": {},
   "source": [
    "### City of Residence for Voters"
   ]
  },
  {
   "cell_type": "code",
   "execution_count": 6,
   "id": "2ec0b18e-4f0a-4936-9095-9821e722f38b",
   "metadata": {},
   "outputs": [
    {
     "name": "stderr",
     "output_type": "stream",
     "text": [
      "                                                                                \r"
     ]
    },
    {
     "name": "stdout",
     "output_type": "stream",
     "text": [
      "+----------------------------------------+\n",
      "|count(DISTINCT Residence_Addresses_City)|\n",
      "+----------------------------------------+\n",
      "|                                    2705|\n",
      "+----------------------------------------+\n",
      "\n"
     ]
    },
    {
     "name": "stderr",
     "output_type": "stream",
     "text": [
      "                                                                                \r"
     ]
    },
    {
     "name": "stdout",
     "output_type": "stream",
     "text": [
      "+------------------+\n",
      "|Number_of_Counties|\n",
      "+------------------+\n",
      "|                29|\n",
      "+------------------+\n",
      "\n"
     ]
    },
    {
     "name": "stderr",
     "output_type": "stream",
     "text": [
      "                                                                                \r"
     ]
    },
    {
     "name": "stdout",
     "output_type": "stream",
     "text": [
      "+---------------------+-------------+\n",
      "|County               |Number_Voters|\n",
      "+---------------------+-------------+\n",
      "|ANCHORAGE            |218565       |\n",
      "|MATANUSKA SUSITNA    |82135        |\n",
      "|FAIRBANKS NORTH STAR |69054        |\n",
      "|KENAI PENINSULA      |49094        |\n",
      "|JUNEAU               |25984        |\n",
      "|KETCHIKAN GATEWAY    |11327        |\n",
      "|BETHEL               |11296        |\n",
      "|KODIAK ISLAND        |9145         |\n",
      "|VALDEZ CORDOVA       |8122         |\n",
      "|SITKA                |6933         |\n",
      "|NOME                 |6403         |\n",
      "|SOUTHEAST FAIRBANKS  |5779         |\n",
      "|NORTH SLOPE          |4893         |\n",
      "|KUSILVAK             |4801         |\n",
      "|NORTHWEST ARCTIC     |4572         |\n",
      "|PRINCE OF WALES HYDER|4332         |\n",
      "|YUKON KOYUKUK        |4047         |\n",
      "|DILLINGHAM           |3302         |\n",
      "|PETERSBURG           |3223         |\n",
      "|ALEUTIANS WEST       |2399         |\n",
      "+---------------------+-------------+\n",
      "only showing top 20 rows\n",
      "\n"
     ]
    },
    {
     "name": "stderr",
     "output_type": "stream",
     "text": [
      "[Stage 25:=============================>                            (1 + 1) / 2]\r"
     ]
    },
    {
     "name": "stdout",
     "output_type": "stream",
     "text": [
      "+-----------------+\n",
      "|Number_of_Parties|\n",
      "+-----------------+\n",
      "|                9|\n",
      "+-----------------+\n",
      "\n"
     ]
    },
    {
     "name": "stderr",
     "output_type": "stream",
     "text": [
      "                                                                                \r"
     ]
    },
    {
     "name": "stdout",
     "output_type": "stream",
     "text": [
      "+-------------------+-------------+\n",
      "|Parties_Description|Number_Voters|\n",
      "+-------------------+-------------+\n",
      "|Unknown            |237742       |\n",
      "|Republican         |133370       |\n",
      "|Non-Partisan       |75520        |\n",
      "|Democratic         |73994        |\n",
      "|Independence       |17667        |\n",
      "|Libertarian        |6202         |\n",
      "|Other              |1765         |\n",
      "|Green Libertarian  |1406         |\n",
      "|Constitution       |593          |\n",
      "+-------------------+-------------+\n",
      "\n"
     ]
    },
    {
     "name": "stderr",
     "output_type": "stream",
     "text": [
      "[Stage 39:===================>                                      (1 + 2) / 3]\r"
     ]
    },
    {
     "name": "stdout",
     "output_type": "stream",
     "text": [
      "+--------------------+-------------------+-------------+\n",
      "|County              |Parties_Description|Number_Voters|\n",
      "+--------------------+-------------------+-------------+\n",
      "|ANCHORAGE           |Unknown            |92933        |\n",
      "|ANCHORAGE           |Republican         |49294        |\n",
      "|MATANUSKA SUSITNA   |Unknown            |34660        |\n",
      "|ANCHORAGE           |Democratic         |33821        |\n",
      "|ANCHORAGE           |Non-Partisan       |31446        |\n",
      "|FAIRBANKS NORTH STAR|Unknown            |30291        |\n",
      "|MATANUSKA SUSITNA   |Republican         |27552        |\n",
      "|KENAI PENINSULA     |Unknown            |20047        |\n",
      "|FAIRBANKS NORTH STAR|Republican         |17476        |\n",
      "|KENAI PENINSULA     |Republican         |15421        |\n",
      "|JUNEAU              |Unknown            |10601        |\n",
      "|MATANUSKA SUSITNA   |Non-Partisan       |10349        |\n",
      "|FAIRBANKS NORTH STAR|Non-Partisan       |8964         |\n",
      "|FAIRBANKS NORTH STAR|Democratic         |8771         |\n",
      "|KENAI PENINSULA     |Non-Partisan       |6660         |\n",
      "|ANCHORAGE           |Independence       |6589         |\n",
      "|BETHEL              |Unknown            |5770         |\n",
      "|MATANUSKA SUSITNA   |Democratic         |5597         |\n",
      "|JUNEAU              |Democratic         |5384         |\n",
      "|KETCHIKAN GATEWAY   |Unknown            |5233         |\n",
      "+--------------------+-------------------+-------------+\n",
      "only showing top 20 rows\n",
      "\n"
     ]
    },
    {
     "name": "stderr",
     "output_type": "stream",
     "text": [
      "                                                                                \r"
     ]
    }
   ],
   "source": [
    "# Number of Distinct Cities\n",
    "AK_df_ezra.select(countDistinct('Residence_Addresses_City')).show()\n",
    "\n",
    "# Number of Distinct Counties\n",
    "AK_df_ezra.select(countDistinct('County').alias(\"Number_of_Counties\")).show()\n",
    "\n",
    "# Number of Voters per each Distinct County\n",
    "AK_votes_per_county = AK_df_ezra.groupBy('County') \\\n",
    "    .agg(countDistinct('LALVOTERID').alias(\"Number_Voters\")) \\\n",
    "    .sort(desc(\"Number_Voters\"))\n",
    "AK_votes_per_county.show(truncate=False)\n",
    "\n",
    "# Number of Distinct Parties\n",
    "AK_df_ezra.select(countDistinct('Parties_Description').alias(\"Number_of_Parties\")).show()\n",
    "\n",
    "# Number of Voters per each Distinct Party\n",
    "AK_votes_per_party = AK_df_ezra.groupBy('Parties_Description') \\\n",
    "    .agg(countDistinct('LALVOTERID').alias(\"Number_Voters\")) \\\n",
    "    .sort(desc(\"Number_Voters\"))\n",
    "AK_votes_per_party.show(truncate=False)\n",
    "\n",
    "# Number of Voters per each Distinct Party in each Distinct County\n",
    "AK_votes_per_partycounty = AK_df_ezra.groupBy('County', 'Parties_Description') \\\n",
    "    .agg(countDistinct('LALVOTERID').alias(\"Number_Voters\")) \\\n",
    "    .sort(desc(\"Number_Voters\"))\n",
    "AK_votes_per_partycounty.show(truncate=False)"
   ]
  },
  {
   "cell_type": "markdown",
   "id": "d78f83c3-356a-431e-8dfa-3bfdda927825",
   "metadata": {},
   "source": [
    "### Distribution of Data"
   ]
  },
  {
   "cell_type": "code",
   "execution_count": 7,
   "id": "9ea8ea11-1ab7-4dc8-9b5b-f1f9c437ff39",
   "metadata": {},
   "outputs": [
    {
     "name": "stderr",
     "output_type": "stream",
     "text": [
      "                                                                                \r"
     ]
    }
   ],
   "source": [
    "# Number of Voters per each Distinct County\n",
    "AK_votes_per_county_df = AK_votes_per_county.toPandas()\n",
    "\n",
    "# Number of Voters per each Distinct Party\n",
    "AK_votes_per_party_df = AK_votes_per_party.toPandas()\n",
    "\n",
    "# Number of Voters per each Distinct Party in each Distinct County\n",
    "AK_votes_per_partycounty_df = AK_votes_per_partycounty.toPandas()"
   ]
  },
  {
   "cell_type": "code",
   "execution_count": 8,
   "id": "7fa12f21-a40e-4ebe-b860-699759c28d9a",
   "metadata": {},
   "outputs": [],
   "source": [
    "import seaborn as sns\n",
    "import matplotlib.pyplot as plt"
   ]
  },
  {
   "cell_type": "markdown",
   "id": "c0e25b2e-47db-4b06-8239-ce0f6817cb71",
   "metadata": {},
   "source": [
    "#### Number of Voters per each Distinct County"
   ]
  },
  {
   "cell_type": "code",
   "execution_count": 9,
   "id": "a2458eb7-5720-47c4-9a4d-7361d57f85e2",
   "metadata": {},
   "outputs": [
    {
     "data": {
      "text/html": [
       "<div>\n",
       "<style scoped>\n",
       "    .dataframe tbody tr th:only-of-type {\n",
       "        vertical-align: middle;\n",
       "    }\n",
       "\n",
       "    .dataframe tbody tr th {\n",
       "        vertical-align: top;\n",
       "    }\n",
       "\n",
       "    .dataframe thead th {\n",
       "        text-align: right;\n",
       "    }\n",
       "</style>\n",
       "<table border=\"1\" class=\"dataframe\">\n",
       "  <thead>\n",
       "    <tr style=\"text-align: right;\">\n",
       "      <th></th>\n",
       "      <th>County</th>\n",
       "      <th>Number_Voters</th>\n",
       "    </tr>\n",
       "  </thead>\n",
       "  <tbody>\n",
       "    <tr>\n",
       "      <th>0</th>\n",
       "      <td>ANCHORAGE</td>\n",
       "      <td>218565</td>\n",
       "    </tr>\n",
       "    <tr>\n",
       "      <th>1</th>\n",
       "      <td>MATANUSKA SUSITNA</td>\n",
       "      <td>82135</td>\n",
       "    </tr>\n",
       "    <tr>\n",
       "      <th>2</th>\n",
       "      <td>FAIRBANKS NORTH STAR</td>\n",
       "      <td>69054</td>\n",
       "    </tr>\n",
       "    <tr>\n",
       "      <th>3</th>\n",
       "      <td>KENAI PENINSULA</td>\n",
       "      <td>49094</td>\n",
       "    </tr>\n",
       "    <tr>\n",
       "      <th>4</th>\n",
       "      <td>JUNEAU</td>\n",
       "      <td>25984</td>\n",
       "    </tr>\n",
       "    <tr>\n",
       "      <th>5</th>\n",
       "      <td>KETCHIKAN GATEWAY</td>\n",
       "      <td>11327</td>\n",
       "    </tr>\n",
       "    <tr>\n",
       "      <th>6</th>\n",
       "      <td>BETHEL</td>\n",
       "      <td>11296</td>\n",
       "    </tr>\n",
       "    <tr>\n",
       "      <th>7</th>\n",
       "      <td>KODIAK ISLAND</td>\n",
       "      <td>9145</td>\n",
       "    </tr>\n",
       "    <tr>\n",
       "      <th>8</th>\n",
       "      <td>VALDEZ CORDOVA</td>\n",
       "      <td>8122</td>\n",
       "    </tr>\n",
       "    <tr>\n",
       "      <th>9</th>\n",
       "      <td>SITKA</td>\n",
       "      <td>6933</td>\n",
       "    </tr>\n",
       "    <tr>\n",
       "      <th>10</th>\n",
       "      <td>NOME</td>\n",
       "      <td>6403</td>\n",
       "    </tr>\n",
       "    <tr>\n",
       "      <th>11</th>\n",
       "      <td>SOUTHEAST FAIRBANKS</td>\n",
       "      <td>5779</td>\n",
       "    </tr>\n",
       "    <tr>\n",
       "      <th>12</th>\n",
       "      <td>NORTH SLOPE</td>\n",
       "      <td>4893</td>\n",
       "    </tr>\n",
       "    <tr>\n",
       "      <th>13</th>\n",
       "      <td>KUSILVAK</td>\n",
       "      <td>4801</td>\n",
       "    </tr>\n",
       "    <tr>\n",
       "      <th>14</th>\n",
       "      <td>NORTHWEST ARCTIC</td>\n",
       "      <td>4572</td>\n",
       "    </tr>\n",
       "    <tr>\n",
       "      <th>15</th>\n",
       "      <td>PRINCE OF WALES HYDER</td>\n",
       "      <td>4332</td>\n",
       "    </tr>\n",
       "    <tr>\n",
       "      <th>16</th>\n",
       "      <td>YUKON KOYUKUK</td>\n",
       "      <td>4047</td>\n",
       "    </tr>\n",
       "    <tr>\n",
       "      <th>17</th>\n",
       "      <td>DILLINGHAM</td>\n",
       "      <td>3302</td>\n",
       "    </tr>\n",
       "    <tr>\n",
       "      <th>18</th>\n",
       "      <td>PETERSBURG</td>\n",
       "      <td>3223</td>\n",
       "    </tr>\n",
       "    <tr>\n",
       "      <th>19</th>\n",
       "      <td>ALEUTIANS WEST</td>\n",
       "      <td>2399</td>\n",
       "    </tr>\n",
       "    <tr>\n",
       "      <th>20</th>\n",
       "      <td>HAINES</td>\n",
       "      <td>2275</td>\n",
       "    </tr>\n",
       "    <tr>\n",
       "      <th>21</th>\n",
       "      <td>HOONAH ANGOON</td>\n",
       "      <td>1882</td>\n",
       "    </tr>\n",
       "    <tr>\n",
       "      <th>22</th>\n",
       "      <td>WRANGELL</td>\n",
       "      <td>1876</td>\n",
       "    </tr>\n",
       "    <tr>\n",
       "      <th>23</th>\n",
       "      <td>DENALI</td>\n",
       "      <td>1798</td>\n",
       "    </tr>\n",
       "    <tr>\n",
       "      <th>24</th>\n",
       "      <td>ALEUTIANS EAST</td>\n",
       "      <td>1467</td>\n",
       "    </tr>\n",
       "    <tr>\n",
       "      <th>25</th>\n",
       "      <td>SKAGWAY</td>\n",
       "      <td>1136</td>\n",
       "    </tr>\n",
       "    <tr>\n",
       "      <th>26</th>\n",
       "      <td>LAKE AND PENINSULA</td>\n",
       "      <td>1103</td>\n",
       "    </tr>\n",
       "    <tr>\n",
       "      <th>27</th>\n",
       "      <td>BRISTOL BAY</td>\n",
       "      <td>837</td>\n",
       "    </tr>\n",
       "    <tr>\n",
       "      <th>28</th>\n",
       "      <td>YAKUTAT</td>\n",
       "      <td>479</td>\n",
       "    </tr>\n",
       "  </tbody>\n",
       "</table>\n",
       "</div>"
      ],
      "text/plain": [
       "                   County  Number_Voters\n",
       "0               ANCHORAGE         218565\n",
       "1       MATANUSKA SUSITNA          82135\n",
       "2    FAIRBANKS NORTH STAR          69054\n",
       "3         KENAI PENINSULA          49094\n",
       "4                  JUNEAU          25984\n",
       "5       KETCHIKAN GATEWAY          11327\n",
       "6                  BETHEL          11296\n",
       "7           KODIAK ISLAND           9145\n",
       "8          VALDEZ CORDOVA           8122\n",
       "9                   SITKA           6933\n",
       "10                   NOME           6403\n",
       "11    SOUTHEAST FAIRBANKS           5779\n",
       "12            NORTH SLOPE           4893\n",
       "13               KUSILVAK           4801\n",
       "14       NORTHWEST ARCTIC           4572\n",
       "15  PRINCE OF WALES HYDER           4332\n",
       "16          YUKON KOYUKUK           4047\n",
       "17             DILLINGHAM           3302\n",
       "18             PETERSBURG           3223\n",
       "19         ALEUTIANS WEST           2399\n",
       "20                 HAINES           2275\n",
       "21          HOONAH ANGOON           1882\n",
       "22               WRANGELL           1876\n",
       "23                 DENALI           1798\n",
       "24         ALEUTIANS EAST           1467\n",
       "25                SKAGWAY           1136\n",
       "26     LAKE AND PENINSULA           1103\n",
       "27            BRISTOL BAY            837\n",
       "28                YAKUTAT            479"
      ]
     },
     "execution_count": 9,
     "metadata": {},
     "output_type": "execute_result"
    }
   ],
   "source": [
    "AK_votes_per_county_df.head(29)"
   ]
  },
  {
   "cell_type": "code",
   "execution_count": 10,
   "id": "12a9c65e-415b-4d59-b2e2-796769ffd3ed",
   "metadata": {},
   "outputs": [
    {
     "data": {
      "image/png": "[encoded data removed]",
      "text/plain": [
       "<Figure size 640x480 with 1 Axes>"
      ]
     },
     "metadata": {},
     "output_type": "display_data"
    }
   ],
   "source": [
    "ax1 = sns.barplot(data = AK_votes_per_county_df, \\\n",
    "            x = 'County', \\\n",
    "            y = 'Number_Voters')\n",
    "\n",
    "ax1.set_xticklabels(ax1.get_xticklabels(), rotation=50, ha=\"right\")\n",
    "plt.tight_layout()\n",
    "plt.show()"
   ]
  },
  {
   "cell_type": "markdown",
   "id": "e21ed854-b439-46f7-ba4d-b7afa7b261b4",
   "metadata": {},
   "source": [
    "#### Number of Voters per each Distinct Party"
   ]
  },
  {
   "cell_type": "code",
   "execution_count": null,
   "id": "b451977b-b705-4c9f-b4c1-08bb645a036b",
   "metadata": {},
   "outputs": [],
   "source": [
    "AK_votes_per_party_df.head(9)"
   ]
  },
  {
   "cell_type": "code",
   "execution_count": null,
   "id": "47afb8c5-4e5f-4414-9393-a83445981e9a",
   "metadata": {},
   "outputs": [],
   "source": [
    "ax2 = sns.barplot(data = AK_votes_per_party_df, \\\n",
    "            x = 'Parties_Description', \\\n",
    "            y = 'Number_Voters')\n",
    "\n",
    "ax2.set_xticklabels(ax2.get_xticklabels(), rotation=50, ha=\"right\")\n",
    "plt.tight_layout()\n",
    "plt.show()"
   ]
  },
  {
   "cell_type": "markdown",
   "id": "151c0859-9133-4e5d-9bf3-b3f881ae9d47",
   "metadata": {},
   "source": [
    "#### Number of Voters per each Distinct Party in each Distinct County"
   ]
  },
  {
   "cell_type": "code",
   "execution_count": null,
   "id": "ce1fd99f-e7e7-4cee-94df-2ea597bc4c74",
   "metadata": {},
   "outputs": [],
   "source": [
    "AK_votes_per_partycounty_df"
   ]
  },
  {
   "cell_type": "code",
   "execution_count": null,
   "id": "e583fe92-a735-47f9-97cc-d990512e9016",
   "metadata": {},
   "outputs": [],
   "source": [
    "cols = AK_votes_per_county_df[['County']]\n",
    "cols.head(5)"
   ]
  },
  {
   "cell_type": "code",
   "execution_count": null,
   "id": "16a42d2f-03f8-4397-9e2a-a6673be9dce9",
   "metadata": {},
   "outputs": [],
   "source": [
    "index = ['ANCHORAGE', 'MATANUSKA SUSITNA', \\\n",
    "         'FAIRBANKS NORTH STAR', 'KENAI PENINSULA', \\\n",
    "         'JUNEAU']\n",
    "\n",
    "AK_votes_per_party_df.plot(kind='bar', stacked=True)\n",
    "\n",
    "plt.xlabel('County')\n",
    "plt.ylabel('Number_Voters')\n",
    "\n",
    "plt.title('Number of Voters per each Distinct Party and County')\n",
    "\n",
    "\"\"\"\n",
    "ax3.set_xticklabels(ax3.get_xticklabels(), rotation=50, ha=\"right\")\n",
    "plt.tight_layout()\n",
    "plt.show()\n",
    "\"\"\""
   ]
  },
  {
   "cell_type": "markdown",
   "id": "43daefa8-ab52-4275-9b44-017e6473071a",
   "metadata": {},
   "source": [
    "### Missing Value Handling"
   ]
  },
  {
   "cell_type": "code",
   "execution_count": null,
   "id": "1386c0c3-efb2-48aa-b787-1c546c91cf79",
   "metadata": {},
   "outputs": [],
   "source": [
    "AK_cols_list = AK_df_ezra.columns # list of columns in AK_df\n",
    "\n",
    "def count_missingvals(df, col_list):\n",
    "    \n",
    "    \"\"\"Given dataframe of state voter files and its list of columns, returns the number of missing values\n",
    "    \n",
    "    Args:\n",
    "        df: Dataframe of state voter files \n",
    "            Object type should be the output spark.read.parquet() function\n",
    "        col_list: List of column names\n",
    "            Object type should be the output df.columns\n",
    "            \n",
    "    \n",
    "    Returns:\n",
    "        df2.show(): \n",
    "    \"\"\"\n",
    "    \n",
    "    df2 = df.select([count(when(col(i).contains('None') | \\\n",
    "                                col(i).contains('NULL') | \\\n",
    "                               (col(i) == '') | \\\n",
    "                                col(i).isNull() | \\\n",
    "                                isnan(i), i)).alias(i)\n",
    "                    for i in col_list])\n",
    "    \n",
    "    return df2.show()"
   ]
  },
  {
   "cell_type": "code",
   "execution_count": null,
   "id": "b53607b9-22c0-4774-9b72-1d6fad3b1e35",
   "metadata": {},
   "outputs": [],
   "source": [
    "#index = ['ANCHORAGE', 'MATANUSKA SUSITNA', 'FAIRBANKS NORTH STAR', 'KENAI PENINSULA', 'JUNEAU']count_missingvals(AK_df_ezra, AK_cols_list[:3])"
   ]
  },
  {
   "cell_type": "markdown",
   "id": "3fb18973-2b00-4fc3-a558-5b3994f56757",
   "metadata": {},
   "source": [
    "## Party Affiliation for Age, Gender, Marital Status Voters in Alaska"
   ]
  },
  {
   "cell_type": "code",
   "execution_count": null,
   "id": "b2895496-0a81-45d2-a028-2965e887354d",
   "metadata": {},
   "outputs": [],
   "source": [
    "features_to_include_AK = AK_df_branson.select(['LALVOTERID','Voters_Age','Voters_Gender','MaritalStatus_Description','Parties_Description']).sample(False, 0.75, 42)\n"
   ]
  },
  {
   "cell_type": "code",
   "execution_count": null,
   "id": "1781409d-887c-4834-b1ee-9df3de51f807",
   "metadata": {},
   "outputs": [],
   "source": [
    "features_branson_AK = features_to_include_AK.toPandas()\n"
   ]
  },
  {
   "cell_type": "code",
   "execution_count": null,
   "id": "c44f3189-f0d2-4c26-82d9-e1f5a490d0dc",
   "metadata": {},
   "outputs": [],
   "source": [
    "dropped_na_pandas_AK = features_branson_AK.dropna()\n",
    "# dropped_na_pandas_AK\n",
    "features_branson_AK"
   ]
  },
  {
   "cell_type": "code",
   "execution_count": null,
   "id": "f3e1a9d7-8f0b-4161-bf57-1cf61400247b",
   "metadata": {},
   "outputs": [],
   "source": [
    "dropped_na_pandas_AK.apply(lambda x : pd.factorize(x)[0]).corr()"
   ]
  },
  {
   "cell_type": "markdown",
   "id": "61f2174c-eacb-4125-ad1a-10abb7016b83",
   "metadata": {},
   "source": [
    "Now to get an idea of some of the general patterns, we will use some aggregate functions on our dataframe after dropping the Null values"
   ]
  },
  {
   "cell_type": "code",
   "execution_count": null,
   "id": "886b9081-0bea-4fa7-b5a1-781d016e05b2",
   "metadata": {},
   "outputs": [],
   "source": [
    "gender_count = dropped_na_pandas_AK.groupby('Voters_Gender').agg({'Voters_Gender':'count'})\n",
    "gender_count.rename(columns={\"Voters_Gender\": 'count'})"
   ]
  },
  {
   "cell_type": "code",
   "execution_count": null,
   "id": "47b6554c-428a-4e65-a48d-b1e930a18139",
   "metadata": {},
   "outputs": [],
   "source": [
    "married_count = dropped_na_pandas_AK.groupby('MaritalStatus_Description').agg({'MaritalStatus_Description':'count'})\n",
    "married_count.rename(columns={\"MaritalStatus_Description\": 'count'})"
   ]
  },
  {
   "cell_type": "code",
   "execution_count": null,
   "id": "3a2a1fc7-b7b9-4966-9f1c-558458dd019c",
   "metadata": {},
   "outputs": [],
   "source": [
    "dropped_na_pandas_AK['Parties_Description'].value_counts().plot(kind='bar')\n",
    "plt.title('Count of Voters by Party - Alaska')\n",
    "plt.xlabel('Party Description')\n",
    "plt.ylabel('Count')\n",
    "plt.show()"
   ]
  },
  {
   "cell_type": "code",
   "execution_count": null,
   "id": "b69e145c-13da-4a45-9b1e-b946900c9b51",
   "metadata": {},
   "outputs": [],
   "source": [
    "counts = dropped_na_pandas_AK.groupby(['Voters_Gender', 'Parties_Description']).size().unstack()\n",
    "\n",
    "\n",
    "counts.plot(kind='bar', figsize=(10,6))\n",
    "\n",
    "\n",
    "plt.title('Number of Voters by Gender and Party Description - Alaska')\n",
    "plt.xlabel('Gender')\n",
    "plt.ylabel('Number of Voters')\n",
    "\n",
    "\n",
    "plt.show()"
   ]
  },
  {
   "cell_type": "code",
   "execution_count": null,
   "id": "fc580cfa-5b7e-49b5-bd72-6882c4efd6a0",
   "metadata": {},
   "outputs": [],
   "source": [
    "married_counts = dropped_na_pandas_AK.groupby(['MaritalStatus_Description', 'Parties_Description']).size().unstack()\n",
    "\n",
    "\n",
    "married_counts.plot(kind='bar', figsize=(10,6))\n",
    "\n",
    "\n",
    "plt.title('Marital Status and Party Description')\n",
    "plt.xlabel('Marital Status')\n",
    "plt.ylabel('Number of Voters')\n",
    "\n",
    "\n",
    "plt.show()"
   ]
  },
  {
   "cell_type": "markdown",
   "id": "658e1254-5b9e-48dd-bf75-74f19b6906e2",
   "metadata": {},
   "source": [
    "## Party Affiliation based on Level of Education in Alaska"
   ]
  },
  {
   "cell_type": "code",
   "execution_count": null,
   "id": "6c68775f-ee45-464a-81af-5b06fe8cf24c",
   "metadata": {},
   "outputs": [],
   "source": [
    "#AK_df['Voters_Active'].show(10)\n",
    "\n",
    "#columns = [\"CommericalData_Education\",\"CommercialData_OccupationGroup\",\"CommercialData_Hispanic_Country_Origin\",\"Voters_Active\", \"Parties_Description\"]\n",
    "#df_temp = spark.createDataFrame(data = AK_df, schema = columns)\n",
    "#df_temp.show(truncate=False)\n",
    "\n",
    "#AK_df.select(AK_df[\"CommericalData_Education\"],AK_df[\"CommericalData_OccupationGroup\"], AK_df[\"CommericalData_Hispanic_Country_Origin\"], AK_df[\"Voters_Active\"], AK_df[\"Parties_Descriptions\"]).show(10)  \n",
    "\n",
    "\n",
    "\n",
    "#AK_df[AK_df['CommercialData_Education']].show(10)\n",
    "#filtered_df = AK_df.filter(F.col(['Voters_Active','Parties_Description','CommercialData_Education', 'CommercialData_OccupationGroup', 'CommercialData_Education'])).collect()\n",
    "#AK_df[AK_df[\"CommercialData_Education\"]].head()\n",
    "\n",
    "#new_df = AK_df.filter([\"CommercialData_Education\", \"CommercialData_OccupationGroup\", \"Voters_Active\", \"Parties_Description\"], axis = 1)\n",
    "                      \n",
    "#new_df = pd.DataFrame([AK_df.CommercialData_Education & AK_df.CommercialData_OccupationGroup & AK_df.Voters_Active]).transpose()                      \n",
    "    \n",
    "new_df = AK_df.select(\"CommercialData_Education\", \"CommercialData_OccupationGroup\", \"Voters_Active\", \"Parties_Description\")\n",
    "new_df.show()\n",
    "pandas_new_df = new_df.toPandas()\n",
    "\n",
    "pd.crosstab(pandas_new_df['Parties_Description'], pandas_new_df['CommercialData_Education'])\n",
    "\n",
    "\n",
    "\n",
    "\n",
    "    \n"
   ]
  },
  {
   "cell_type": "code",
   "execution_count": null,
   "id": "b9936d28-e19e-417d-95b7-43edb4479011",
   "metadata": {},
   "outputs": [],
   "source": [
    "pd.crosstab(pandas_new_df['Parties_Description'], pandas_new_df['CommercialData_Education']).plot.bar(stacked=True)\n"
   ]
  },
  {
   "cell_type": "markdown",
   "id": "6f4f8e2a-bf06-46d5-8ee0-b288ef38ba92",
   "metadata": {},
   "source": [
    "## Voter Activity based on Voter Occupation in Alaska"
   ]
  },
  {
   "cell_type": "code",
   "execution_count": null,
   "id": "672ea0f9-03df-4fda-a72e-cb67497390ca",
   "metadata": {},
   "outputs": [],
   "source": [
    "pd.crosstab(pandas_new_df['Voters_Active'], pandas_new_df['CommercialData_OccupationGroup'])"
   ]
  },
  {
   "cell_type": "code",
   "execution_count": null,
   "id": "e567c840-24bc-4d41-970e-4e91a322aadd",
   "metadata": {},
   "outputs": [],
   "source": [
    "pd.crosstab(pandas_new_df['Voters_Active'], pandas_new_df['CommercialData_OccupationGroup']).plot.bar(stacked = True)"
   ]
  },
  {
   "cell_type": "markdown",
   "id": "9fce7969-ab5b-4236-82eb-38f15c36d729",
   "metadata": {},
   "source": [
    "# Explorative Data Analysis (EDA): California Dataframe"
   ]
  },
  {
   "cell_type": "markdown",
   "id": "0792884f-2559-430f-a345-65a3e8d59b62",
   "metadata": {},
   "source": [
    "## California Dataframe Dimensions and Schema"
   ]
  },
  {
   "cell_type": "markdown",
   "id": "3f588add-27be-4727-a1e3-517b7d762fcb",
   "metadata": {},
   "source": [
    "First let's look at the number of rows and columns in our dataframe..."
   ]
  },
  {
   "cell_type": "code",
   "execution_count": null,
   "id": "4d936ba4-63c6-4f12-906e-9ed18f482e93",
   "metadata": {},
   "outputs": [],
   "source": [
    "print(\"Number of Rows:    \", CA_df_ezra.count(), \\\n",
    "      \"\\nNumber of Columns: \", len(CA_df_ezra.columns))"
   ]
  },
  {
   "cell_type": "markdown",
   "id": "03524de2-6d83-4c90-818d-32010b905ce3",
   "metadata": {},
   "source": [
    "As we can see for our California dataframe, we have $21,779,518$ rows and $726$ columns."
   ]
  },
  {
   "cell_type": "markdown",
   "id": "aca5e902-e23c-474c-a83f-c1f42e38e92d",
   "metadata": {},
   "source": [
    "Now let us look at all of the features (or column variables) we have available to us in our dataframe..."
   ]
  },
  {
   "cell_type": "code",
   "execution_count": null,
   "id": "d65e9e0c-0e54-4b7f-b933-14beac560d22",
   "metadata": {},
   "outputs": [],
   "source": [
    "#CA_df_ezra.printSchema()"
   ]
  },
  {
   "cell_type": "markdown",
   "id": "1635fe8a-f3cf-493f-bcbe-a1ee30c5ba9d",
   "metadata": {},
   "source": [
    "We clearly have a lot of features (726 to be exact) to consider in this dataframe that we must further understand and explore prior to our feature selection and feature engineering phase."
   ]
  },
  {
   "cell_type": "markdown",
   "id": "44f279c0-f0dd-4b59-902c-021114f24095",
   "metadata": {},
   "source": [
    "## Location in California and Voter Party"
   ]
  },
  {
   "cell_type": "markdown",
   "id": "0f552fe3-d070-4045-a526-99a8e6aa9a1c",
   "metadata": {},
   "source": [
    "### City of Residence for Voters"
   ]
  },
  {
   "cell_type": "code",
   "execution_count": null,
   "id": "19e8e808-8158-41e8-b3fa-e4866f701222",
   "metadata": {},
   "outputs": [],
   "source": [
    "# Number of Distinct Cities\n",
    "CA_df_ezra.select(countDistinct('Residence_Addresses_City')).show()\n",
    "\n",
    "# Number of Distinct Counties\n",
    "CA_df_ezra.select(countDistinct('County').alias(\"Number_of_Counties\")).show()\n",
    "\n",
    "# Number of Voters per each Distinct County\n",
    "CA_votes_per_county = CA_df_ezra.groupBy('County') \\\n",
    "    .agg(countDistinct('LALVOTERID').alias(\"Number_Voters\")) \\\n",
    "    .sort(desc(\"Number_Voters\"))\n",
    "CA_votes_per_county.show(truncate=False)\n",
    "\n",
    "# Number of Distinct Parties\n",
    "CA_df_ezra.select(countDistinct('Parties_Description').alias(\"Number_of_Parties\")).show()\n",
    "\n",
    "# Number of Voters per each Distinct Party\n",
    "CA_votes_per_party = CA_df_ezra.groupBy('Parties_Description') \\\n",
    "    .agg(countDistinct('LALVOTERID').alias(\"Number_Voters\")) \\\n",
    "    .sort(desc(\"Number_Voters\"))\n",
    "CA_votes_per_party.show(truncate=False)\n",
    "\n",
    "# Number of Voters per each Distinct Party in each Distinct County\n",
    "CA_votes_per_partycounty = CA_df_ezra.groupBy('County', 'Parties_Description') \\\n",
    "    .agg(countDistinct('LALVOTERID').alias(\"Number_Voters\")) \\\n",
    "    .sort(desc(\"Number_Voters\"))\n",
    "CA_votes_per_partycounty.show(truncate=False)"
   ]
  },
  {
   "cell_type": "markdown",
   "id": "af090d9a-0f07-4f06-a665-935a7eea0327",
   "metadata": {},
   "source": [
    "### Distribution of Data"
   ]
  },
  {
   "cell_type": "code",
   "execution_count": null,
   "id": "fc70662d-e001-47bc-b782-095a725a35d8",
   "metadata": {},
   "outputs": [],
   "source": [
    "# Number of Voters per each Distinct County\n",
    "CA_votes_per_county_df = CA_votes_per_county.toPandas()\n",
    "\n",
    "# Number of Voters per each Distinct Party\n",
    "CA_votes_per_party_df = CA_votes_per_party.toPandas()\n",
    "\n",
    "# Number of Voters per each Distinct Party in each Distinct County\n",
    "CA_votes_per_partycounty_df = CA_votes_per_partycounty.toPandas()"
   ]
  },
  {
   "cell_type": "markdown",
   "id": "5ad6564b-d3a0-490a-80b1-ed88988bab04",
   "metadata": {},
   "source": [
    "#### Number of Voters per each Distinct County"
   ]
  },
  {
   "cell_type": "code",
   "execution_count": null,
   "id": "dc2fef2e-7ad5-45cf-8929-ef7368cc703e",
   "metadata": {},
   "outputs": [],
   "source": [
    "CA_votes_per_county_df.head(29)"
   ]
  },
  {
   "cell_type": "code",
   "execution_count": null,
   "id": "d653b31f-a238-4861-9737-3336d59fe507",
   "metadata": {},
   "outputs": [],
   "source": [
    "ax1 = sns.barplot(data = CA_votes_per_county_df, \\\n",
    "            x = 'County', \\\n",
    "            y = 'Number_Voters')\n",
    "\n",
    "ax1.set_xticklabels(ax1.get_xticklabels(), rotation=90, ha=\"right\")\n",
    "plt.tight_layout()\n",
    "plt.show()"
   ]
  },
  {
   "cell_type": "markdown",
   "id": "f4979084-6ee5-41a2-ae7e-81a30f61c93a",
   "metadata": {},
   "source": [
    "#### Number of Voters per each Distinct Party"
   ]
  },
  {
   "cell_type": "code",
   "execution_count": null,
   "id": "f494d64b-756f-407e-95dd-08d42908ad40",
   "metadata": {},
   "outputs": [],
   "source": [
    "CA_votes_per_party_df.head(9)"
   ]
  },
  {
   "cell_type": "code",
   "execution_count": null,
   "id": "91b1bc13-09ef-4a0d-b6d9-2e867721e679",
   "metadata": {},
   "outputs": [],
   "source": [
    "ax2 = sns.barplot(data = CA_votes_per_party_df, \\\n",
    "            x = 'Parties_Description', \\\n",
    "            y = 'Number_Voters')\n",
    "\n",
    "ax2.set_xticklabels(ax2.get_xticklabels(), rotation=50, ha=\"right\")\n",
    "plt.tight_layout()\n",
    "plt.show()"
   ]
  },
  {
   "cell_type": "markdown",
   "id": "865a1cce-7cce-46ec-a98e-a37cbfc8cec8",
   "metadata": {},
   "source": [
    "#### Number of Voters per each Distinct Party in each Distinct County"
   ]
  },
  {
   "cell_type": "code",
   "execution_count": null,
   "id": "ccc4bd9a-a346-402c-8f98-6dbb9025d8c9",
   "metadata": {},
   "outputs": [],
   "source": [
    "CA_votes_per_partycounty_df"
   ]
  },
  {
   "cell_type": "code",
   "execution_count": null,
   "id": "ea100630-5cfa-4538-ad54-31b590cd2010",
   "metadata": {},
   "outputs": [],
   "source": [
    "cols = CA_votes_per_county_df[['County']]\n",
    "cols.head(5)"
   ]
  },
  {
   "cell_type": "code",
   "execution_count": null,
   "id": "17ab31b3-4acc-4cfe-bc13-0463894c31fa",
   "metadata": {},
   "outputs": [],
   "source": [
    "index = ['ANCHORAGE', 'MATANUSKA SUSITNA', \\\n",
    "         'FAIRBANKS NORTH STAR', 'KENAI PENINSULA', \\\n",
    "         'JUNEAU']\n",
    "\n",
    "CA_votes_per_party_df.plot(kind='bar', stacked=True)\n",
    "\n",
    "plt.xlabel('County')\n",
    "plt.ylabel('Number_Voters')\n",
    "\n",
    "plt.title('Number of Voters per each Distinct Party and County')\n",
    "\n",
    "\"\"\"\n",
    "ax3.set_xticklabels(ax3.get_xticklabels(), rotation=50, ha=\"right\")\n",
    "plt.tight_layout()\n",
    "plt.show()\n",
    "\"\"\""
   ]
  },
  {
   "cell_type": "markdown",
   "id": "e9737ccc-225d-4842-a68e-904c4a7f1b4a",
   "metadata": {},
   "source": [
    "### Missing Value Handling"
   ]
  },
  {
   "cell_type": "code",
   "execution_count": null,
   "id": "858f0523-e336-46ed-9b3c-0a45f26ccd5b",
   "metadata": {},
   "outputs": [],
   "source": [
    "CA_cols_list = CA_df_ezra.columns # list of columns in CA_df\n",
    "\n",
    "def count_missingvals(df, col_list):\n",
    "    \n",
    "    \"\"\"Given dataframe of state voter files and its list of columns, returns the number of missing values\n",
    "    \n",
    "    Args:\n",
    "        df: Dataframe of state voter files \n",
    "            Object type should be the output spark.read.parquet() function\n",
    "        col_list: List of column names\n",
    "            Object type should be the output df.columns\n",
    "            \n",
    "    \n",
    "    Returns:\n",
    "        df2.show(): \n",
    "    \"\"\"\n",
    "    \n",
    "    df2 = df.select([count(when(col(i).contains('None') | \\\n",
    "                                col(i).contains('NULL') | \\\n",
    "                               (col(i) == '') | \\\n",
    "                                col(i).isNull() | \\\n",
    "                                isnan(i), i)).alias(i)\n",
    "                    for i in col_list])\n",
    "    \n",
    "    return df2.show()"
   ]
  },
  {
   "cell_type": "code",
   "execution_count": null,
   "id": "65469266-2220-4bf8-809d-4fad14794839",
   "metadata": {},
   "outputs": [],
   "source": [
    "#count_missingvals(CA_df_ezra, CA_cols_list[:3])"
   ]
  },
  {
   "cell_type": "markdown",
   "id": "973721cb-4523-4f4c-8996-f5496d0a05d4",
   "metadata": {},
   "source": [
    "## Party Affiliation for Age, Gender, Marital Status Voters in California"
   ]
  },
  {
   "cell_type": "code",
   "execution_count": 11,
   "id": "4cd9c484-6e20-460f-a1e8-578940c2f8b5",
   "metadata": {},
   "outputs": [],
   "source": [
    "california_columns = CA_df_branson.columns"
   ]
  },
  {
   "cell_type": "code",
   "execution_count": 13,
   "id": "1b62381f-212b-459d-908b-43e626ea5f37",
   "metadata": {},
   "outputs": [
    {
     "name": "stderr",
     "output_type": "stream",
     "text": [
      "                                                                                \r"
     ]
    },
    {
     "name": "stdout",
     "output_type": "stream",
     "text": [
      "+--------------------+\n",
      "| Parties_Description|\n",
      "+--------------------+\n",
      "|          Republican|\n",
      "|             Unknown|\n",
      "|American Independent|\n",
      "|               Other|\n",
      "|         Libertarian|\n",
      "|               Green|\n",
      "|         Natural Law|\n",
      "|              Reform|\n",
      "|   Peace and Freedom|\n",
      "|          Democratic|\n",
      "|        Non-Partisan|\n",
      "+--------------------+\n",
      "\n"
     ]
    },
    {
     "name": "stderr",
     "output_type": "stream",
     "text": [
      "                                                                                \r"
     ]
    }
   ],
   "source": [
    "california_columns\n",
    "#Let's Select a Dependent Variable \n",
    "\n",
    "dependent_variable_branson = CA_df_branson.select('Parties_Description').distinct()\n",
    "dependent_variable_branson.show()\n",
    "\n",
    "#This gives us an idea of the type of data we are working with for our dependent variable"
   ]
  },
  {
   "cell_type": "code",
   "execution_count": 3,
   "id": "cc5947b6-302f-496a-8a6d-f50d6d3c15b5",
   "metadata": {},
   "outputs": [],
   "source": [
    "#Now we want to select features of interest that we want to include for our exploration\n",
    "\n",
    "features_to_include_CA = CA_df_branson.select(['LALVOTERID','Voters_Age','Voters_Gender','MilitaryStatus_Description','MaritalStatus_Description','Parties_Description']).sample(False, 0.5, 42)\n"
   ]
  },
  {
   "cell_type": "code",
   "execution_count": 6,
   "id": "0b443ac7-a9c2-477b-9840-03f2e8b38e86",
   "metadata": {},
   "outputs": [
    {
     "name": "stderr",
     "output_type": "stream",
     "text": [
      "[Stage 2:>                                                          (0 + 1) / 1]\r"
     ]
    },
    {
     "name": "stdout",
     "output_type": "stream",
     "text": [
      "+--------------+----------+-------------+--------------------------+-------------------------+--------------------+\n",
      "|    LALVOTERID|Voters_Age|Voters_Gender|MilitaryStatus_Description|MaritalStatus_Description| Parties_Description|\n",
      "+--------------+----------+-------------+--------------------------+-------------------------+--------------------+\n",
      "|LALCA572962902|        20|            M|                      null|                     null|          Democratic|\n",
      "|LALCA596067819|        61|            M|                      null|                  Married|          Democratic|\n",
      "|LALCA400909708|        37|            M|                      null|                     null|          Republican|\n",
      "| LALCA20620895|        43|            M|                      null|                     null|          Republican|\n",
      "| LALCA20623922|        34|            M|                      null|          Non-Traditional|        Non-Partisan|\n",
      "| LALCA20607380|        55|            M|                      null|                     null|          Democratic|\n",
      "|LALCA441375311|        26|            M|                      null|                     null|   Peace and Freedom|\n",
      "|LALCA399650227|        63|            M|                      null|                     null|          Republican|\n",
      "|LALCA605162223|        70|            M|                      null|                  Married|          Democratic|\n",
      "|LALCA401059591|        57|            F|                      null|                     null|          Democratic|\n",
      "| LALCA20624882|        59|            M|                      null|                     null|        Non-Partisan|\n",
      "| LALCA20606188|        70|            F|                      null|                  Married|          Democratic|\n",
      "| LALCA27350963|        32|            M|                      null|                  Married|          Republican|\n",
      "| LALCA20729190|        53|            M|                      null|                  Married|          Republican|\n",
      "|LALCA515936137|        23|            F|                      null|          Non-Traditional|          Republican|\n",
      "| LALCA20613623|        53|            F|                      null|                     null|          Republican|\n",
      "|LALCA515483525|        57|         null|                      null|                     null|          Democratic|\n",
      "| LALCA20748195|        72|            F|                      null|                  Married|          Republican|\n",
      "| LALCA20695082|        74|            M|                      null|                     null|        Non-Partisan|\n",
      "|LALCA549736961|        36|            F|                      null|                     null|American Independent|\n",
      "+--------------+----------+-------------+--------------------------+-------------------------+--------------------+\n",
      "only showing top 20 rows\n",
      "\n"
     ]
    },
    {
     "name": "stderr",
     "output_type": "stream",
     "text": [
      "                                                                                \r"
     ]
    }
   ],
   "source": []
  },
  {
   "cell_type": "code",
   "execution_count": null,
   "id": "48be8e7c-e998-4843-ba5d-ba1dd312bb02",
   "metadata": {},
   "outputs": [],
   "source": [
    "features_branson_CA"
   ]
  },
  {
   "cell_type": "code",
   "execution_count": null,
   "id": "99e99a40-ced7-4569-ad59-a0c903903b0a",
   "metadata": {},
   "outputs": [],
   "source": [
    "dropped_na_pandas_CA = features_branson_CA.dropna()\n",
    "\n"
   ]
  },
  {
   "cell_type": "code",
   "execution_count": null,
   "id": "fc41249d-c26a-4b69-8eee-174cde82e0c4",
   "metadata": {},
   "outputs": [],
   "source": [
    "dropped_na_pandas_CA.head()"
   ]
  },
  {
   "cell_type": "markdown",
   "id": "ac4e2987-e91c-4b0d-9772-f47b55ff2971",
   "metadata": {},
   "source": [
    "## Looking for Correlations"
   ]
  },
  {
   "cell_type": "code",
   "execution_count": null,
   "id": "cf843988-0d54-4ada-ab91-176beaa452de",
   "metadata": {},
   "outputs": [],
   "source": [
    "dropped_na_pandas_CA.apply(lambda x : pd.factorize(x)[0]).corr(method='spearman')"
   ]
  },
  {
   "cell_type": "markdown",
   "id": "195ea488-1f4a-4a48-8886-4b0a69df69d8",
   "metadata": {},
   "source": [
    "Now to get an idea of some of the general patterns, we will use some aggregate functions on our dataframe after dropping the Null values"
   ]
  },
  {
   "cell_type": "code",
   "execution_count": null,
   "id": "2309f9e1-df32-4192-9176-6c1dee1c8869",
   "metadata": {},
   "outputs": [],
   "source": [
    "military_count = dropped_na_pandas_CA.groupby('MilitaryStatus_Description').agg({'MilitaryStatus_Description':'count'})\n",
    "military_count.rename(columns={\"MilitaryStatus_Description\": 'count'})"
   ]
  },
  {
   "cell_type": "code",
   "execution_count": null,
   "id": "6fc5cb8d-82cc-41c9-9f4e-86f08380c9c4",
   "metadata": {},
   "outputs": [],
   "source": [
    "gender_count = dropped_na_pandas_CA.groupby('Voters_Gender').agg({'Voters_Gender':'count'})\n",
    "gender_count.rename(columns={\"Voters_Gender\": 'count'})"
   ]
  },
  {
   "cell_type": "code",
   "execution_count": null,
   "id": "e49b67a9-e68c-499c-9e1a-e733e45e5758",
   "metadata": {},
   "outputs": [],
   "source": [
    "married_count = dropped_na_pandas_CA.groupby('MaritalStatus_Description').agg({'MaritalStatus_Description':'count'})\n",
    "married_count.rename(columns={\"MaritalStatus_Description\": 'count'})"
   ]
  },
  {
   "cell_type": "code",
   "execution_count": null,
   "id": "2642c1ab-9b02-48cb-8806-77784a747521",
   "metadata": {},
   "outputs": [],
   "source": [
    "dropped_na_pandas_CA['Parties_Description'].value_counts().plot(kind='bar')\n",
    "plt.title('Count of Voters by Party')\n",
    "plt.xlabel('Party Description')\n",
    "plt.ylabel('Count')\n",
    "plt.show()"
   ]
  },
  {
   "cell_type": "code",
   "execution_count": null,
   "id": "4c22e398-384e-4d62-8133-ccb06afa31d7",
   "metadata": {},
   "outputs": [],
   "source": [
    "counts = dropped_na_pandas_CA.groupby(['Voters_Gender', 'Parties_Description']).size().unstack()\n",
    "\n",
    "\n",
    "counts.plot(kind='bar', figsize=(10,6))\n",
    "\n",
    "\n",
    "plt.title('Number of Voters by Gender and Party Description')\n",
    "plt.xlabel('Gender')\n",
    "plt.ylabel('Number of Voters')\n",
    "\n",
    "\n",
    "plt.show()"
   ]
  },
  {
   "cell_type": "code",
   "execution_count": null,
   "id": "447f1cbf-72c6-48db-9137-280768d075dd",
   "metadata": {},
   "outputs": [],
   "source": [
    "military_pandas_df = dropped_na_pandas_CA[dropped_na_pandas_CA['MilitaryStatus_Description'] == 'Military']\n",
    "military_counts = military_pandas_df.groupby(['MilitaryStatus_Description', 'Parties_Description']).size().unstack()\n",
    "\n",
    "\n",
    "military_counts.plot(kind='bar', figsize=(10,6))\n",
    "\n",
    "\n",
    "plt.title('Number of Voters in Military and Party Description')\n",
    "plt.xlabel('Military Status')\n",
    "plt.ylabel('Number of Voters')\n",
    "\n",
    "\n",
    "plt.show()"
   ]
  },
  {
   "cell_type": "code",
   "execution_count": null,
   "id": "52bf74cb-5c58-4450-b720-41447fa6d8b9",
   "metadata": {},
   "outputs": [],
   "source": [
    "\n",
    "married_counts = dropped_na_pandas_CA.groupby(['MaritalStatus_Description', 'Parties_Description']).size().unstack()\n",
    "\n",
    "\n",
    "married_counts.plot(kind='bar', figsize=(10,6))\n",
    "\n",
    "\n",
    "plt.title('Marital Status and Party Description')\n",
    "plt.xlabel('Marital Status')\n",
    "plt.ylabel('Number of Voters')\n",
    "\n",
    "\n",
    "plt.show()"
   ]
  },
  {
   "cell_type": "markdown",
   "id": "9f584722-9b6a-4421-a3de-26e992802ec3",
   "metadata": {},
   "source": [
    "## Party Affiliation based on Level of Education in California"
   ]
  },
  {
   "cell_type": "code",
   "execution_count": null,
   "id": "20e15301-e4ab-42d0-ba23-57c21ee0efbe",
   "metadata": {},
   "outputs": [],
   "source": [
    "from pyspark.sql import functions as F\n",
    "   \n",
    "new_df = CA_df.select(\"CommercialData_Education\", \"CommercialData_OccupationGroup\", \"Voters_Active\", \"Parties_Description\")\n",
    "new_df.show()\n",
    "\n",
    "\n",
    "    \n",
    "    \n"
   ]
  },
  {
   "cell_type": "code",
   "execution_count": null,
   "id": "062b9b12-79ac-46d5-905f-e41903612971",
   "metadata": {},
   "outputs": [],
   "source": [
    "pd.crosstab(pandas_new_df['Parties_Description'], pandas_new_df['CommercialData_Education'])"
   ]
  },
  {
   "cell_type": "markdown",
   "id": "e7cdb1bf-0951-45dc-8681-dd65d3e3e486",
   "metadata": {},
   "source": [
    "We are mainly targeting voters in the largest blue and red states (California and Alaska, respectively), but we require more exploration to narrow down our scope. We have so far focused mainly on party affiliation, personal background, and county of origin."
   ]
  },
  {
   "cell_type": "code",
   "execution_count": null,
   "id": "4952dc89-059d-40cc-90ac-48128ef1f9ac",
   "metadata": {},
   "outputs": [],
   "source": [
    "pandas_new_df"
   ]
  },
  {
   "cell_type": "markdown",
   "id": "f0ec4744-02b5-4765-94cb-98da89e18a5c",
   "metadata": {},
   "source": [
    "\n",
    "\n",
    "\n",
    "\n",
    "\n",
    "\n",
    "\n",
    "\n",
    "\n",
    "\n",
    "\n",
    "##  lifestyle factors and influence on certain dependent variables"
   ]
  },
  {
   "cell_type": "code",
   "execution_count": 3,
   "id": "8aaa7f5f-bd8e-4613-8cf6-e8a72736386a",
   "metadata": {},
   "outputs": [],
   "source": [
    "from pyspark.ml.feature import *\n",
    "from pyspark.ml.regression import *\n",
    "from pyspark.ml.evaluation import *\n",
    "from pyspark.ml import *"
   ]
  },
  {
   "cell_type": "code",
   "execution_count": 4,
   "id": "148707a0-1335-4d8e-8cad-9e608f961944",
   "metadata": {},
   "outputs": [],
   "source": [
    "characteristics_df =CA_df_branson.select(['County', 'Ethnic_Description','CommercialDataLL_Donates_to_Veterans_Causes','Precinct', 'CommercialDataLL_Gun_Owner','CommercialDataLL_Interest_in_Exercise_Health_In_Household', 'ElectionReturns_P16_Cnty_Vote_Trump_R','CommercialDataLL_Interest_in_Smoking_In_Household'])\n"
   ]
  },
  {
   "cell_type": "code",
   "execution_count": 5,
   "id": "3c8e12f6-c931-45c7-a4b5-18f4fd84a22c",
   "metadata": {},
   "outputs": [],
   "source": [
    "input_cols = []\n",
    "for i in characteristics_df.columns:\n",
    "    if i not in ['ElectionReturns_P16_Cnty_Vote_Trump_R', 'ElectionReturns_P16_Cnty_Vote_Clinton_D']:\n",
    "        input_cols.append(i)\n"
   ]
  },
  {
   "cell_type": "code",
   "execution_count": 6,
   "id": "bd428ec7-46d0-429f-851e-8aa6dc49a289",
   "metadata": {},
   "outputs": [
    {
     "data": {
      "text/plain": [
       "['County',\n",
       " 'Ethnic_Description',\n",
       " 'CommercialDataLL_Donates_to_Veterans_Causes',\n",
       " 'Precinct',\n",
       " 'CommercialDataLL_Gun_Owner',\n",
       " 'CommercialDataLL_Interest_in_Exercise_Health_In_Household',\n",
       " 'CommercialDataLL_Interest_in_Smoking_In_Household']"
      ]
     },
     "execution_count": 6,
     "metadata": {},
     "output_type": "execute_result"
    }
   ],
   "source": [
    "input_cols"
   ]
  },
  {
   "cell_type": "code",
   "execution_count": 7,
   "id": "9ac29e85-0fac-459d-9170-263e347c5dcd",
   "metadata": {},
   "outputs": [],
   "source": [
    "characteristics_df = characteristics_df.withColumn('ElectionReturns_P16_Cnty_Vote_Trump_R',col('ElectionReturns_P16_Cnty_Vote_Trump_R').cast('float') )"
   ]
  },
  {
   "cell_type": "code",
   "execution_count": 8,
   "id": "b4dff8d4-e222-43b0-88cd-a79b7b6943eb",
   "metadata": {},
   "outputs": [
    {
     "name": "stdout",
     "output_type": "stream",
     "text": [
      "root\n",
      " |-- County: string (nullable = true)\n",
      " |-- Ethnic_Description: string (nullable = true)\n",
      " |-- CommercialDataLL_Donates_to_Veterans_Causes: string (nullable = true)\n",
      " |-- Precinct: string (nullable = true)\n",
      " |-- CommercialDataLL_Gun_Owner: string (nullable = true)\n",
      " |-- CommercialDataLL_Interest_in_Exercise_Health_In_Household: string (nullable = true)\n",
      " |-- ElectionReturns_P16_Cnty_Vote_Trump_R: float (nullable = true)\n",
      " |-- CommercialDataLL_Interest_in_Smoking_In_Household: string (nullable = true)\n",
      "\n"
     ]
    }
   ],
   "source": [
    "characteristics_df.printSchema()"
   ]
  },
  {
   "cell_type": "code",
   "execution_count": 9,
   "id": "f62cab31-a9cf-4be3-ae3b-4caeefb19d80",
   "metadata": {},
   "outputs": [
    {
     "data": {
      "text/plain": [
       "DataFrame[County: string, Ethnic_Description: string, CommercialDataLL_Donates_to_Veterans_Causes: string, Precinct: string, CommercialDataLL_Gun_Owner: string, CommercialDataLL_Interest_in_Exercise_Health_In_Household: string, ElectionReturns_P16_Cnty_Vote_Trump_R: float, CommercialDataLL_Interest_in_Smoking_In_Household: string]"
      ]
     },
     "execution_count": 9,
     "metadata": {},
     "output_type": "execute_result"
    }
   ],
   "source": [
    "characteristics_df.dropna(subset=['County'])"
   ]
  },
  {
   "cell_type": "code",
   "execution_count": 10,
   "id": "f56eb01d-8c76-4f53-89e4-913793c91d3f",
   "metadata": {},
   "outputs": [
    {
     "data": {
      "text/plain": [
       "DataFrame[County: string, Ethnic_Description: string, CommercialDataLL_Donates_to_Veterans_Causes: string, Precinct: string, CommercialDataLL_Gun_Owner: string, CommercialDataLL_Interest_in_Exercise_Health_In_Household: string, ElectionReturns_P16_Cnty_Vote_Trump_R: float, CommercialDataLL_Interest_in_Smoking_In_Household: string]"
      ]
     },
     "execution_count": 10,
     "metadata": {},
     "output_type": "execute_result"
    }
   ],
   "source": [
    "characteristics_df.dropna(subset=['Ethnic_Description'])"
   ]
  },
  {
   "cell_type": "code",
   "execution_count": 11,
   "id": "1329bb10-963d-4cb6-8a68-69f4ef5aa86f",
   "metadata": {},
   "outputs": [
    {
     "data": {
      "text/plain": [
       "DataFrame[County: string, Ethnic_Description: string, CommercialDataLL_Donates_to_Veterans_Causes: string, Precinct: string, CommercialDataLL_Gun_Owner: string, CommercialDataLL_Interest_in_Exercise_Health_In_Household: string, ElectionReturns_P16_Cnty_Vote_Trump_R: float, CommercialDataLL_Interest_in_Smoking_In_Household: string]"
      ]
     },
     "execution_count": 11,
     "metadata": {},
     "output_type": "execute_result"
    }
   ],
   "source": [
    "characteristics_df.dropna(subset=['Precinct'])"
   ]
  },
  {
   "cell_type": "code",
   "execution_count": 12,
   "id": "eac0f61f-9e01-492f-8352-341a0f7955f3",
   "metadata": {},
   "outputs": [],
   "source": [
    "characteristics_df = characteristics_df.fillna({input_cols[2]: 'No'})"
   ]
  },
  {
   "cell_type": "code",
   "execution_count": 13,
   "id": "40899967-91cb-4282-96da-0d28c260e081",
   "metadata": {},
   "outputs": [],
   "source": [
    "characteristics_df = characteristics_df.fillna({input_cols[4]: 'No'})"
   ]
  },
  {
   "cell_type": "code",
   "execution_count": 14,
   "id": "4219dc72-5578-4abf-904a-84e3394187a9",
   "metadata": {},
   "outputs": [],
   "source": [
    "characteristics_df = characteristics_df.fillna({input_cols[5]: 'No'})"
   ]
  },
  {
   "cell_type": "code",
   "execution_count": 15,
   "id": "c4eb123c-d678-42a3-9964-e74acbbc0fe7",
   "metadata": {},
   "outputs": [],
   "source": [
    "cleaned_df = characteristics_df.fillna({input_cols[6]: 'No'})"
   ]
  },
  {
   "cell_type": "code",
   "execution_count": 16,
   "id": "a28b5c6d-9753-48db-9347-4ddbfb07fdcd",
   "metadata": {},
   "outputs": [],
   "source": [
    "cleaned_df = cleaned_df.dropna()"
   ]
  },
  {
   "cell_type": "code",
   "execution_count": 17,
   "id": "068582dc-efda-4abc-8648-9a7ffb5a3c07",
   "metadata": {},
   "outputs": [
    {
     "data": {
      "text/plain": [
       "39"
      ]
     },
     "execution_count": 17,
     "metadata": {},
     "output_type": "execute_result"
    }
   ],
   "source": [
    "cleaned_df.rdd.getNumPartitions()"
   ]
  },
  {
   "cell_type": "code",
   "execution_count": 18,
   "id": "1f8d33ec-483b-4d83-b05c-87925e6d171d",
   "metadata": {},
   "outputs": [
    {
     "data": {
      "text/plain": [
       "DataFrame[County: string, Ethnic_Description: string, CommercialDataLL_Donates_to_Veterans_Causes: string, Precinct: string, CommercialDataLL_Gun_Owner: string, CommercialDataLL_Interest_in_Exercise_Health_In_Household: string, ElectionReturns_P16_Cnty_Vote_Trump_R: float, CommercialDataLL_Interest_in_Smoking_In_Household: string]"
      ]
     },
     "execution_count": 18,
     "metadata": {},
     "output_type": "execute_result"
    }
   ],
   "source": [
    "cleaned_df.repartition(100)"
   ]
  },
  {
   "cell_type": "code",
   "execution_count": 19,
   "id": "92b41e26-37ce-476f-8c44-3021cfcb1d5c",
   "metadata": {},
   "outputs": [
    {
     "data": {
      "text/plain": [
       "['County',\n",
       " 'Ethnic_Description',\n",
       " 'CommercialDataLL_Donates_to_Veterans_Causes',\n",
       " 'Precinct',\n",
       " 'CommercialDataLL_Gun_Owner',\n",
       " 'CommercialDataLL_Interest_in_Exercise_Health_In_Household',\n",
       " 'ElectionReturns_P16_Cnty_Vote_Trump_R',\n",
       " 'CommercialDataLL_Interest_in_Smoking_In_Household']"
      ]
     },
     "execution_count": 19,
     "metadata": {},
     "output_type": "execute_result"
    }
   ],
   "source": [
    "cleaned_df.columns"
   ]
  },
  {
   "cell_type": "code",
   "execution_count": 20,
   "id": "9a25acae-062d-4c35-a2fb-23fe6007c138",
   "metadata": {},
   "outputs": [],
   "source": [
    "voter_train, voter_test = cleaned_df.randomSplit([0.8, 0.2], seed = 1234)"
   ]
  },
  {
   "cell_type": "code",
   "execution_count": 21,
   "id": "acbc9806-86af-4c6b-b912-afb884358d7d",
   "metadata": {},
   "outputs": [],
   "source": [
    "idx_cols = []\n",
    "for j in input_cols:\n",
    "    j = j +'_idx'\n",
    "    idx_cols.append(j)"
   ]
  },
  {
   "cell_type": "code",
   "execution_count": 22,
   "id": "07638905-da03-4b64-a817-344fbca97b2c",
   "metadata": {},
   "outputs": [],
   "source": [
    "dummy_cols = []\n",
    "for j in input_cols:\n",
    "    j = j +'_dummy'\n",
    "    dummy_cols.append(j)"
   ]
  },
  {
   "cell_type": "code",
   "execution_count": 23,
   "id": "e7a2a003-0132-432d-a0d0-2f2c52013e0b",
   "metadata": {},
   "outputs": [],
   "source": [
    "#Convert categorical strings to index values\n",
    "indexer = StringIndexer(inputCols = input_cols, outputCols = idx_cols)\n",
    "\n"
   ]
  },
  {
   "cell_type": "code",
   "execution_count": 24,
   "id": "55c45f60-8ccb-4de4-9a92-ce8935eddc83",
   "metadata": {},
   "outputs": [],
   "source": [
    "# One-hot encode index values\n",
    "onehot = OneHotEncoder(\n",
    "    inputCols= idx_cols,\n",
    "    outputCols=dummy_cols)"
   ]
  },
  {
   "cell_type": "code",
   "execution_count": 25,
   "id": "a3ab99f9-df05-4525-ab7b-6407d28b7dd7",
   "metadata": {},
   "outputs": [
    {
     "name": "stderr",
     "output_type": "stream",
     "text": [
      "                                                                                \r"
     ]
    },
    {
     "ename": "KeyboardInterrupt",
     "evalue": "",
     "output_type": "error",
     "traceback": [
      "\u001b[0;31m---------------------------------------------------------------------------\u001b[0m",
      "\u001b[0;31mKeyboardInterrupt\u001b[0m                         Traceback (most recent call last)",
      "Cell \u001b[0;32mIn[25], line 1\u001b[0m\n\u001b[0;32m----> 1\u001b[0m \u001b[43mcleaned_df\u001b[49m\u001b[38;5;241;43m.\u001b[39;49m\u001b[43mshow\u001b[49m\u001b[43m(\u001b[49m\u001b[43m)\u001b[49m\n",
      "File \u001b[0;32m/usr/lib/spark/python/pyspark/sql/dataframe.py:484\u001b[0m, in \u001b[0;36mDataFrame.show\u001b[0;34m(self, n, truncate, vertical)\u001b[0m\n\u001b[1;32m    441\u001b[0m \u001b[38;5;250m\u001b[39m\u001b[38;5;124;03m\"\"\"Prints the first ``n`` rows to the console.\u001b[39;00m\n\u001b[1;32m    442\u001b[0m \n\u001b[1;32m    443\u001b[0m \u001b[38;5;124;03m.. versionadded:: 1.3.0\u001b[39;00m\n\u001b[0;32m   (...)\u001b[0m\n\u001b[1;32m    481\u001b[0m \u001b[38;5;124;03m name | Bob\u001b[39;00m\n\u001b[1;32m    482\u001b[0m \u001b[38;5;124;03m\"\"\"\u001b[39;00m\n\u001b[1;32m    483\u001b[0m \u001b[38;5;28;01mif\u001b[39;00m \u001b[38;5;28misinstance\u001b[39m(truncate, \u001b[38;5;28mbool\u001b[39m) \u001b[38;5;129;01mand\u001b[39;00m truncate:\n\u001b[0;32m--> 484\u001b[0m     \u001b[38;5;28mprint\u001b[39m(\u001b[38;5;28;43mself\u001b[39;49m\u001b[38;5;241;43m.\u001b[39;49m\u001b[43m_jdf\u001b[49m\u001b[38;5;241;43m.\u001b[39;49m\u001b[43mshowString\u001b[49m\u001b[43m(\u001b[49m\u001b[43mn\u001b[49m\u001b[43m,\u001b[49m\u001b[43m \u001b[49m\u001b[38;5;241;43m20\u001b[39;49m\u001b[43m,\u001b[49m\u001b[43m \u001b[49m\u001b[43mvertical\u001b[49m\u001b[43m)\u001b[49m)\n\u001b[1;32m    485\u001b[0m \u001b[38;5;28;01melse\u001b[39;00m:\n\u001b[1;32m    486\u001b[0m     \u001b[38;5;28mprint\u001b[39m(\u001b[38;5;28mself\u001b[39m\u001b[38;5;241m.\u001b[39m_jdf\u001b[38;5;241m.\u001b[39mshowString(n, \u001b[38;5;28mint\u001b[39m(truncate), vertical))\n",
      "File \u001b[0;32m/usr/lib/spark/python/lib/py4j-0.10.9-src.zip/py4j/java_gateway.py:1303\u001b[0m, in \u001b[0;36mJavaMember.__call__\u001b[0;34m(self, *args)\u001b[0m\n\u001b[1;32m   1296\u001b[0m args_command, temp_args \u001b[38;5;241m=\u001b[39m \u001b[38;5;28mself\u001b[39m\u001b[38;5;241m.\u001b[39m_build_args(\u001b[38;5;241m*\u001b[39margs)\n\u001b[1;32m   1298\u001b[0m command \u001b[38;5;241m=\u001b[39m proto\u001b[38;5;241m.\u001b[39mCALL_COMMAND_NAME \u001b[38;5;241m+\u001b[39m\\\n\u001b[1;32m   1299\u001b[0m     \u001b[38;5;28mself\u001b[39m\u001b[38;5;241m.\u001b[39mcommand_header \u001b[38;5;241m+\u001b[39m\\\n\u001b[1;32m   1300\u001b[0m     args_command \u001b[38;5;241m+\u001b[39m\\\n\u001b[1;32m   1301\u001b[0m     proto\u001b[38;5;241m.\u001b[39mEND_COMMAND_PART\n\u001b[0;32m-> 1303\u001b[0m answer \u001b[38;5;241m=\u001b[39m \u001b[38;5;28;43mself\u001b[39;49m\u001b[38;5;241;43m.\u001b[39;49m\u001b[43mgateway_client\u001b[49m\u001b[38;5;241;43m.\u001b[39;49m\u001b[43msend_command\u001b[49m\u001b[43m(\u001b[49m\u001b[43mcommand\u001b[49m\u001b[43m)\u001b[49m\n\u001b[1;32m   1304\u001b[0m return_value \u001b[38;5;241m=\u001b[39m get_return_value(\n\u001b[1;32m   1305\u001b[0m     answer, \u001b[38;5;28mself\u001b[39m\u001b[38;5;241m.\u001b[39mgateway_client, \u001b[38;5;28mself\u001b[39m\u001b[38;5;241m.\u001b[39mtarget_id, \u001b[38;5;28mself\u001b[39m\u001b[38;5;241m.\u001b[39mname)\n\u001b[1;32m   1307\u001b[0m \u001b[38;5;28;01mfor\u001b[39;00m temp_arg \u001b[38;5;129;01min\u001b[39;00m temp_args:\n",
      "File \u001b[0;32m/usr/lib/spark/python/lib/py4j-0.10.9-src.zip/py4j/java_gateway.py:1033\u001b[0m, in \u001b[0;36mGatewayClient.send_command\u001b[0;34m(self, command, retry, binary)\u001b[0m\n\u001b[1;32m   1031\u001b[0m connection \u001b[38;5;241m=\u001b[39m \u001b[38;5;28mself\u001b[39m\u001b[38;5;241m.\u001b[39m_get_connection()\n\u001b[1;32m   1032\u001b[0m \u001b[38;5;28;01mtry\u001b[39;00m:\n\u001b[0;32m-> 1033\u001b[0m     response \u001b[38;5;241m=\u001b[39m \u001b[43mconnection\u001b[49m\u001b[38;5;241;43m.\u001b[39;49m\u001b[43msend_command\u001b[49m\u001b[43m(\u001b[49m\u001b[43mcommand\u001b[49m\u001b[43m)\u001b[49m\n\u001b[1;32m   1034\u001b[0m     \u001b[38;5;28;01mif\u001b[39;00m binary:\n\u001b[1;32m   1035\u001b[0m         \u001b[38;5;28;01mreturn\u001b[39;00m response, \u001b[38;5;28mself\u001b[39m\u001b[38;5;241m.\u001b[39m_create_connection_guard(connection)\n",
      "File \u001b[0;32m/usr/lib/spark/python/lib/py4j-0.10.9-src.zip/py4j/java_gateway.py:1200\u001b[0m, in \u001b[0;36mGatewayConnection.send_command\u001b[0;34m(self, command)\u001b[0m\n\u001b[1;32m   1196\u001b[0m     \u001b[38;5;28;01mraise\u001b[39;00m Py4JNetworkError(\n\u001b[1;32m   1197\u001b[0m         \u001b[38;5;124m\"\u001b[39m\u001b[38;5;124mError while sending\u001b[39m\u001b[38;5;124m\"\u001b[39m, e, proto\u001b[38;5;241m.\u001b[39mERROR_ON_SEND)\n\u001b[1;32m   1199\u001b[0m \u001b[38;5;28;01mtry\u001b[39;00m:\n\u001b[0;32m-> 1200\u001b[0m     answer \u001b[38;5;241m=\u001b[39m smart_decode(\u001b[38;5;28;43mself\u001b[39;49m\u001b[38;5;241;43m.\u001b[39;49m\u001b[43mstream\u001b[49m\u001b[38;5;241;43m.\u001b[39;49m\u001b[43mreadline\u001b[49m\u001b[43m(\u001b[49m\u001b[43m)\u001b[49m[:\u001b[38;5;241m-\u001b[39m\u001b[38;5;241m1\u001b[39m])\n\u001b[1;32m   1201\u001b[0m     logger\u001b[38;5;241m.\u001b[39mdebug(\u001b[38;5;124m\"\u001b[39m\u001b[38;5;124mAnswer received: \u001b[39m\u001b[38;5;132;01m{0}\u001b[39;00m\u001b[38;5;124m\"\u001b[39m\u001b[38;5;241m.\u001b[39mformat(answer))\n\u001b[1;32m   1202\u001b[0m     \u001b[38;5;28;01mif\u001b[39;00m answer\u001b[38;5;241m.\u001b[39mstartswith(proto\u001b[38;5;241m.\u001b[39mRETURN_MESSAGE):\n",
      "File \u001b[0;32m/opt/conda/miniconda3/lib/python3.8/socket.py:669\u001b[0m, in \u001b[0;36mSocketIO.readinto\u001b[0;34m(self, b)\u001b[0m\n\u001b[1;32m    667\u001b[0m \u001b[38;5;28;01mwhile\u001b[39;00m \u001b[38;5;28;01mTrue\u001b[39;00m:\n\u001b[1;32m    668\u001b[0m     \u001b[38;5;28;01mtry\u001b[39;00m:\n\u001b[0;32m--> 669\u001b[0m         \u001b[38;5;28;01mreturn\u001b[39;00m \u001b[38;5;28;43mself\u001b[39;49m\u001b[38;5;241;43m.\u001b[39;49m\u001b[43m_sock\u001b[49m\u001b[38;5;241;43m.\u001b[39;49m\u001b[43mrecv_into\u001b[49m\u001b[43m(\u001b[49m\u001b[43mb\u001b[49m\u001b[43m)\u001b[49m\n\u001b[1;32m    670\u001b[0m     \u001b[38;5;28;01mexcept\u001b[39;00m timeout:\n\u001b[1;32m    671\u001b[0m         \u001b[38;5;28mself\u001b[39m\u001b[38;5;241m.\u001b[39m_timeout_occurred \u001b[38;5;241m=\u001b[39m \u001b[38;5;28;01mTrue\u001b[39;00m\n",
      "\u001b[0;31mKeyboardInterrupt\u001b[0m: "
     ]
    }
   ],
   "source": [
    "cleaned_df.show()"
   ]
  },
  {
   "cell_type": "code",
   "execution_count": 26,
   "id": "468cd86f-18fd-43c6-b464-e6b257a6033e",
   "metadata": {},
   "outputs": [],
   "source": [
    "# Assemble predictors into a single column\n",
    "assembler = VectorAssembler(inputCols=dummy_cols, outputCol='features')"
   ]
  },
  {
   "cell_type": "code",
   "execution_count": 27,
   "id": "4063be26-d38c-4949-b1d9-d1b191e41fc8",
   "metadata": {},
   "outputs": [],
   "source": [
    "regression = LinearRegression(labelCol = 'ElectionReturns_P16_Cnty_Vote_Trump_R')"
   ]
  },
  {
   "cell_type": "code",
   "execution_count": 28,
   "id": "95fa8970-948c-46c8-ab98-498ca066575e",
   "metadata": {},
   "outputs": [
    {
     "name": "stderr",
     "output_type": "stream",
     "text": [
      "23/03/10 06:10:55 WARN org.apache.spark.scheduler.DAGScheduler: Broadcasting large task binary with size 4.2 MiB\n",
      "23/03/10 06:14:36 WARN org.apache.spark.scheduler.DAGScheduler: Broadcasting large task binary with size 4.2 MiB\n",
      "23/03/10 06:14:38 WARN org.apache.spark.scheduler.DAGScheduler: Broadcasting large task binary with size 4.2 MiB\n",
      "23/03/10 06:18:10 WARN org.apache.spark.scheduler.DAGScheduler: Broadcasting large task binary with size 4.2 MiB\n",
      "23/03/10 06:18:10 WARN com.github.fommil.netlib.BLAS: Failed to load implementation from: com.github.fommil.netlib.NativeSystemBLAS\n",
      "23/03/10 06:18:10 WARN com.github.fommil.netlib.BLAS: Failed to load implementation from: com.github.fommil.netlib.NativeRefBLAS\n",
      "23/03/10 06:18:11 WARN org.apache.spark.scheduler.DAGScheduler: Broadcasting large task binary with size 4.2 MiB\n",
      "23/03/10 06:18:15 WARN org.apache.spark.scheduler.DAGScheduler: Broadcasting large task binary with size 4.2 MiB\n",
      "23/03/10 06:18:16 WARN org.apache.spark.scheduler.DAGScheduler: Broadcasting large task binary with size 4.2 MiB\n",
      "23/03/10 06:18:18 WARN org.apache.spark.scheduler.DAGScheduler: Broadcasting large task binary with size 4.2 MiB\n",
      "23/03/10 06:18:19 WARN org.apache.spark.scheduler.DAGScheduler: Broadcasting large task binary with size 4.2 MiB\n",
      "23/03/10 06:18:22 WARN org.apache.spark.scheduler.DAGScheduler: Broadcasting large task binary with size 4.2 MiB\n",
      "23/03/10 06:18:22 WARN org.apache.spark.scheduler.DAGScheduler: Broadcasting large task binary with size 4.2 MiB\n",
      "23/03/10 06:18:25 WARN org.apache.spark.scheduler.DAGScheduler: Broadcasting large task binary with size 4.2 MiB\n",
      "23/03/10 06:18:26 WARN org.apache.spark.scheduler.DAGScheduler: Broadcasting large task binary with size 4.2 MiB\n",
      "23/03/10 06:18:29 WARN org.apache.spark.scheduler.DAGScheduler: Broadcasting large task binary with size 4.2 MiB\n",
      "23/03/10 06:18:29 WARN org.apache.spark.scheduler.DAGScheduler: Broadcasting large task binary with size 4.2 MiB\n",
      "23/03/10 06:18:32 WARN org.apache.spark.scheduler.DAGScheduler: Broadcasting large task binary with size 4.2 MiB\n",
      "23/03/10 06:18:32 WARN org.apache.spark.scheduler.DAGScheduler: Broadcasting large task binary with size 4.2 MiB\n",
      "23/03/10 06:18:35 WARN org.apache.spark.scheduler.DAGScheduler: Broadcasting large task binary with size 4.2 MiB\n",
      "23/03/10 06:18:36 WARN org.apache.spark.scheduler.DAGScheduler: Broadcasting large task binary with size 4.2 MiB\n",
      "23/03/10 06:18:38 WARN org.apache.spark.scheduler.DAGScheduler: Broadcasting large task binary with size 4.2 MiB\n",
      "23/03/10 06:18:39 WARN org.apache.spark.scheduler.DAGScheduler: Broadcasting large task binary with size 4.2 MiB\n",
      "23/03/10 06:18:41 WARN org.apache.spark.scheduler.DAGScheduler: Broadcasting large task binary with size 4.2 MiB\n",
      "23/03/10 06:18:42 WARN org.apache.spark.scheduler.DAGScheduler: Broadcasting large task binary with size 4.2 MiB\n",
      "23/03/10 06:18:45 WARN org.apache.spark.scheduler.DAGScheduler: Broadcasting large task binary with size 4.2 MiB\n",
      "23/03/10 06:18:45 WARN org.apache.spark.scheduler.DAGScheduler: Broadcasting large task binary with size 4.2 MiB\n",
      "23/03/10 06:18:48 WARN org.apache.spark.scheduler.DAGScheduler: Broadcasting large task binary with size 4.2 MiB\n",
      "23/03/10 06:18:48 WARN org.apache.spark.scheduler.DAGScheduler: Broadcasting large task binary with size 4.2 MiB\n",
      "23/03/10 06:18:51 WARN org.apache.spark.scheduler.DAGScheduler: Broadcasting large task binary with size 4.2 MiB\n",
      "23/03/10 06:18:51 WARN org.apache.spark.scheduler.DAGScheduler: Broadcasting large task binary with size 4.2 MiB\n",
      "23/03/10 06:18:54 WARN org.apache.spark.scheduler.DAGScheduler: Broadcasting large task binary with size 4.2 MiB\n",
      "23/03/10 06:18:55 WARN org.apache.spark.scheduler.DAGScheduler: Broadcasting large task binary with size 4.2 MiB\n",
      "23/03/10 06:18:58 WARN org.apache.spark.scheduler.DAGScheduler: Broadcasting large task binary with size 4.2 MiB\n",
      "23/03/10 06:18:59 WARN org.apache.spark.scheduler.DAGScheduler: Broadcasting large task binary with size 4.2 MiB\n",
      "23/03/10 06:19:02 WARN org.apache.spark.scheduler.DAGScheduler: Broadcasting large task binary with size 4.2 MiB\n",
      "23/03/10 06:19:02 WARN org.apache.spark.scheduler.DAGScheduler: Broadcasting large task binary with size 4.2 MiB\n",
      "23/03/10 06:19:05 WARN org.apache.spark.scheduler.DAGScheduler: Broadcasting large task binary with size 4.2 MiB\n",
      "23/03/10 06:19:05 WARN org.apache.spark.scheduler.DAGScheduler: Broadcasting large task binary with size 4.2 MiB\n",
      "23/03/10 06:19:08 WARN org.apache.spark.scheduler.DAGScheduler: Broadcasting large task binary with size 4.2 MiB\n",
      "23/03/10 06:19:09 WARN org.apache.spark.scheduler.DAGScheduler: Broadcasting large task binary with size 4.2 MiB\n",
      "23/03/10 06:19:11 WARN org.apache.spark.scheduler.DAGScheduler: Broadcasting large task binary with size 4.2 MiB\n",
      "23/03/10 06:19:12 WARN org.apache.spark.scheduler.DAGScheduler: Broadcasting large task binary with size 4.2 MiB\n",
      "23/03/10 06:19:14 WARN org.apache.spark.scheduler.DAGScheduler: Broadcasting large task binary with size 4.2 MiB\n",
      "23/03/10 06:19:15 WARN org.apache.spark.scheduler.DAGScheduler: Broadcasting large task binary with size 4.2 MiB\n",
      "23/03/10 06:19:18 WARN org.apache.spark.scheduler.DAGScheduler: Broadcasting large task binary with size 4.2 MiB\n",
      "23/03/10 06:19:18 WARN org.apache.spark.scheduler.DAGScheduler: Broadcasting large task binary with size 4.2 MiB\n",
      "23/03/10 06:19:21 WARN org.apache.spark.scheduler.DAGScheduler: Broadcasting large task binary with size 4.2 MiB\n",
      "23/03/10 06:19:21 WARN org.apache.spark.scheduler.DAGScheduler: Broadcasting large task binary with size 4.2 MiB\n",
      "23/03/10 06:19:24 WARN org.apache.spark.scheduler.DAGScheduler: Broadcasting large task binary with size 4.2 MiB\n",
      "23/03/10 06:19:24 WARN org.apache.spark.scheduler.DAGScheduler: Broadcasting large task binary with size 4.2 MiB\n",
      "23/03/10 06:19:27 WARN org.apache.spark.scheduler.DAGScheduler: Broadcasting large task binary with size 4.2 MiB\n",
      "23/03/10 06:19:28 WARN org.apache.spark.scheduler.DAGScheduler: Broadcasting large task binary with size 4.2 MiB\n",
      "23/03/10 06:19:30 WARN org.apache.spark.scheduler.DAGScheduler: Broadcasting large task binary with size 4.2 MiB\n",
      "23/03/10 06:19:31 WARN org.apache.spark.scheduler.DAGScheduler: Broadcasting large task binary with size 4.2 MiB\n",
      "23/03/10 06:19:33 WARN org.apache.spark.scheduler.DAGScheduler: Broadcasting large task binary with size 4.2 MiB\n",
      "23/03/10 06:19:34 WARN org.apache.spark.scheduler.DAGScheduler: Broadcasting large task binary with size 4.2 MiB\n",
      "23/03/10 06:19:37 WARN org.apache.spark.scheduler.DAGScheduler: Broadcasting large task binary with size 4.2 MiB\n",
      "23/03/10 06:19:37 WARN org.apache.spark.scheduler.DAGScheduler: Broadcasting large task binary with size 4.2 MiB\n",
      "23/03/10 06:19:40 WARN org.apache.spark.scheduler.DAGScheduler: Broadcasting large task binary with size 4.2 MiB\n",
      "23/03/10 06:19:40 WARN org.apache.spark.scheduler.DAGScheduler: Broadcasting large task binary with size 4.2 MiB\n",
      "23/03/10 06:19:43 WARN org.apache.spark.scheduler.DAGScheduler: Broadcasting large task binary with size 4.2 MiB\n",
      "23/03/10 06:19:43 WARN org.apache.spark.scheduler.DAGScheduler: Broadcasting large task binary with size 4.2 MiB\n",
      "23/03/10 06:19:46 WARN org.apache.spark.scheduler.DAGScheduler: Broadcasting large task binary with size 4.2 MiB\n",
      "23/03/10 06:19:47 WARN org.apache.spark.scheduler.DAGScheduler: Broadcasting large task binary with size 4.2 MiB\n",
      "23/03/10 06:19:49 WARN org.apache.spark.scheduler.DAGScheduler: Broadcasting large task binary with size 4.2 MiB\n",
      "23/03/10 06:19:50 WARN org.apache.spark.scheduler.DAGScheduler: Broadcasting large task binary with size 4.2 MiB\n",
      "23/03/10 06:19:52 WARN org.apache.spark.scheduler.DAGScheduler: Broadcasting large task binary with size 4.2 MiB\n",
      "23/03/10 06:19:53 WARN org.apache.spark.scheduler.DAGScheduler: Broadcasting large task binary with size 4.2 MiB\n",
      "23/03/10 06:19:55 WARN org.apache.spark.scheduler.DAGScheduler: Broadcasting large task binary with size 4.2 MiB\n",
      "23/03/10 06:19:56 WARN org.apache.spark.scheduler.DAGScheduler: Broadcasting large task binary with size 4.2 MiB\n",
      "23/03/10 06:19:58 WARN org.apache.spark.scheduler.DAGScheduler: Broadcasting large task binary with size 4.2 MiB\n",
      "23/03/10 06:19:59 WARN org.apache.spark.scheduler.DAGScheduler: Broadcasting large task binary with size 4.2 MiB\n",
      "23/03/10 06:20:02 WARN org.apache.spark.scheduler.DAGScheduler: Broadcasting large task binary with size 4.2 MiB\n",
      "23/03/10 06:20:02 WARN org.apache.spark.scheduler.DAGScheduler: Broadcasting large task binary with size 4.2 MiB\n",
      "23/03/10 06:20:05 WARN org.apache.spark.scheduler.DAGScheduler: Broadcasting large task binary with size 4.2 MiB\n",
      "23/03/10 06:20:05 WARN org.apache.spark.scheduler.DAGScheduler: Broadcasting large task binary with size 4.2 MiB\n",
      "23/03/10 06:20:08 WARN org.apache.spark.scheduler.DAGScheduler: Broadcasting large task binary with size 4.2 MiB\n",
      "23/03/10 06:20:08 WARN org.apache.spark.scheduler.DAGScheduler: Broadcasting large task binary with size 4.2 MiB\n",
      "23/03/10 06:20:11 WARN org.apache.spark.scheduler.DAGScheduler: Broadcasting large task binary with size 4.2 MiB\n",
      "23/03/10 06:20:11 WARN org.apache.spark.scheduler.DAGScheduler: Broadcasting large task binary with size 4.2 MiB\n",
      "23/03/10 06:20:14 WARN org.apache.spark.scheduler.DAGScheduler: Broadcasting large task binary with size 4.2 MiB\n",
      "23/03/10 06:20:15 WARN org.apache.spark.scheduler.DAGScheduler: Broadcasting large task binary with size 4.2 MiB\n",
      "23/03/10 06:20:17 WARN org.apache.spark.scheduler.DAGScheduler: Broadcasting large task binary with size 4.2 MiB\n",
      "23/03/10 06:20:18 WARN org.apache.spark.scheduler.DAGScheduler: Broadcasting large task binary with size 4.2 MiB\n",
      "23/03/10 06:20:20 WARN org.apache.spark.scheduler.DAGScheduler: Broadcasting large task binary with size 4.2 MiB\n",
      "23/03/10 06:20:21 WARN org.apache.spark.scheduler.DAGScheduler: Broadcasting large task binary with size 4.2 MiB\n",
      "23/03/10 06:20:23 WARN org.apache.spark.scheduler.DAGScheduler: Broadcasting large task binary with size 4.2 MiB\n",
      "23/03/10 06:20:24 WARN org.apache.spark.scheduler.DAGScheduler: Broadcasting large task binary with size 4.2 MiB\n",
      "23/03/10 06:20:26 WARN org.apache.spark.scheduler.DAGScheduler: Broadcasting large task binary with size 4.2 MiB\n",
      "23/03/10 06:20:27 WARN org.apache.spark.scheduler.DAGScheduler: Broadcasting large task binary with size 4.2 MiB\n",
      "23/03/10 06:20:29 WARN org.apache.spark.scheduler.DAGScheduler: Broadcasting large task binary with size 4.2 MiB\n",
      "23/03/10 06:20:30 WARN org.apache.spark.scheduler.DAGScheduler: Broadcasting large task binary with size 4.2 MiB\n",
      "23/03/10 06:20:33 WARN org.apache.spark.scheduler.DAGScheduler: Broadcasting large task binary with size 4.2 MiB\n",
      "23/03/10 06:20:33 WARN org.apache.spark.scheduler.DAGScheduler: Broadcasting large task binary with size 4.2 MiB\n",
      "23/03/10 06:20:36 WARN org.apache.spark.scheduler.DAGScheduler: Broadcasting large task binary with size 4.2 MiB\n",
      "23/03/10 06:20:36 WARN org.apache.spark.scheduler.DAGScheduler: Broadcasting large task binary with size 4.2 MiB\n",
      "23/03/10 06:20:39 WARN org.apache.spark.scheduler.DAGScheduler: Broadcasting large task binary with size 4.2 MiB\n",
      "23/03/10 06:20:39 WARN org.apache.spark.scheduler.DAGScheduler: Broadcasting large task binary with size 4.2 MiB\n",
      "23/03/10 06:20:42 WARN org.apache.spark.scheduler.DAGScheduler: Broadcasting large task binary with size 4.2 MiB\n",
      "23/03/10 06:20:43 WARN org.apache.spark.scheduler.DAGScheduler: Broadcasting large task binary with size 4.5 MiB\n",
      "23/03/10 06:24:05 WARN org.apache.spark.scheduler.DAGScheduler: Broadcasting large task binary with size 4.5 MiB\n",
      "                                                                                \r"
     ]
    }
   ],
   "source": [
    "pipeline = Pipeline(stages=[indexer, onehot, assembler, regression])\n",
    "\n",
    "# Train the pipeline on the training data\n",
    "pipeline = pipeline.fit(voter_train)\n",
    "\n",
    "# Make predictions on the testing data\n",
    "# predictions = pipeline.transform(voter_test)"
   ]
  },
  {
   "cell_type": "code",
   "execution_count": null,
   "id": "86609f62-c0ba-4535-9ecf-405749a7b868",
   "metadata": {},
   "outputs": [],
   "source": []
  },
  {
   "cell_type": "code",
   "execution_count": null,
   "id": "8cb454ea-4436-4563-86fa-a9b9a310ff7b",
   "metadata": {},
   "outputs": [],
   "source": []
  },
  {
   "cell_type": "markdown",
   "id": "4a39c54f-77d8-417a-a805-db09add4876f",
   "metadata": {},
   "source": [
    "We can see here that the dataframe has 1848404 missing rows for Ethnic Description out of 21779518"
   ]
  },
  {
   "cell_type": "code",
   "execution_count": null,
   "id": "d4eb99ab-8ef7-480c-b7f1-b13d69d60157",
   "metadata": {},
   "outputs": [],
   "source": [
    "valid_df = characteristics_df.dropna()"
   ]
  },
  {
   "cell_type": "code",
   "execution_count": null,
   "id": "aead49f4-683a-42ec-9f97-678e462f01c7",
   "metadata": {},
   "outputs": [],
   "source": [
    "valid_df.count()"
   ]
  },
  {
   "cell_type": "markdown",
   "id": "e861284c-ac17-4986-a604-76775e9b5f75",
   "metadata": {},
   "source": [
    "When we drop the NA values from the dataframe we only have 14066 rows which means that we had a lot of missing data"
   ]
  },
  {
   "cell_type": "markdown",
   "id": "1d7b1d36-0358-41ce-8c26-a05849a3e8cc",
   "metadata": {},
   "source": [
    "-So now we want to see what the unique values are for each of the distinct columns to see how to deal with categorical variables"
   ]
  },
  {
   "cell_type": "code",
   "execution_count": null,
   "id": "c9a996a6-7bc9-49b2-9645-e2068f19b524",
   "metadata": {},
   "outputs": [],
   "source": [
    "valid_df.select('Ethnic_Description').distinct().show()"
   ]
  },
  {
   "cell_type": "code",
   "execution_count": null,
   "id": "d0e912e9-2bb7-40ea-a999-ab4e7f23ab2b",
   "metadata": {},
   "outputs": [],
   "source": [
    "vetarans_col_vals = valid_df.select('CommercialDataLL_Donates_to_Veterans_Causes').distinct().collect()"
   ]
  },
  {
   "cell_type": "code",
   "execution_count": null,
   "id": "7fcf2967-5c34-41ab-a681-b64e4a8fdc07",
   "metadata": {},
   "outputs": [],
   "source": [
    "precinct_col_vals = valid_df.select('Precinct').distinct().collect()"
   ]
  },
  {
   "cell_type": "code",
   "execution_count": null,
   "id": "4dd2faf8-2aa8-40c3-8467-8081eadb448d",
   "metadata": {},
   "outputs": [],
   "source": [
    "gunowner_col_vals = valid_df.select('CommercialDataLL_Gun_Owner').distinct().collect()"
   ]
  },
  {
   "cell_type": "code",
   "execution_count": null,
   "id": "eef6d3af-c7ed-4d2b-a6eb-3dc4c4256990",
   "metadata": {},
   "outputs": [],
   "source": [
    "exercise_health_col_vals =valid_df.select('CommercialDataLL_Interest_in_Exercise_Health_In_Household').distinct().collect()"
   ]
  },
  {
   "cell_type": "code",
   "execution_count": null,
   "id": "eb7929cc-0461-4612-a6ce-4749b75314cb",
   "metadata": {},
   "outputs": [],
   "source": [
    "smoking_col_vals = valid_df.select('CommercialDataLL_Interest_in_Smoking_In_Household').distinct().collect()"
   ]
  },
  {
   "cell_type": "code",
   "execution_count": null,
   "id": "3347624d-00fb-4888-a65e-4ed72d87e44c",
   "metadata": {},
   "outputs": [],
   "source": [
    "for x in precinct_col_vals:\n",
    "    print(x[0])"
   ]
  },
  {
   "cell_type": "code",
   "execution_count": null,
   "id": "d98f56a2-7df1-4154-a9da-56a28810045a",
   "metadata": {},
   "outputs": [],
   "source": [
    "smoking_col_vals[0]"
   ]
  },
  {
   "cell_type": "code",
   "execution_count": null,
   "id": "4bba0ddf-24b3-40af-9716-a9f2ff8a9595",
   "metadata": {},
   "outputs": [],
   "source": [
    "gunowner_col_vals"
   ]
  },
  {
   "cell_type": "code",
   "execution_count": null,
   "id": "933ee728-c973-4af6-8f1c-233e62746c2b",
   "metadata": {},
   "outputs": [],
   "source": [
    "returns_df = CA_df_branson.select('ElectionReturns_G10CountyTurnoutAllRegisteredVoters')\n",
    "distinct_vals_returns  = returns_df.distinct()\n",
    "collect1 = distinct_vals_returns.collect()\n",
    "collect1.show()"
   ]
  },
  {
   "cell_type": "code",
   "execution_count": null,
   "id": "f9e90e5c-6f1d-4f2a-bdb7-63d561dcf817",
   "metadata": {},
   "outputs": [],
   "source": [
    "test_df1 = CA_df_branson.select(['County',\"ElectionReturns_G12CountyTurnoutDemocrats\"])"
   ]
  },
  {
   "cell_type": "code",
   "execution_count": null,
   "id": "dab4876c-ac6f-4ba1-ae75-cf4f7e14a210",
   "metadata": {},
   "outputs": [],
   "source": [
    "test_df1"
   ]
  },
  {
   "cell_type": "code",
   "execution_count": null,
   "id": "32cb3d5e-2b44-4e6f-a10a-19e69029cf97",
   "metadata": {},
   "outputs": [],
   "source": []
  }
 ],
 "metadata": {
  "kernelspec": {
   "display_name": "PySpark",
   "language": "python",
   "name": "pyspark"
  },
  "language_info": {
   "codemirror_mode": {
    "name": "ipython",
    "version": 3
   },
   "file_extension": ".py",
   "mimetype": "text/x-python",
   "name": "python",
   "nbconvert_exporter": "python",
   "pygments_lexer": "ipython3",
   "version": "3.8.15"
  }
 },
 "nbformat": 4,
 "nbformat_minor": 5
}